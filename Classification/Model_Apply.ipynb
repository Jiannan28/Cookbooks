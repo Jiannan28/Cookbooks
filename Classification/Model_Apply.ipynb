{
 "cells": [
  {
   "cell_type": "markdown",
   "metadata": {},
   "source": [
    "# <center>Data Science Training - AXA Data Innovation Lab</center>\n",
    "<center><b>Model Apply Template</b><br>\n",
    "Jiannan, 2016</center>"
   ]
  },
  {
   "cell_type": "code",
   "execution_count": 12,
   "metadata": {
    "collapsed": false
   },
   "outputs": [],
   "source": [
    "import numpy as np\n",
    "import pandas as pd\n",
    "\n",
    "import sklearn as sk\n",
    "from sklearn.externals import joblib\n",
    "import xgboost as xgb\n",
    "\n",
    "%matplotlib inline\n",
    "import matplotlib.pyplot as plt\n",
    "\n",
    "from __future__ import division\n",
    "from __future__ import print_function"
   ]
  },
  {
   "cell_type": "markdown",
   "metadata": {},
   "source": [
    "# Read file"
   ]
  },
  {
   "cell_type": "code",
   "execution_count": 2,
   "metadata": {
    "collapsed": false
   },
   "outputs": [],
   "source": [
    "dataset_modelA_clean = pd.read_csv(\"/group/axa_thai/jiannan/AXAKT_Delivery/Data/dataset_2016-05.csv\",sep=\"|\",na_values=[\"\\N\", \"NULL\"])\n",
    "#input file path"
   ]
  },
  {
   "cell_type": "markdown",
   "metadata": {},
   "source": [
    "# Get Feature columns"
   ]
  },
  {
   "cell_type": "code",
   "execution_count": 3,
   "metadata": {
    "collapsed": false
   },
   "outputs": [
    {
     "name": "stdout",
     "output_type": "stream",
     "text": [
      "38\n"
     ]
    }
   ],
   "source": [
    "ALL_TARGETS = ['target_all']\n",
    "\n",
    "targeting_features_file = '/group/axa_thai/jiannan/AXAKT_Delivery/Cols/short_modelA_targeting_features.csv' #'feature_columns_metadata_path' \n",
    "feature_df_targeting = pd.read_csv(targeting_features_file,na_values=[\"\\N\",\"NULL\"])\n",
    "\n",
    "feature_columns = feature_df_targeting.targeting_features.tolist()\n",
    "\n",
    "print(len(feature_columns))"
   ]
  },
  {
   "cell_type": "code",
   "execution_count": 4,
   "metadata": {
    "collapsed": false
   },
   "outputs": [],
   "source": [
    "# prepare for applying dataset for predicting \n",
    "dataset_modelA_clean_targeting = dataset_modelA_clean[feature_columns].copy()"
   ]
  },
  {
   "cell_type": "markdown",
   "metadata": {
    "collapsed": true
   },
   "source": [
    "# Apply targeting ModelA"
   ]
  },
  {
   "cell_type": "code",
   "execution_count": 5,
   "metadata": {
    "collapsed": false
   },
   "outputs": [
    {
     "name": "stdout",
     "output_type": "stream",
     "text": [
      "READING MODELA PICKLE\n"
     ]
    }
   ],
   "source": [
    "print('READING MODELA PICKLE')\n",
    "clf_targeting = joblib.load('/group/axa_thai/jiannan/test_model.pkl')"
   ]
  },
  {
   "cell_type": "code",
   "execution_count": 8,
   "metadata": {
    "collapsed": false,
    "scrolled": true
   },
   "outputs": [
    {
     "name": "stdout",
     "output_type": "stream",
     "text": [
      "APPLY PREDICTING MODEL\n"
     ]
    }
   ],
   "source": [
    "print('APPLY PREDICTING MODEL')\n",
    "results = dataset_modelA_clean_targeting[['svocmasterid']].copy()\n",
    "\n",
    "test_X = dataset_modelA_clean_targeting[feature_columns].drop(['svocmasterid'], axis=1).reset_index(drop=True)\n",
    "_probas = clf_targeting.predict_proba(test_X)\n",
    "\n",
    "proba = _probas[:, 1]\n",
    "cols = ['proba_target_all']\n",
    "proba_df = pd.DataFrame(data=proba, index=dataset_modelA_clean_targeting[feature_columns].index, columns=cols)\n",
    "results = pd.concat([results, proba_df], axis=1)"
   ]
  },
  {
   "cell_type": "code",
   "execution_count": 15,
   "metadata": {
    "collapsed": false
   },
   "outputs": [
    {
     "data": {
      "image/png": "[encoded data removed]",
      "text/plain": [
       "<matplotlib.figure.Figure at 0x7f3527795a90>"
      ]
     },
     "metadata": {},
     "output_type": "display_data"
    }
   ],
   "source": [
    "#proba distribution for all customers\n",
    "\n",
    "plt.hist(results.proba_target_all, range=(0, 1), bins=100, label=\"proba distribution\", histtype=\"step\", lw=2)\n",
    "plt.xlabel(\"Mean predicted value\")\n",
    "plt.ylabel(\"Count\")\n",
    "plt.title('Proba distribution')\n",
    "plt.grid(True)\n",
    "\n",
    "plt.show()"
   ]
  },
  {
   "cell_type": "code",
   "execution_count": 10,
   "metadata": {
    "collapsed": true
   },
   "outputs": [],
   "source": [
    "results.to_csv('/group/axa_thai/jiannan/test_final_scores.csv', sep='|', index=False)"
   ]
  },
  {
   "cell_type": "code",
   "execution_count": null,
   "metadata": {
    "collapsed": true
   },
   "outputs": [],
   "source": []
  }
 ],
 "metadata": {
  "kernelspec": {
   "display_name": "grey",
   "language": "python",
   "name": "py27kernel"
  },
  "language_info": {
   "codemirror_mode": {
    "name": "ipython",
    "version": 2
   },
   "file_extension": ".py",
   "mimetype": "text/x-python",
   "name": "python",
   "nbconvert_exporter": "python",
   "pygments_lexer": "ipython2",
   "version": "2.7.11"
  }
 },
 "nbformat": 4,
 "nbformat_minor": 0
}
