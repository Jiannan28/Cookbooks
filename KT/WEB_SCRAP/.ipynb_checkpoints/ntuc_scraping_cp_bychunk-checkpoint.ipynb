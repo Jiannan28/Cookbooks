{
 "cells": [
  {
   "cell_type": "code",
   "execution_count": 12,
   "metadata": {
    "collapsed": true
   },
   "outputs": [],
   "source": [
    "import selenium\n",
    "from bs4 import BeautifulSoup\n",
    "import urllib2\n",
    "import json\n",
    "\n",
    "import re\n",
    "from selenium import webdriver\n",
    "from selenium.webdriver.support.ui import Select\n",
    "import time\n",
    "\n",
    "import pandas as pd\n",
    "import numpy as np"
   ]
  },
  {
   "cell_type": "markdown",
   "metadata": {},
   "source": [
    "## Define values for combinations"
   ]
  },
  {
   "cell_type": "code",
   "execution_count": 13,
   "metadata": {
    "collapsed": true
   },
   "outputs": [],
   "source": [
    "CAR_MODEL = ['TOYOTA COROLLA ALTIS','HONDA CIVIC']\n",
    "CAR_ENGINE = ['1600','1700']\n",
    "CAR_REGIS = ['2016','2017']\n",
    "OFF_PEAK = ['YES','NO'] \n",
    "GENDER = ['MALE','FEMALE']\n",
    "MARITAL = ['SINGLE','MARRIED']\n",
    "BIRTHDATE = ['01/01/1993','01/01/1983']\n",
    "DRI_EXP = ['LESS_TWO','MORE_TWO']\n",
    "CLM_PST = ['YES','NO']\n",
    "#NCD = [0,20]"
   ]
  },
  {
   "cell_type": "markdown",
   "metadata": {},
   "source": [
    "## Create combination dataframe"
   ]
  },
  {
   "cell_type": "code",
   "execution_count": 14,
   "metadata": {
    "collapsed": true
   },
   "outputs": [],
   "source": [
    "df_model = pd.DataFrame(data = ['TOYOTA COROLLA ALTIS','HONDA CIVIC'], columns=['CAR_MODEL'])\n",
    "df_model['tmp_key'] = 1\n",
    "\n",
    "df_engine = pd.DataFrame(data = ['1600','1700'], columns=['CAR_ENGINE'])\n",
    "df_engine['tmp_key'] = 1\n",
    "\n",
    "df_regis = pd.DataFrame(data = ['2016','2017'], columns=['CAR_REGIS'])\n",
    "df_regis['tmp_key'] = 1\n",
    "\n",
    "df_offpeak = pd.DataFrame(data = ['YES','NO'], columns=['OFF_PEAK'])\n",
    "df_offpeak['tmp_key'] = 1\n",
    "\n",
    "df_gender = pd.DataFrame(data = ['MALE','FEMALE'], columns=['GENDER'])\n",
    "df_gender['tmp_key'] = 1\n",
    "\n",
    "df_marital = pd.DataFrame(data = ['SINGLE','MARRIED'], columns=['MARITAL'])\n",
    "df_marital['tmp_key'] = 1\n",
    "\n",
    "df_birthdate = pd.DataFrame(data = ['01/01/1993','01/01/1983'], columns=['BIRTHDATE'])\n",
    "df_birthdate['tmp_key'] = 1\n",
    "\n",
    "df_driexp = pd.DataFrame(data = ['LESS_TWO','MORE_TWO'], columns=['DRI_EXP'])\n",
    "df_driexp['tmp_key'] = 1\n",
    "\n",
    "df_clmpst = pd.DataFrame(data = ['NO'], columns=['CLM_PST'])\n",
    "df_clmpst['tmp_key'] = 1"
   ]
  },
  {
   "cell_type": "code",
   "execution_count": 15,
   "metadata": {
    "collapsed": true
   },
   "outputs": [],
   "source": [
    "df = df_model.merge(df_engine,how='outer')"
   ]
  },
  {
   "cell_type": "code",
   "execution_count": 16,
   "metadata": {
    "collapsed": true
   },
   "outputs": [],
   "source": [
    "for tmp_df in [df_regis, df_offpeak, df_gender, df_marital, df_birthdate, df_driexp, df_clmpst]:\n",
    "    df = df.merge(tmp_df, how='outer')"
   ]
  },
  {
   "cell_type": "code",
   "execution_count": 17,
   "metadata": {
    "collapsed": true
   },
   "outputs": [],
   "source": [
    "df['plan_name'] = 'Drivo Classic Plan'\n",
    "df['plan_quotes'] = 0.0"
   ]
  },
  {
   "cell_type": "markdown",
   "metadata": {},
   "source": [
    "## Scrap for 10 combinations for test"
   ]
  },
  {
   "cell_type": "code",
   "execution_count": null,
   "metadata": {
    "collapsed": true
   },
   "outputs": [],
   "source": [
    "df_test = df.sample(10).reset_index(drop=True)"
   ]
  },
  {
   "cell_type": "code",
   "execution_count": null,
   "metadata": {
    "collapsed": true
   },
   "outputs": [],
   "source": [
    "#initialize selenium chrom driver\n",
    "path_to_chromedriver = 'C:\\Users\\liuleo\\Documents\\Python\\chromedriver_win32\\chromedriver.exe' \n",
    "browser = webdriver.Chrome(executable_path = path_to_chromedriver)\n",
    "\n",
    "# navigate to the webpage containing information to be crawled\n",
    "url = 'https://insurance.income.com.sg/quote/car/index/'\n",
    "browser.get(url)"
   ]
  },
  {
   "cell_type": "code",
   "execution_count": null,
   "metadata": {
    "collapsed": true
   },
   "outputs": [],
   "source": [
    "for i in range(len(df_test)):\n",
    "    print df_test.loc[i, 'CAR_MODEL'], df.loc[i, 'CAR_ENGINE'], df.loc[i, 'DRI_EXP'], df.loc[i, 'CLM_PST']\n",
    "    # select car model \n",
    "    select_car_model = Select(browser.find_element_by_id('carMakeModel'))\n",
    "    select_car_model.select_by_visible_text(df_test.loc[i, 'CAR_MODEL'])\n",
    "    \n",
    "    # select car engine\n",
    "    select_car_eng = Select(browser.find_element_by_id('engineCapacities_car'))\n",
    "    select_car_eng.select_by_visible_text(df_test.loc[i, 'CAR_ENGINE'])\n",
    "    \n",
    "    # sleep before input text \n",
    "    time.sleep(1)\n",
    "    #input car registered year\n",
    "    browser.find_element_by_xpath('//*[@id=\"input-moto-year\"]').send_keys(df_test.loc[i, 'CAR_REGIS'])\n",
    "    \n",
    "    # select Off-Peak Car Scheme (default value is no)\n",
    "    if df_test.loc[i, 'OFF_PEAK'] == 'YES':\n",
    "        browser.find_element_by_xpath('//*[@id=\"tab1\"]/div/div[4]/div/div/label[1]').click()\n",
    "    #else:\n",
    "    #    browser.find_element_by_xpath('//*[@id=\"tab1\"]/div/div[4]/div/div/label[2]').click()\n",
    "    \n",
    "    #click next\n",
    "    browser.find_element_by_xpath('//*[@id=\"tab1\"]/div/ul/li/a').click()\n",
    "    # sleep when goes to a new page\n",
    "    time.sleep(1)\n",
    "    \n",
    "    #select gender (default is male)\n",
    "    if df_test.loc[i, 'GENDER'] == 'FEMALE':\n",
    "        browser.find_element_by_xpath('//*[@id=\"tab2\"]/div/div[1]/div/div[1]/label[2]').click()        \n",
    "    #else:\n",
    "    #    browser.find_element_by_xpath('//*[@id=\"tab2\"]/div/div[1]/div/div[1]/label[1]').click()\n",
    "    \n",
    "    #select marital status (default single)\n",
    "    if df_test.loc[i, 'MARITAL'] == 'MARRIED':\n",
    "        browser.find_element_by_xpath('//*[@id=\"tab2\"]/div/div[2]/div/div[1]/label[2]').click()\n",
    "    #else:\n",
    "    #    browser.find_element_by_xpath('//*[@id=\"tab2\"]/div/div[2]/div/div[1]/label[1]').click()\n",
    "    \n",
    "    time.sleep(2)\n",
    "    \n",
    "    #input date of birth\n",
    "    browser.find_element_by_xpath('//*[@id=\"date\"]').send_keys(df_test.loc[i, 'BIRTHDATE'])\n",
    "    \n",
    "    #click next\n",
    "    browser.find_element_by_xpath('//*[@id=\"tab2\"]/div/ul/li[2]/a').click()\n",
    "    # sleep when goes to a new page\n",
    "    time.sleep(1)\n",
    "    \n",
    "    #choose driver years exp (no default value)\n",
    "    if df_test.loc[i, 'DRI_EXP'] == 'LESS_TWO':\n",
    "        browser.find_element_by_xpath('//*[@id=\"tab3\"]/div/div[1]/div/div[1]/label[1]').click()\n",
    "    else:\n",
    "        browser.find_element_by_xpath('//*[@id=\"tab3\"]/div/div[1]/div/div[1]/label[2]').click()\n",
    "    \n",
    "    #choos flag for claim for last 3 years (if yes, then provide name and phone, qutoes will be given after call)\n",
    "    #if df_test.loc[i, 'CLM_PST'] == 'YES':\n",
    "    #    browser.find_element_by_xpath('//*[@id=\"tab3\"]/div/div[2]/div/div/label[2]').click()\n",
    "        \n",
    "    #click next\n",
    "    time.sleep(1)\n",
    "    browser.find_element_by_xpath('//*[@id=\"tab3\"]/div/ul/li[2]/a').click()\n",
    "    time.sleep(1)\n",
    "    \n",
    "    #click confirm and get the quote\n",
    "    browser.find_element_by_xpath('//*[@id=\"tab4\"]/div[1]/button').click()\n",
    "    \n",
    "    time.sleep(4)\n",
    "    html = browser.page_source\n",
    "    # pass to BeautifulSoup parser\n",
    "    soup = BeautifulSoup(html, \"lxml\")\n",
    "    \n",
    "    # Get basic plan\n",
    "    name_box = soup.find_all('span', attrs={'class': 'plan-title'})\n",
    "\n",
    "    basic_plan_name = name_box[0].text.strip()\n",
    "    print basic_plan_name\n",
    "    \n",
    "    df_test.loc[i,'plan_name'] = basic_plan_name\n",
    "    \n",
    "    # Get price\n",
    "    price_box = soup.find_all('p',attrs={'id':'plan_price_before_GST_1'})\n",
    "    price = price_box[0].text.strip()\n",
    "    \n",
    "    df_test.loc[i,'plan_quotes'] = price\n",
    "    \n",
    "    time.sleep(1)\n",
    "    # start a new quote\n",
    "    url = 'https://insurance.income.com.sg/quote/car/index/'\n",
    "    browser.get(url)\n",
    "    # accept the alert \n",
    "    #browser.switch_to_alert().accept()\n",
    "    time.sleep(1)"
   ]
  },
  {
   "cell_type": "markdown",
   "metadata": {},
   "source": [
    "## Scrap by chunk"
   ]
  },
  {
   "cell_type": "code",
   "execution_count": 7,
   "metadata": {
    "collapsed": true
   },
   "outputs": [],
   "source": [
    "df = df.sample(10).reset_index(drop=True)"
   ]
  },
  {
   "cell_type": "code",
   "execution_count": 8,
   "metadata": {
    "collapsed": true
   },
   "outputs": [
    {
     "data": {
      "text/html": [
       "<div>\n",
       "<style>\n",
       "    .dataframe thead tr:only-child th {\n",
       "        text-align: right;\n",
       "    }\n",
       "\n",
       "    .dataframe thead th {\n",
       "        text-align: left;\n",
       "    }\n",
       "\n",
       "    .dataframe tbody tr th {\n",
       "        vertical-align: top;\n",
       "    }\n",
       "</style>\n",
       "<table border=\"1\" class=\"dataframe\">\n",
       "  <thead>\n",
       "    <tr style=\"text-align: right;\">\n",
       "      <th></th>\n",
       "      <th>CAR_MODEL</th>\n",
       "      <th>tmp_key</th>\n",
       "      <th>CAR_ENGINE</th>\n",
       "      <th>CAR_REGIS</th>\n",
       "      <th>OFF_PEAK</th>\n",
       "      <th>GENDER</th>\n",
       "      <th>MARITAL</th>\n",
       "      <th>BIRTHDATE</th>\n",
       "      <th>DRI_EXP</th>\n",
       "      <th>CLM_PST</th>\n",
       "      <th>plan_name</th>\n",
       "      <th>plan_quotes</th>\n",
       "    </tr>\n",
       "  </thead>\n",
       "  <tbody>\n",
       "    <tr>\n",
       "      <th>0</th>\n",
       "      <td>TOYOTA COROLLA ALTIS</td>\n",
       "      <td>1</td>\n",
       "      <td>1700</td>\n",
       "      <td>2017</td>\n",
       "      <td>NO</td>\n",
       "      <td>FEMALE</td>\n",
       "      <td>MARRIED</td>\n",
       "      <td>01/01/1993</td>\n",
       "      <td>MORE_TWO</td>\n",
       "      <td>NO</td>\n",
       "      <td>Drivo Classic Plan</td>\n",
       "      <td>0.0</td>\n",
       "    </tr>\n",
       "    <tr>\n",
       "      <th>1</th>\n",
       "      <td>HONDA CIVIC</td>\n",
       "      <td>1</td>\n",
       "      <td>1700</td>\n",
       "      <td>2017</td>\n",
       "      <td>NO</td>\n",
       "      <td>FEMALE</td>\n",
       "      <td>SINGLE</td>\n",
       "      <td>01/01/1983</td>\n",
       "      <td>MORE_TWO</td>\n",
       "      <td>NO</td>\n",
       "      <td>Drivo Classic Plan</td>\n",
       "      <td>0.0</td>\n",
       "    </tr>\n",
       "    <tr>\n",
       "      <th>2</th>\n",
       "      <td>HONDA CIVIC</td>\n",
       "      <td>1</td>\n",
       "      <td>1600</td>\n",
       "      <td>2017</td>\n",
       "      <td>YES</td>\n",
       "      <td>FEMALE</td>\n",
       "      <td>MARRIED</td>\n",
       "      <td>01/01/1983</td>\n",
       "      <td>LESS_TWO</td>\n",
       "      <td>NO</td>\n",
       "      <td>Drivo Classic Plan</td>\n",
       "      <td>0.0</td>\n",
       "    </tr>\n",
       "    <tr>\n",
       "      <th>3</th>\n",
       "      <td>HONDA CIVIC</td>\n",
       "      <td>1</td>\n",
       "      <td>1700</td>\n",
       "      <td>2016</td>\n",
       "      <td>YES</td>\n",
       "      <td>MALE</td>\n",
       "      <td>SINGLE</td>\n",
       "      <td>01/01/1993</td>\n",
       "      <td>MORE_TWO</td>\n",
       "      <td>NO</td>\n",
       "      <td>Drivo Classic Plan</td>\n",
       "      <td>0.0</td>\n",
       "    </tr>\n",
       "    <tr>\n",
       "      <th>4</th>\n",
       "      <td>TOYOTA COROLLA ALTIS</td>\n",
       "      <td>1</td>\n",
       "      <td>1600</td>\n",
       "      <td>2017</td>\n",
       "      <td>NO</td>\n",
       "      <td>FEMALE</td>\n",
       "      <td>SINGLE</td>\n",
       "      <td>01/01/1993</td>\n",
       "      <td>LESS_TWO</td>\n",
       "      <td>NO</td>\n",
       "      <td>Drivo Classic Plan</td>\n",
       "      <td>0.0</td>\n",
       "    </tr>\n",
       "    <tr>\n",
       "      <th>5</th>\n",
       "      <td>HONDA CIVIC</td>\n",
       "      <td>1</td>\n",
       "      <td>1600</td>\n",
       "      <td>2016</td>\n",
       "      <td>NO</td>\n",
       "      <td>MALE</td>\n",
       "      <td>MARRIED</td>\n",
       "      <td>01/01/1983</td>\n",
       "      <td>LESS_TWO</td>\n",
       "      <td>NO</td>\n",
       "      <td>Drivo Classic Plan</td>\n",
       "      <td>0.0</td>\n",
       "    </tr>\n",
       "    <tr>\n",
       "      <th>6</th>\n",
       "      <td>HONDA CIVIC</td>\n",
       "      <td>1</td>\n",
       "      <td>1600</td>\n",
       "      <td>2016</td>\n",
       "      <td>NO</td>\n",
       "      <td>FEMALE</td>\n",
       "      <td>MARRIED</td>\n",
       "      <td>01/01/1993</td>\n",
       "      <td>MORE_TWO</td>\n",
       "      <td>NO</td>\n",
       "      <td>Drivo Classic Plan</td>\n",
       "      <td>0.0</td>\n",
       "    </tr>\n",
       "    <tr>\n",
       "      <th>7</th>\n",
       "      <td>HONDA CIVIC</td>\n",
       "      <td>1</td>\n",
       "      <td>1700</td>\n",
       "      <td>2017</td>\n",
       "      <td>NO</td>\n",
       "      <td>FEMALE</td>\n",
       "      <td>SINGLE</td>\n",
       "      <td>01/01/1993</td>\n",
       "      <td>LESS_TWO</td>\n",
       "      <td>NO</td>\n",
       "      <td>Drivo Classic Plan</td>\n",
       "      <td>0.0</td>\n",
       "    </tr>\n",
       "    <tr>\n",
       "      <th>8</th>\n",
       "      <td>HONDA CIVIC</td>\n",
       "      <td>1</td>\n",
       "      <td>1700</td>\n",
       "      <td>2017</td>\n",
       "      <td>YES</td>\n",
       "      <td>FEMALE</td>\n",
       "      <td>SINGLE</td>\n",
       "      <td>01/01/1993</td>\n",
       "      <td>MORE_TWO</td>\n",
       "      <td>NO</td>\n",
       "      <td>Drivo Classic Plan</td>\n",
       "      <td>0.0</td>\n",
       "    </tr>\n",
       "    <tr>\n",
       "      <th>9</th>\n",
       "      <td>HONDA CIVIC</td>\n",
       "      <td>1</td>\n",
       "      <td>1600</td>\n",
       "      <td>2016</td>\n",
       "      <td>YES</td>\n",
       "      <td>MALE</td>\n",
       "      <td>SINGLE</td>\n",
       "      <td>01/01/1983</td>\n",
       "      <td>LESS_TWO</td>\n",
       "      <td>NO</td>\n",
       "      <td>Drivo Classic Plan</td>\n",
       "      <td>0.0</td>\n",
       "    </tr>\n",
       "  </tbody>\n",
       "</table>\n",
       "</div>"
      ],
      "text/plain": [
       "              CAR_MODEL  tmp_key CAR_ENGINE CAR_REGIS OFF_PEAK  GENDER  \\\n",
       "0  TOYOTA COROLLA ALTIS        1       1700      2017       NO  FEMALE   \n",
       "1           HONDA CIVIC        1       1700      2017       NO  FEMALE   \n",
       "2           HONDA CIVIC        1       1600      2017      YES  FEMALE   \n",
       "3           HONDA CIVIC        1       1700      2016      YES    MALE   \n",
       "4  TOYOTA COROLLA ALTIS        1       1600      2017       NO  FEMALE   \n",
       "5           HONDA CIVIC        1       1600      2016       NO    MALE   \n",
       "6           HONDA CIVIC        1       1600      2016       NO  FEMALE   \n",
       "7           HONDA CIVIC        1       1700      2017       NO  FEMALE   \n",
       "8           HONDA CIVIC        1       1700      2017      YES  FEMALE   \n",
       "9           HONDA CIVIC        1       1600      2016      YES    MALE   \n",
       "\n",
       "   MARITAL   BIRTHDATE   DRI_EXP CLM_PST           plan_name  plan_quotes  \n",
       "0  MARRIED  01/01/1993  MORE_TWO      NO  Drivo Classic Plan          0.0  \n",
       "1   SINGLE  01/01/1983  MORE_TWO      NO  Drivo Classic Plan          0.0  \n",
       "2  MARRIED  01/01/1983  LESS_TWO      NO  Drivo Classic Plan          0.0  \n",
       "3   SINGLE  01/01/1993  MORE_TWO      NO  Drivo Classic Plan          0.0  \n",
       "4   SINGLE  01/01/1993  LESS_TWO      NO  Drivo Classic Plan          0.0  \n",
       "5  MARRIED  01/01/1983  LESS_TWO      NO  Drivo Classic Plan          0.0  \n",
       "6  MARRIED  01/01/1993  MORE_TWO      NO  Drivo Classic Plan          0.0  \n",
       "7   SINGLE  01/01/1993  LESS_TWO      NO  Drivo Classic Plan          0.0  \n",
       "8   SINGLE  01/01/1993  MORE_TWO      NO  Drivo Classic Plan          0.0  \n",
       "9   SINGLE  01/01/1983  LESS_TWO      NO  Drivo Classic Plan          0.0  "
      ]
     },
     "execution_count": 8,
     "metadata": {},
     "output_type": "execute_result"
    }
   ],
   "source": [
    "df"
   ]
  },
  {
   "cell_type": "code",
   "execution_count": 9,
   "metadata": {
    "collapsed": true
   },
   "outputs": [],
   "source": [
    "#initialize selenium chrom driver\n",
    "path_to_chromedriver = 'C:\\Users\\liuleo\\Documents\\Python\\chromedriver_win32\\chromedriver.exe' \n",
    "browser = webdriver.Chrome(executable_path = path_to_chromedriver)\n",
    "\n",
    "# navigate to the webpage containing information to be crawled\n",
    "url = 'https://insurance.income.com.sg/quote/car/index/'\n",
    "browser.get(url)"
   ]
  },
  {
   "cell_type": "code",
   "execution_count": 10,
   "metadata": {
    "collapsed": true
   },
   "outputs": [],
   "source": [
    "# Define the step length for applying chunk by chunk\n",
    "n= 3"
   ]
  },
  {
   "cell_type": "code",
   "execution_count": 11,
   "metadata": {},
   "outputs": [
    {
     "name": "stdout",
     "output_type": "stream",
     "text": [
      "TOYOTA COROLLA ALTIS 1700 MORE_TWO NO\n",
      "Drivo Classic Plan\n",
      "HONDA CIVIC 1700 MORE_TWO NO\n",
      "Drivo Classic Plan\n",
      "HONDA CIVIC 1600 LESS_TWO NO\n",
      "Drivo Classic Plan\n",
      "Scraping first 3 records\n",
      "HONDA CIVIC 1700 MORE_TWO NO\n",
      "Drivo Classic Plan\n",
      "TOYOTA COROLLA ALTIS 1600 LESS_TWO NO\n",
      "Drivo Classic Plan\n",
      "HONDA CIVIC 1600 LESS_TWO NO\n",
      "Drivo Classic Plan\n",
      "Scraping first 6 records\n",
      "HONDA CIVIC 1600 MORE_TWO NO\n",
      "Drivo Classic Plan\n",
      "HONDA CIVIC 1700 LESS_TWO NO\n",
      "Drivo Classic Plan\n",
      "HONDA CIVIC 1700 MORE_TWO NO\n",
      "Drivo Classic Plan\n",
      "Scraping first 9 records\n",
      "HONDA CIVIC 1600 LESS_TWO NO\n",
      "Drivo Classic Plan\n"
     ]
    }
   ],
   "source": [
    "for i in range(0, len(df)):\n",
    "    \n",
    "    print df.loc[i, 'CAR_MODEL'], df.loc[i, 'CAR_ENGINE'], df.loc[i, 'DRI_EXP'], df.loc[i, 'CLM_PST']\n",
    "    # select car model \n",
    "    select_car_model = Select(browser.find_element_by_id('carMakeModel'))\n",
    "    select_car_model.select_by_visible_text(df.loc[i, 'CAR_MODEL'])\n",
    "    \n",
    "    # select car engine\n",
    "    select_car_eng = Select(browser.find_element_by_id('engineCapacities_car'))\n",
    "    select_car_eng.select_by_visible_text(df.loc[i, 'CAR_ENGINE'])\n",
    "    \n",
    "    # sleep before input text \n",
    "    time.sleep(1)\n",
    "    #input car registered year\n",
    "    browser.find_element_by_xpath('//*[@id=\"input-moto-year\"]').send_keys(df.loc[i, 'CAR_REGIS'])\n",
    "    \n",
    "    # select Off-Peak Car Scheme (default value is no)\n",
    "    if df.loc[i, 'OFF_PEAK'] == 'YES':\n",
    "        browser.find_element_by_xpath('//*[@id=\"tab1\"]/div/div[4]/div/div/label[1]').click()\n",
    "    #else:\n",
    "    #    browser.find_element_by_xpath('//*[@id=\"tab1\"]/div/div[4]/div/div/label[2]').click()\n",
    "    \n",
    "    #click next\n",
    "    browser.find_element_by_xpath('//*[@id=\"tab1\"]/div/ul/li/a').click()\n",
    "    # sleep when goes to a new page\n",
    "    time.sleep(1)\n",
    "    \n",
    "    #select gender (default is male)\n",
    "    if df.loc[i, 'GENDER'] == 'FEMALE':\n",
    "        browser.find_element_by_xpath('//*[@id=\"tab2\"]/div/div[1]/div/div[1]/label[2]').click()        \n",
    "    #else:\n",
    "    #    browser.find_element_by_xpath('//*[@id=\"tab2\"]/div/div[1]/div/div[1]/label[1]').click()\n",
    "    \n",
    "    #select marital status (default single)\n",
    "    if df.loc[i, 'MARITAL'] == 'MARRIED':\n",
    "        browser.find_element_by_xpath('//*[@id=\"tab2\"]/div/div[2]/div/div[1]/label[2]').click()\n",
    "    #else:\n",
    "    #    browser.find_element_by_xpath('//*[@id=\"tab2\"]/div/div[2]/div/div[1]/label[1]').click()\n",
    "    \n",
    "    time.sleep(2)\n",
    "    \n",
    "    #input date of birth\n",
    "    browser.find_element_by_xpath('//*[@id=\"date\"]').send_keys(df.loc[i, 'BIRTHDATE'])\n",
    "    \n",
    "    #click next\n",
    "    browser.find_element_by_xpath('//*[@id=\"tab2\"]/div/ul/li[2]/a').click()\n",
    "    # sleep when goes to a new page\n",
    "    time.sleep(1)\n",
    "    \n",
    "    #choose driver years exp (no default value)\n",
    "    if df.loc[i, 'DRI_EXP'] == 'LESS_TWO':\n",
    "        browser.find_element_by_xpath('//*[@id=\"tab3\"]/div/div[1]/div/div[1]/label[1]').click()\n",
    "    else:\n",
    "        browser.find_element_by_xpath('//*[@id=\"tab3\"]/div/div[1]/div/div[1]/label[2]').click()\n",
    "    \n",
    "    #choos flag for claim for last 3 years (if yes, then provide name and phone, qutoes will be given after call)\n",
    "    #if df.loc[i, 'CLM_PST'] == 'YES':\n",
    "    #    browser.find_element_by_xpath('//*[@id=\"tab3\"]/div/div[2]/div/div/label[2]').click()\n",
    "        \n",
    "    #click next\n",
    "    time.sleep(1)\n",
    "    browser.find_element_by_xpath('//*[@id=\"tab3\"]/div/ul/li[2]/a').click()\n",
    "    time.sleep(1)\n",
    "    \n",
    "    #click confirm and get the quote\n",
    "    browser.find_element_by_xpath('//*[@id=\"tab4\"]/div[1]/button').click()\n",
    "    \n",
    "    time.sleep(4)\n",
    "    html = browser.page_source\n",
    "    # pass to BeautifulSoup parser\n",
    "    soup = BeautifulSoup(html, \"lxml\")\n",
    "    \n",
    "    # Get basic plan\n",
    "    name_box = soup.find_all('span', attrs={'class': 'plan-title'})\n",
    "\n",
    "    basic_plan_name = name_box[0].text.strip()\n",
    "    print basic_plan_name\n",
    "    \n",
    "    df.loc[i,'plan_name'] = basic_plan_name\n",
    "    \n",
    "    # Get price\n",
    "    price_box = soup.find_all('p',attrs={'id':'plan_price_before_GST_1'})\n",
    "    price = price_box[0].text.strip()\n",
    "    \n",
    "    df.loc[i,'plan_quotes'] = price\n",
    "    \n",
    "    time.sleep(1)\n",
    "    # start a new quote\n",
    "    url = 'https://insurance.income.com.sg/quote/car/index/'\n",
    "    browser.get(url)\n",
    "    # accept the alert \n",
    "    #browser.switch_to_alert().accept()\n",
    "    time.sleep(1)\n",
    "    \n",
    "    if (i+1) % n == 0:\n",
    "        print 'Scraping first {} records'.format(i+1)\n",
    "        df[(i+1-n):(i+1)].to_csv('C:/Users/liuleo/Documents/KT/WEB_SCRAP/ntuc_ex_{}_{}.csv'.format(i+1-n,i+1), index=False, sep='|')\n",
    "        \n",
    "df.to_csv('C:/Users/liuleo/Documents/KT/WEB_SCRAP/ntuc_ex_sample10.csv',index=False, sep='|')"
   ]
  },
  {
   "cell_type": "code",
   "execution_count": null,
   "metadata": {
    "collapsed": true
   },
   "outputs": [],
   "source": [
    "df"
   ]
  },
  {
   "cell_type": "code",
   "execution_count": null,
   "metadata": {
    "collapsed": true
   },
   "outputs": [],
   "source": []
  },
  {
   "cell_type": "code",
   "execution_count": null,
   "metadata": {
    "collapsed": true
   },
   "outputs": [],
   "source": []
  },
  {
   "cell_type": "code",
   "execution_count": null,
   "metadata": {
    "collapsed": true
   },
   "outputs": [],
   "source": []
  },
  {
   "cell_type": "code",
   "execution_count": null,
   "metadata": {
    "collapsed": true
   },
   "outputs": [],
   "source": []
  },
  {
   "cell_type": "code",
   "execution_count": null,
   "metadata": {
    "collapsed": true
   },
   "outputs": [],
   "source": []
  },
  {
   "cell_type": "code",
   "execution_count": null,
   "metadata": {
    "collapsed": true
   },
   "outputs": [],
   "source": []
  },
  {
   "cell_type": "code",
   "execution_count": null,
   "metadata": {
    "collapsed": true
   },
   "outputs": [],
   "source": []
  },
  {
   "cell_type": "code",
   "execution_count": null,
   "metadata": {
    "collapsed": true
   },
   "outputs": [],
   "source": [
    "# select car model \n",
    "select_car_model = Select(browser.find_element_by_id('carMakeModel'))\n",
    "select_car_model.select_by_visible_text('TOYOTA COROLLA ALTIS')"
   ]
  },
  {
   "cell_type": "code",
   "execution_count": null,
   "metadata": {
    "collapsed": true
   },
   "outputs": [],
   "source": [
    "# select car engine\n",
    "select_car_eng = Select(browser.find_element_by_id('engineCapacities_car'))\n",
    "select_car_eng.select_by_visible_text('1600')"
   ]
  },
  {
   "cell_type": "raw",
   "metadata": {},
   "source": [
    "#method 2, take more time to run\n",
    "\n",
    "el = browser.find_element_by_id('engineCapacities_car')\n",
    "\n",
    "for opt in el.find_elements_by_tag_name('option'):\n",
    "    if opt.text == '1600':\n",
    "        opt.click()\n",
    "        break;"
   ]
  },
  {
   "cell_type": "code",
   "execution_count": null,
   "metadata": {
    "collapsed": true
   },
   "outputs": [],
   "source": [
    "# sleep before input text \n",
    "time.sleep(1)\n",
    "#input car registered year\n",
    "browser.find_element_by_xpath('//*[@id=\"input-moto-year\"]').send_keys('2016')"
   ]
  },
  {
   "cell_type": "code",
   "execution_count": null,
   "metadata": {
    "collapsed": true
   },
   "outputs": [],
   "source": [
    "# select Off-Peak Car Scheme\n",
    "browser.find_element_by_xpath('//*[@id=\"tab1\"]/div/div[4]/div/div/label[1]').click()"
   ]
  },
  {
   "cell_type": "code",
   "execution_count": null,
   "metadata": {
    "collapsed": true
   },
   "outputs": [],
   "source": [
    "#click next\n",
    "browser.find_element_by_xpath('//*[@id=\"tab1\"]/div/ul/li/a').click()\n",
    "# sleep when goes to a new page\n",
    "time.sleep(1)"
   ]
  },
  {
   "cell_type": "code",
   "execution_count": null,
   "metadata": {
    "collapsed": true
   },
   "outputs": [],
   "source": [
    "# male and single. if change, use corresponding xpath\n",
    "time.sleep(1)\n",
    "#input date of birth\n",
    "browser.find_element_by_xpath('//*[@id=\"date\"]').send_keys('01/01/1993')"
   ]
  },
  {
   "cell_type": "code",
   "execution_count": null,
   "metadata": {
    "collapsed": true
   },
   "outputs": [],
   "source": [
    "#click next\n",
    "browser.find_element_by_xpath('//*[@id=\"tab2\"]/div/ul/li[2]/a').click()\n",
    "time.sleep(1)"
   ]
  },
  {
   "cell_type": "code",
   "execution_count": null,
   "metadata": {
    "collapsed": true
   },
   "outputs": [],
   "source": [
    "#choose more than 2 years exp\n",
    "browser.find_element_by_xpath('//*[@id=\"tab3\"]/div/div[1]/div/div[1]/label[2]').click()\n",
    "\n",
    "#for claims in past 3 years, choose no (default value)\n",
    "\n",
    "#for NCD value (keep 0% for default)\n",
    "# if need i times 10% values, then run the following with i times\n",
    "#browser.find_element_by_xpath('//*[@id=\"tab3\"]/div/div[3]/div/div[1]/span[2]/button').click()\n",
    "\n",
    "#date\n",
    "# start from the following day and contract lenght one year"
   ]
  },
  {
   "cell_type": "code",
   "execution_count": null,
   "metadata": {
    "collapsed": true
   },
   "outputs": [],
   "source": [
    "#click next\n",
    "browser.find_element_by_xpath('//*[@id=\"tab3\"]/div/ul/li[2]/a').click()\n",
    "time.sleep(1)"
   ]
  },
  {
   "cell_type": "code",
   "execution_count": null,
   "metadata": {
    "collapsed": true
   },
   "outputs": [],
   "source": [
    "#click confirm and get the quote\n",
    "browser.find_element_by_xpath('//*[@id=\"tab4\"]/div[1]/button').click()\n"
   ]
  },
  {
   "cell_type": "code",
   "execution_count": null,
   "metadata": {
    "collapsed": true
   },
   "outputs": [],
   "source": [
    "time.sleep(1)\n",
    "html = browser.page_source\n",
    "# pass to BeautifulSoup parser\n",
    "soup = BeautifulSoup(html, \"lxml\")"
   ]
  },
  {
   "cell_type": "code",
   "execution_count": null,
   "metadata": {
    "collapsed": true
   },
   "outputs": [],
   "source": [
    "# Get basic plan\n",
    "name_box = soup.find_all('span', attrs={'class': 'plan-title'})\n",
    "\n",
    "basic_plan_name = name_box[0].text.strip()\n",
    "print basic_plan_name"
   ]
  },
  {
   "cell_type": "code",
   "execution_count": null,
   "metadata": {
    "collapsed": true
   },
   "outputs": [],
   "source": [
    "# Get price\n",
    "price_box = soup.find_all('p',attrs={'id':'plan_price_before_GST_1'})\n",
    "print price_box[0].text.strip()"
   ]
  },
  {
   "cell_type": "code",
   "execution_count": null,
   "metadata": {
    "collapsed": true
   },
   "outputs": [],
   "source": [
    "time.sleep(1)\n",
    "# start a new quote\n",
    "url = 'https://insurance.income.com.sg/quote/car/index/'\n",
    "browser.get(url)\n",
    "# accept the alert \n",
    "#browser.switch_to_alert().accept()\n",
    "time.sleep(1)"
   ]
  }
 ],
 "metadata": {
  "kernelspec": {
   "display_name": "Python 2",
   "language": "python",
   "name": "python2"
  },
  "language_info": {
   "codemirror_mode": {
    "name": "ipython",
    "version": 2
   },
   "file_extension": ".py",
   "mimetype": "text/x-python",
   "name": "python",
   "nbconvert_exporter": "python",
   "pygments_lexer": "ipython2",
   "version": "2.7.14"
  }
 },
 "nbformat": 4,
 "nbformat_minor": 2
}
