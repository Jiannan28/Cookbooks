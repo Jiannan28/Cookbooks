{
 "cells": [
  {
   "cell_type": "markdown",
   "metadata": {},
   "source": [
    "## Files megre"
   ]
  },
  {
   "cell_type": "markdown",
   "metadata": {},
   "source": [
    "Append different files with same structure (snapshots data for example) into one large file"
   ]
  },
  {
   "cell_type": "code",
   "execution_count": 1,
   "metadata": {
    "collapsed": true
   },
   "outputs": [],
   "source": [
    "import pandas as pd\n",
    "import os"
   ]
  },
  {
   "cell_type": "code",
   "execution_count": null,
   "metadata": {
    "collapsed": true
   },
   "outputs": [],
   "source": [
    "FOLDER_PATH = ''\n",
    "OUTPUT_FILE = ''\n",
    "\n",
    "files = [x for x in os.listdir(FOLDER_PATH) if x.endswith(\".csv\")]\n",
    "print 'File list {}'.format(files)\n",
    "\n",
    "df = pd.DataFrame()\n",
    "\n",
    "for x in files:\n",
    "    # read each file and append to dataframe\n",
    "    tmp = pd.read_csv(FOLDER_PATH + x, sep=';')\n",
    "    df = df.append(tmp, ignore_index=True)\n",
    "# save the concating result to one file\n",
    "df.to_csv(OUTPUT_FILE,sep=';',index=False)"
   ]
  }
 ],
 "metadata": {
  "kernelspec": {
   "display_name": "Python 2",
   "language": "python",
   "name": "python2"
  },
  "language_info": {
   "codemirror_mode": {
    "name": "ipython",
    "version": 2
   },
   "file_extension": ".py",
   "mimetype": "text/x-python",
   "name": "python",
   "nbconvert_exporter": "python",
   "pygments_lexer": "ipython2",
   "version": "2.7.14"
  }
 },
 "nbformat": 4,
 "nbformat_minor": 2
}
