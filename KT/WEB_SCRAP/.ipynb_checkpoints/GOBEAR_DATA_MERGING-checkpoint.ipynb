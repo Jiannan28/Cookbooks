{
 "cells": [
  {
   "cell_type": "code",
   "execution_count": 1,
   "metadata": {
    "collapsed": true
   },
   "outputs": [],
   "source": [
    "import selenium\n",
    "from bs4 import BeautifulSoup\n",
    "import urllib2\n",
    "import json\n",
    "\n",
    "import re\n",
    "from selenium import webdriver\n",
    "from selenium.webdriver import ActionChains\n",
    "from selenium.webdriver.support.ui import Select\n",
    "import time\n",
    "\n",
    "import pandas as pd\n",
    "import numpy as np\n",
    "import os\n",
    "\n",
    "from __future__ import division\n",
    "\n",
    "from scrapLib.GOBEAR_DICT import CAR_MODEL_DICT, CAR_MAKE_DICT"
   ]
  },
  {
   "cell_type": "code",
   "execution_count": null,
   "metadata": {
    "collapsed": true
   },
   "outputs": [],
   "source": [
    "FOLDER_PATH = 'C:/Users/liuleo/Documents/KT/WEB_SCRAP/gobear_data/'\n",
    "OUTPUT_FILE = 'C:/Users/liuleo/Documents/KT/WEB_SCRAP/gobear_data/total_gb.csv'\n",
    "\n",
    "files = [x for x in os.listdir(FOLDER_PATH) if x.endswith(\".csv\")]\n",
    "print 'File list {}'.format(files)\n",
    "\n",
    "df = pd.DataFrame()\n",
    "\n",
    "for x in files:\n",
    "    # read each file and append to dataframe\n",
    "    tmp = pd.read_csv(FOLDER_PATH + x, sep=';')\n",
    "    df = df.append(tmp, ignore_index=True)\n",
    "# save the concating result to one file\n",
    "df.to_csv(OUTPUT_FILE,sep=';',index=False)"
   ]
  },
  {
   "cell_type": "code",
   "execution_count": null,
   "metadata": {
    "collapsed": true
   },
   "outputs": [],
   "source": []
  },
  {
   "cell_type": "code",
   "execution_count": null,
   "metadata": {
    "collapsed": true
   },
   "outputs": [],
   "source": []
  },
  {
   "cell_type": "code",
   "execution_count": null,
   "metadata": {
    "collapsed": true
   },
   "outputs": [],
   "source": []
  },
  {
   "cell_type": "markdown",
   "metadata": {},
   "source": [
    "## Reading total file"
   ]
  },
  {
   "cell_type": "code",
   "execution_count": 2,
   "metadata": {
    "collapsed": true
   },
   "outputs": [],
   "source": [
    "df = pd.read_csv('total_gb.csv',sep=';')"
   ]
  },
  {
   "cell_type": "code",
   "execution_count": 3,
   "metadata": {
    "collapsed": true
   },
   "outputs": [],
   "source": [
    "for col in ['insurer_names','plans','prices','excesses']:\n",
    "    df[col] = df[col].fillna('N')"
   ]
  },
  {
   "cell_type": "code",
   "execution_count": 4,
   "metadata": {
    "collapsed": true
   },
   "outputs": [],
   "source": [
    "df['plans'] = df['plans'].str.replace(':','')\n",
    "df['plans'] = df['plans'].str.replace(',','')\n",
    "df['prices'] = df['prices'].str.replace(',','')\n",
    "df['excesses'] = df['excesses'].str.replace('$','')"
   ]
  },
  {
   "cell_type": "code",
   "execution_count": 5,
   "metadata": {
    "collapsed": true
   },
   "outputs": [],
   "source": [
    "df['AVIVA_PLAN'] = 'N'\n",
    "df['AVIVA_Price'] = 0\n",
    "df['AVIVA_Excess'] = 0\n",
    "\n",
    "df['FWD_PLAN'] = 'N'\n",
    "df['FWD_Price'] = 0\n",
    "df['FWD_Excess'] = 0\n",
    "\n",
    "df['DirectAsia_PLAN'] = 'N'\n",
    "df['DirectAsia_Price'] = 0\n",
    "df['DirectAsia_Excess'] = 0\n",
    "\n",
    "df['HLA_PLAN'] = 'N'\n",
    "df['HLA_Price'] = 0\n",
    "df['HLA_Excess'] = 0\n",
    "\n",
    "\n",
    "df['AXA_PLAN'] = 'N'\n",
    "df['AXA_Price'] = 0\n",
    "df['AXA_Excess'] = 0"
   ]
  },
  {
   "cell_type": "code",
   "execution_count": 6,
   "metadata": {
    "collapsed": true
   },
   "outputs": [],
   "source": [
    "def combine_ins_plan(s):\n",
    "    ins_plan = []\n",
    "    for ins,plan,pri,exc in zip(s['insurer_names'].split('|'),s['plans'].split('|'),s['prices'].split('|'),s['excesses'].split('|')):\n",
    "        ins_plan.append(ins + '|' + plan + '|' + pri + '|' + exc)\n",
    "    return ins_plan"
   ]
  },
  {
   "cell_type": "code",
   "execution_count": 7,
   "metadata": {
    "collapsed": true
   },
   "outputs": [],
   "source": [
    "df['insurer_plan'] = df.apply(combine_ins_plan, axis=1)"
   ]
  },
  {
   "cell_type": "code",
   "execution_count": 8,
   "metadata": {},
   "outputs": [
    {
     "data": {
      "text/plain": [
       "['FWD|Classic|572|500',\n",
       " 'DirectAsia|Red Low Mileage Plan (Maximum 8000km per year)|643|800',\n",
       " 'Aviva|Aviva Car|655|500',\n",
       " 'FWD|Executive|658|500',\n",
       " 'Hong Leong Group|HL Assurance - Authorised Workshop|659|300',\n",
       " 'FWD|Prestige|716|500',\n",
       " 'Hong Leong Group|HL Assurance - Any Workshop|775|600',\n",
       " 'DirectAsia|Yellow Unlimited Mileage Plan|814|800',\n",
       " 'DirectAsia|Black|1047|500',\n",
       " 'AXA|FlexiFamily|Quotes not available online|Not available',\n",
       " 'AXA|Flexi|Quotes not available online|Not available',\n",
       " 'AXA|Peace|Quotes not available online|Not available',\n",
       " 'AXA|Essential|Quotes not available online|Not available']"
      ]
     },
     "execution_count": 8,
     "metadata": {},
     "output_type": "execute_result"
    }
   ],
   "source": [
    "df.loc[0,'insurer_plan'] #[0].split('|')"
   ]
  },
  {
   "cell_type": "code",
   "execution_count": 9,
   "metadata": {
    "collapsed": true
   },
   "outputs": [],
   "source": [
    "for i in range(0, len(df)):\n",
    "    if df.loc[i, 'insurer_plan'][0] != 'N|N|N|N':\n",
    "        for x in df.loc[i, 'insurer_plan']:\n",
    "            text = x.split('|')\n",
    "            if len(text) == 4:\n",
    "                if text[0] == 'FWD':\n",
    "                    if df.loc[i, 'FWD_PLAN'] == 'N':\n",
    "                        df.loc[i, 'FWD_PLAN'] = text[0] + ':' + text[1]\n",
    "                        df.loc[i, 'FWD_Price'] = text[2] \n",
    "                        df.loc[i, 'FWD_Excess'] = text[3]\n",
    "                    else:\n",
    "                        df.loc[i, 'FWD_PLAN'] = df.loc[i, 'FWD_PLAN'] + '|' + text[0] + ':' + text[1]\n",
    "                        df.loc[i, 'FWD_Price'] = df.loc[i, 'FWD_Price'] + '|' + text[2]\n",
    "                        df.loc[i, 'FWD_Excess'] = df.loc[i, 'FWD_Excess'] + '|' + text[3]\n",
    "                elif text[0] == 'DirectAsia':\n",
    "                    if df.loc[i, 'DirectAsia_PLAN'] == 'N':\n",
    "                        df.loc[i, 'DirectAsia_PLAN'] = text[0] + ':' + text[1]\n",
    "                        df.loc[i, 'DirectAsia_Price'] = text[2]\n",
    "                        df.loc[i, 'DirectAsia_Excess'] = text[3]\n",
    "                    else:\n",
    "                        df.loc[i, 'DirectAsia_PLAN'] = df.loc[i, 'DirectAsia_PLAN'] + '|' + text[0] + ':' + text[1]\n",
    "                        df.loc[i, 'DirectAsia_Price'] = df.loc[i, 'DirectAsia_Price'] + '|' + text[2]\n",
    "                        df.loc[i, 'DirectAsia_Excess'] = df.loc[i, 'DirectAsia_Excess'] + '|' + text[3]\n",
    "                elif text[0] == 'Aviva':\n",
    "                    if df.loc[i, 'AVIVA_PLAN'] == 'N':\n",
    "                        df.loc[i, 'AVIVA_PLAN'] = text[0] + ':' + text[1]\n",
    "                        df.loc[i, 'AVIVA_Price'] = text[2]\n",
    "                        df.loc[i, 'AVIVA_Excess'] = text[3]\n",
    "                    else:\n",
    "                        df.loc[i, 'AVIVA_PLAN'] = df.loc[i, 'AVIVA_PLAN'] + '|' + text[0] + ':' + text[1]\n",
    "                        df.loc[i, 'AVIVA_Price'] = df.loc[i, 'AVIVA_Price'] + '|' + text[2]\n",
    "                        df.loc[i, 'AVIVA_Excess'] = df.loc[i, 'AVIVA_Excess'] + '|' + text[3]\n",
    "                elif text[0] == 'Hong Leong Group':\n",
    "                    if df.loc[i, 'HLA_PLAN'] == 'N':\n",
    "                        df.loc[i, 'HLA_PLAN'] = text[0] + ':' + text[1]\n",
    "                        df.loc[i, 'HLA_Price'] = text[2]\n",
    "                        df.loc[i, 'HLA_Excess'] = text[3]\n",
    "                    else:\n",
    "                        df.loc[i, 'HLA_PLAN'] = df.loc[i, 'HLA_PLAN'] + '|' + text[0] + ':' + text[1]\n",
    "                        df.loc[i, 'HLA_Price'] = df.loc[i, 'HLA_Price'] + '|' + text[2]\n",
    "                        df.loc[i, 'HLA_Excess'] = df.loc[i, 'HLA_Excess'] + '|' + text[3]\n",
    "                elif text[0] == 'AXA':\n",
    "                    if df.loc[i, 'AXA_PLAN'] == 'N':\n",
    "                        df.loc[i, 'AXA_PLAN'] = text[0] + ':' + text[1]\n",
    "                        df.loc[i, 'AXA_Price'] = text[2]\n",
    "                        df.loc[i, 'AXA_Excess'] = text[3]\n",
    "                    else:\n",
    "                        df.loc[i, 'AXA_PLAN'] = df.loc[i, 'AXA_PLAN'] + '|' + text[0] + ':' + text[1]\n",
    "                        df.loc[i, 'AXA_Price'] = df.loc[i, 'AXA_Price'] + '|' + text[2]\n",
    "                        df.loc[i, 'AXA_Excess'] = df.loc[i, 'AXA_Excess'] + '|' + text[3]\n",
    "                else:\n",
    "                    continue\n",
    "            else:\n",
    "                continue\n",
    "    else:\n",
    "        continue"
   ]
  },
  {
   "cell_type": "code",
   "execution_count": 11,
   "metadata": {
    "collapsed": true
   },
   "outputs": [],
   "source": [
    "df.drop(['OCCUPATION_FLAG', 'MARITAL_STATUS_FLAG', 'insurer_names','plans','prices','excesses','insurer_plan'], axis=1, inplace=True)"
   ]
  },
  {
   "cell_type": "code",
   "execution_count": 12,
   "metadata": {
    "collapsed": true
   },
   "outputs": [],
   "source": [
    "df.to_csv('test.csv',sep=';',index=False)"
   ]
  },
  {
   "cell_type": "code",
   "execution_count": 13,
   "metadata": {},
   "outputs": [
    {
     "data": {
      "text/plain": [
       "(383, 32)"
      ]
     },
     "execution_count": 13,
     "metadata": {},
     "output_type": "execute_result"
    }
   ],
   "source": [
    "df.shape"
   ]
  }
 ],
 "metadata": {
  "kernelspec": {
   "display_name": "Python 2",
   "language": "python",
   "name": "python2"
  },
  "language_info": {
   "codemirror_mode": {
    "name": "ipython",
    "version": 2
   },
   "file_extension": ".py",
   "mimetype": "text/x-python",
   "name": "python",
   "nbconvert_exporter": "python",
   "pygments_lexer": "ipython2",
   "version": "2.7.14"
  }
 },
 "nbformat": 4,
 "nbformat_minor": 2
}
