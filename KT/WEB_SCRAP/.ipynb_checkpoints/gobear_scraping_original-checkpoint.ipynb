{
 "cells": [
  {
   "cell_type": "code",
   "execution_count": 1,
   "metadata": {
    "collapsed": true
   },
   "outputs": [],
   "source": [
    "import selenium\n",
    "from bs4 import BeautifulSoup\n",
    "import urllib2\n",
    "import json\n",
    "\n",
    "import re\n",
    "from selenium import webdriver\n",
    "from selenium.webdriver import ActionChains\n",
    "from selenium.webdriver.support.ui import Select\n",
    "import time\n",
    "\n",
    "import pandas as pd\n",
    "import numpy as np\n",
    "\n",
    "from __future__ import division\n",
    "\n",
    "from scrapLib.GOBEAR_DICT import CAR_MODEL_DICT, CAR_MAKE_DICT"
   ]
  },
  {
   "cell_type": "code",
   "execution_count": 2,
   "metadata": {
    "collapsed": true
   },
   "outputs": [],
   "source": [
    "gb_df = pd.read_csv('C:/Users/liuleo/Documents/KT/WEB_SCRAP/RISK_PROFILES_gobear_clean.csv')"
   ]
  },
  {
   "cell_type": "code",
   "execution_count": 3,
   "metadata": {
    "collapsed": true,
    "scrolled": true
   },
   "outputs": [],
   "source": [
    "# change value type\n",
    "gb_df['BIRTH_YEAR'] = gb_df['DOB'].apply(lambda x : x[-4:])\n",
    "gb_df['BIRTH_YEAR'] = gb_df['BIRTH_YEAR'].astype(np.int32)\n",
    "gb_df['LICENCE YEARS'] = gb_df['LICENCE YEARS'].astype(np.int8)\n",
    "gb_df['NCD'] = gb_df['NCD'].astype(np.int8)\n",
    "\n",
    "#modify the manufacture year to reflect current time (2015 to 2017)\n",
    "gb_df['YEAR OF MANUFACTURE'] = gb_df['YEAR OF MANUFACTURE'] + 2\n",
    "gb_df['YEAR OF MANUFACTURE'] = gb_df['YEAR OF MANUFACTURE'].astype(np.int32)\n",
    "\n",
    "# if occupation and martial status available in the site\n",
    "gb_df['OCCUPATION_FLAG'] = gb_df['OCCUPATION'].apply(lambda x : 1 if x in ['INDOOR MIDDLE LVL MGMT', 'OUTDOOR SALES/STAFF'] else 0)\n",
    "gb_df['MARITAL_STATUS_FLAG'] = gb_df['MARITAL STATUS'].apply(lambda x : 1 if x in ['SINGLE', 'MARRIED'] else 0)\n",
    "\n",
    "def concat_str(x):\n",
    "    return x['MODEL'] + ' ' + str(x['CC'])\n",
    "\n",
    "gb_df['MODEL_CC'] = gb_df.apply(concat_str, axis=1)"
   ]
  },
  {
   "cell_type": "code",
   "execution_count": 4,
   "metadata": {},
   "outputs": [
    {
     "data": {
      "text/plain": [
       "RISK                   0\n",
       "MAKE                   0\n",
       "MODEL                  0\n",
       "CC                     0\n",
       "MMCC                   0\n",
       "OFF PEAK               0\n",
       "DOB                    0\n",
       "AGE OF DRIVER          0\n",
       "GENDER                 0\n",
       "OCCUPATION             0\n",
       "LICENCE YEARS          0\n",
       "NCD                    0\n",
       "YEAR OF MANUFACTURE    0\n",
       "POLICY EXCESS          0\n",
       "MARITAL STATUS         0\n",
       "BIRTH_YEAR             0\n",
       "OCCUPATION_FLAG        0\n",
       "MARITAL_STATUS_FLAG    0\n",
       "MODEL_CC               0\n",
       "dtype: int64"
      ]
     },
     "execution_count": 4,
     "metadata": {},
     "output_type": "execute_result"
    }
   ],
   "source": [
    "# check if profile contains empty or not\n",
    "gb_df.isnull().sum()"
   ]
  },
  {
   "cell_type": "code",
   "execution_count": 5,
   "metadata": {
    "collapsed": true
   },
   "outputs": [],
   "source": [
    "## for gobear, age must between 18 to 65\n",
    "gb_df = gb_df[(gb_df['AGE OF DRIVER']<=65) & (gb_df['AGE OF DRIVER']>=18)].reset_index(drop=True)"
   ]
  },
  {
   "cell_type": "code",
   "execution_count": 6,
   "metadata": {},
   "outputs": [
    {
     "name": "stdout",
     "output_type": "stream",
     "text": [
      "(461, 19)\n",
      "(383, 19)\n"
     ]
    }
   ],
   "source": [
    "gb_df_dedup = gb_df.drop_duplicates([col for col in gb_df.columns if col != 'RISK']).reset_index(drop=True)\n",
    "print gb_df.shape\n",
    "print gb_df_dedup.shape"
   ]
  },
  {
   "cell_type": "code",
   "execution_count": 7,
   "metadata": {},
   "outputs": [
    {
     "data": {
      "text/plain": [
       "RISK                    int64\n",
       "MAKE                   object\n",
       "MODEL                  object\n",
       "CC                      int64\n",
       "MMCC                   object\n",
       "OFF PEAK               object\n",
       "DOB                    object\n",
       "AGE OF DRIVER           int64\n",
       "GENDER                 object\n",
       "OCCUPATION             object\n",
       "LICENCE YEARS            int8\n",
       "NCD                      int8\n",
       "YEAR OF MANUFACTURE     int32\n",
       "POLICY EXCESS           int64\n",
       "MARITAL STATUS         object\n",
       "BIRTH_YEAR              int32\n",
       "OCCUPATION_FLAG         int64\n",
       "MARITAL_STATUS_FLAG     int64\n",
       "MODEL_CC               object\n",
       "dtype: object"
      ]
     },
     "execution_count": 7,
     "metadata": {},
     "output_type": "execute_result"
    }
   ],
   "source": [
    "gb_df_dedup.dtypes"
   ]
  },
  {
   "cell_type": "code",
   "execution_count": 8,
   "metadata": {
    "collapsed": true
   },
   "outputs": [],
   "source": [
    "#missing recap\n",
    "MISSING_IDS = [173]\n",
    "gb_df_sample = gb_df_dedup[gb_df_dedup['RISK'].isin(MISSING_IDS)].reset_index(drop=True)"
   ]
  },
  {
   "cell_type": "raw",
   "metadata": {},
   "source": [
    "gb_df_sample = gb_df_dedup[300:].reset_index(drop=True)\n",
    "gb_df_sample.shape"
   ]
  },
  {
   "cell_type": "code",
   "execution_count": 9,
   "metadata": {
    "collapsed": true
   },
   "outputs": [],
   "source": [
    "gb_df_sample['insurer_names'] = 'NA'\n",
    "gb_df_sample['plans'] = 'NA'\n",
    "gb_df_sample['prices'] = 'NA'\n",
    "gb_df_sample['excesses'] = 'NA'"
   ]
  },
  {
   "cell_type": "code",
   "execution_count": 2,
   "metadata": {
    "collapsed": true
   },
   "outputs": [],
   "source": [
    "#initialize selenium chrom driver\n",
    "path_to_chromedriver = 'C:\\Users\\liuleo\\Documents\\Python\\chromedriver_win32\\chromedriver.exe' \n",
    "browser = webdriver.Chrome(executable_path = path_to_chromedriver)"
   ]
  },
  {
   "cell_type": "code",
   "execution_count": 3,
   "metadata": {
    "collapsed": true
   },
   "outputs": [],
   "source": [
    "# navigate to the webpage containing information to be crawled\n",
    "url = 'https://www.gobear.com/sg'\n",
    "browser.get(url)"
   ]
  },
  {
   "cell_type": "code",
   "execution_count": 4,
   "metadata": {
    "collapsed": true
   },
   "outputs": [],
   "source": [
    "url = 'https://www.moh.gov.sg/content/moh_web/home/costs_and_financing/hospital-charges/Total_Operation_Fees_By_Procedure.html'\n",
    "browser.get(url)"
   ]
  },
  {
   "cell_type": "code",
   "execution_count": 7,
   "metadata": {},
   "outputs": [
    {
     "ename": "ElementNotVisibleException",
     "evalue": "Message: element not visible: Element is not currently visible and may not be manipulated\n  (Session info: chrome=63.0.3239.132)\n  (Driver info: chromedriver=2.32.498550 (9dec58e66c31bcc53a9ce3c7226f0c1c5810906a),platform=Windows NT 6.1.7601 SP1 x86_64)\n",
     "output_type": "error",
     "traceback": [
      "\u001b[1;31m---------------------------------------------------------------------------\u001b[0m",
      "\u001b[1;31mElementNotVisibleException\u001b[0m                Traceback (most recent call last)",
      "\u001b[1;32m<ipython-input-7-28b4838afd37>\u001b[0m in \u001b[0;36m<module>\u001b[1;34m()\u001b[0m\n\u001b[1;32m----> 1\u001b[1;33m \u001b[0mbrowser\u001b[0m\u001b[1;33m.\u001b[0m\u001b[0mfind_element_by_xpath\u001b[0m\u001b[1;33m(\u001b[0m\u001b[1;34m'//*[@id=\"tospCol2\"]/option[2]'\u001b[0m\u001b[1;33m)\u001b[0m\u001b[1;33m.\u001b[0m\u001b[0mclick\u001b[0m\u001b[1;33m(\u001b[0m\u001b[1;33m)\u001b[0m\u001b[1;33m\u001b[0m\u001b[0m\n\u001b[0m",
      "\u001b[1;32mC:\\ProgramData\\Anaconda2\\lib\\site-packages\\selenium\\webdriver\\remote\\webelement.pyc\u001b[0m in \u001b[0;36mclick\u001b[1;34m(self)\u001b[0m\n\u001b[0;32m     78\u001b[0m     \u001b[1;32mdef\u001b[0m \u001b[0mclick\u001b[0m\u001b[1;33m(\u001b[0m\u001b[0mself\u001b[0m\u001b[1;33m)\u001b[0m\u001b[1;33m:\u001b[0m\u001b[1;33m\u001b[0m\u001b[0m\n\u001b[0;32m     79\u001b[0m         \u001b[1;34m\"\"\"Clicks the element.\"\"\"\u001b[0m\u001b[1;33m\u001b[0m\u001b[0m\n\u001b[1;32m---> 80\u001b[1;33m         \u001b[0mself\u001b[0m\u001b[1;33m.\u001b[0m\u001b[0m_execute\u001b[0m\u001b[1;33m(\u001b[0m\u001b[0mCommand\u001b[0m\u001b[1;33m.\u001b[0m\u001b[0mCLICK_ELEMENT\u001b[0m\u001b[1;33m)\u001b[0m\u001b[1;33m\u001b[0m\u001b[0m\n\u001b[0m\u001b[0;32m     81\u001b[0m \u001b[1;33m\u001b[0m\u001b[0m\n\u001b[0;32m     82\u001b[0m     \u001b[1;32mdef\u001b[0m \u001b[0msubmit\u001b[0m\u001b[1;33m(\u001b[0m\u001b[0mself\u001b[0m\u001b[1;33m)\u001b[0m\u001b[1;33m:\u001b[0m\u001b[1;33m\u001b[0m\u001b[0m\n",
      "\u001b[1;32mC:\\ProgramData\\Anaconda2\\lib\\site-packages\\selenium\\webdriver\\remote\\webelement.pyc\u001b[0m in \u001b[0;36m_execute\u001b[1;34m(self, command, params)\u001b[0m\n\u001b[0;32m    626\u001b[0m             \u001b[0mparams\u001b[0m \u001b[1;33m=\u001b[0m \u001b[1;33m{\u001b[0m\u001b[1;33m}\u001b[0m\u001b[1;33m\u001b[0m\u001b[0m\n\u001b[0;32m    627\u001b[0m         \u001b[0mparams\u001b[0m\u001b[1;33m[\u001b[0m\u001b[1;34m'id'\u001b[0m\u001b[1;33m]\u001b[0m \u001b[1;33m=\u001b[0m \u001b[0mself\u001b[0m\u001b[1;33m.\u001b[0m\u001b[0m_id\u001b[0m\u001b[1;33m\u001b[0m\u001b[0m\n\u001b[1;32m--> 628\u001b[1;33m         \u001b[1;32mreturn\u001b[0m \u001b[0mself\u001b[0m\u001b[1;33m.\u001b[0m\u001b[0m_parent\u001b[0m\u001b[1;33m.\u001b[0m\u001b[0mexecute\u001b[0m\u001b[1;33m(\u001b[0m\u001b[0mcommand\u001b[0m\u001b[1;33m,\u001b[0m \u001b[0mparams\u001b[0m\u001b[1;33m)\u001b[0m\u001b[1;33m\u001b[0m\u001b[0m\n\u001b[0m\u001b[0;32m    629\u001b[0m \u001b[1;33m\u001b[0m\u001b[0m\n\u001b[0;32m    630\u001b[0m     \u001b[1;32mdef\u001b[0m \u001b[0mfind_element\u001b[0m\u001b[1;33m(\u001b[0m\u001b[0mself\u001b[0m\u001b[1;33m,\u001b[0m \u001b[0mby\u001b[0m\u001b[1;33m=\u001b[0m\u001b[0mBy\u001b[0m\u001b[1;33m.\u001b[0m\u001b[0mID\u001b[0m\u001b[1;33m,\u001b[0m \u001b[0mvalue\u001b[0m\u001b[1;33m=\u001b[0m\u001b[0mNone\u001b[0m\u001b[1;33m)\u001b[0m\u001b[1;33m:\u001b[0m\u001b[1;33m\u001b[0m\u001b[0m\n",
      "\u001b[1;32mC:\\ProgramData\\Anaconda2\\lib\\site-packages\\selenium\\webdriver\\remote\\webdriver.pyc\u001b[0m in \u001b[0;36mexecute\u001b[1;34m(self, driver_command, params)\u001b[0m\n\u001b[0;32m    310\u001b[0m         \u001b[0mresponse\u001b[0m \u001b[1;33m=\u001b[0m \u001b[0mself\u001b[0m\u001b[1;33m.\u001b[0m\u001b[0mcommand_executor\u001b[0m\u001b[1;33m.\u001b[0m\u001b[0mexecute\u001b[0m\u001b[1;33m(\u001b[0m\u001b[0mdriver_command\u001b[0m\u001b[1;33m,\u001b[0m \u001b[0mparams\u001b[0m\u001b[1;33m)\u001b[0m\u001b[1;33m\u001b[0m\u001b[0m\n\u001b[0;32m    311\u001b[0m         \u001b[1;32mif\u001b[0m \u001b[0mresponse\u001b[0m\u001b[1;33m:\u001b[0m\u001b[1;33m\u001b[0m\u001b[0m\n\u001b[1;32m--> 312\u001b[1;33m             \u001b[0mself\u001b[0m\u001b[1;33m.\u001b[0m\u001b[0merror_handler\u001b[0m\u001b[1;33m.\u001b[0m\u001b[0mcheck_response\u001b[0m\u001b[1;33m(\u001b[0m\u001b[0mresponse\u001b[0m\u001b[1;33m)\u001b[0m\u001b[1;33m\u001b[0m\u001b[0m\n\u001b[0m\u001b[0;32m    313\u001b[0m             response['value'] = self._unwrap_value(\n\u001b[0;32m    314\u001b[0m                 response.get('value', None))\n",
      "\u001b[1;32mC:\\ProgramData\\Anaconda2\\lib\\site-packages\\selenium\\webdriver\\remote\\errorhandler.pyc\u001b[0m in \u001b[0;36mcheck_response\u001b[1;34m(self, response)\u001b[0m\n\u001b[0;32m    235\u001b[0m         \u001b[1;32melif\u001b[0m \u001b[0mexception_class\u001b[0m \u001b[1;33m==\u001b[0m \u001b[0mUnexpectedAlertPresentException\u001b[0m \u001b[1;32mand\u001b[0m \u001b[1;34m'alert'\u001b[0m \u001b[1;32min\u001b[0m \u001b[0mvalue\u001b[0m\u001b[1;33m:\u001b[0m\u001b[1;33m\u001b[0m\u001b[0m\n\u001b[0;32m    236\u001b[0m             \u001b[1;32mraise\u001b[0m \u001b[0mexception_class\u001b[0m\u001b[1;33m(\u001b[0m\u001b[0mmessage\u001b[0m\u001b[1;33m,\u001b[0m \u001b[0mscreen\u001b[0m\u001b[1;33m,\u001b[0m \u001b[0mstacktrace\u001b[0m\u001b[1;33m,\u001b[0m \u001b[0mvalue\u001b[0m\u001b[1;33m[\u001b[0m\u001b[1;34m'alert'\u001b[0m\u001b[1;33m]\u001b[0m\u001b[1;33m.\u001b[0m\u001b[0mget\u001b[0m\u001b[1;33m(\u001b[0m\u001b[1;34m'text'\u001b[0m\u001b[1;33m)\u001b[0m\u001b[1;33m)\u001b[0m\u001b[1;33m\u001b[0m\u001b[0m\n\u001b[1;32m--> 237\u001b[1;33m         \u001b[1;32mraise\u001b[0m \u001b[0mexception_class\u001b[0m\u001b[1;33m(\u001b[0m\u001b[0mmessage\u001b[0m\u001b[1;33m,\u001b[0m \u001b[0mscreen\u001b[0m\u001b[1;33m,\u001b[0m \u001b[0mstacktrace\u001b[0m\u001b[1;33m)\u001b[0m\u001b[1;33m\u001b[0m\u001b[0m\n\u001b[0m\u001b[0;32m    238\u001b[0m \u001b[1;33m\u001b[0m\u001b[0m\n\u001b[0;32m    239\u001b[0m     \u001b[1;32mdef\u001b[0m \u001b[0m_value_or_default\u001b[0m\u001b[1;33m(\u001b[0m\u001b[0mself\u001b[0m\u001b[1;33m,\u001b[0m \u001b[0mobj\u001b[0m\u001b[1;33m,\u001b[0m \u001b[0mkey\u001b[0m\u001b[1;33m,\u001b[0m \u001b[0mdefault\u001b[0m\u001b[1;33m)\u001b[0m\u001b[1;33m:\u001b[0m\u001b[1;33m\u001b[0m\u001b[0m\n",
      "\u001b[1;31mElementNotVisibleException\u001b[0m: Message: element not visible: Element is not currently visible and may not be manipulated\n  (Session info: chrome=63.0.3239.132)\n  (Driver info: chromedriver=2.32.498550 (9dec58e66c31bcc53a9ce3c7226f0c1c5810906a),platform=Windows NT 6.1.7601 SP1 x86_64)\n"
     ]
    }
   ],
   "source": [
    "browser.find_element_by_xpath('//*[@id=\"tospCol2\"]/option[2]').click()\n"
   ]
  },
  {
   "cell_type": "code",
   "execution_count": null,
   "metadata": {
    "collapsed": true
   },
   "outputs": [],
   "source": []
  },
  {
   "cell_type": "code",
   "execution_count": 12,
   "metadata": {
    "collapsed": true
   },
   "outputs": [],
   "source": [
    "# go to car panel\n",
    "browser.find_element_by_xpath('//*[@id=\"Insurance\"]/div/ul/li[1]/a').click()"
   ]
  },
  {
   "cell_type": "code",
   "execution_count": 13,
   "metadata": {},
   "outputs": [
    {
     "name": "stdout",
     "output_type": "stream",
     "text": [
      "Scraping Model:BASE GRANDE 1998 Customer BIR YEAR: 1978 Customer Gender: MALE Customer Marital: SINGLE NCD: 50\n"
     ]
    }
   ],
   "source": [
    "n=10\n",
    "\n",
    "for i in range(0,len(gb_df_sample)):\n",
    "    \n",
    "    print 'Scraping Model:{} Customer BIR YEAR: {} Customer Gender: {} Customer Marital: {} NCD: {}'.format(gb_df_sample.loc[i,'MODEL_CC'],\n",
    "                                                                                                    gb_df_sample.loc[i,'BIRTH_YEAR'], \n",
    "                                                                                                    gb_df_sample.loc[i,'GENDER'], \n",
    "                                                                                                    gb_df_sample.loc[i,'MARITAL STATUS'], \n",
    "                                                                                                           gb_df_sample.loc[i,'NCD'])\n",
    "    \n",
    "    \n",
    "    # select age\n",
    "    browser.find_element_by_class_name('age-holder').click()\n",
    "\n",
    "    browser.find_element_by_name('year').click()\n",
    "    # send year\n",
    "    time.sleep(0.5)\n",
    "    browser.find_element_by_name('year').send_keys(gb_df_sample.loc[i,'BIRTH_YEAR'])\n",
    "    time.sleep(0.7)\n",
    "    ###\n",
    "\n",
    "    # select marital status\n",
    "    browser.find_element_by_xpath('//*[@id=\"car-form\"]/div[1]/div[1]/div[2]/button').click()\n",
    "    time.sleep(0.5)\n",
    "    \n",
    "    if gb_df_sample.loc[i,'MARITAL STATUS'] == 'SINGLE':\n",
    "        #single\n",
    "        browser.find_element_by_xpath('//*[@id=\"car-form\"]/div[1]/div[1]/div[2]/div/ul/li[1]/a/link').click()\n",
    "    elif gb_df_sample.loc[i,'MARITAL STATUS'] == 'MARRIED':\n",
    "        #married\n",
    "        browser.find_element_by_xpath('//*[@id=\"car-form\"]/div[1]/div[1]/div[2]/div/ul/li[2]/a/link').click()\n",
    "    else:\n",
    "        continue\n",
    "    time.sleep(1)\n",
    "    ###\n",
    "\n",
    "    # select gender\n",
    "    browser.find_element_by_xpath('//*[@id=\"car-form\"]/div[1]/div[1]/div[3]/div/button').click()\n",
    "    time.sleep(0.5)\n",
    "    \n",
    "    if gb_df_sample.loc[i,'GENDER'] == 'MALE':\n",
    "        # Male\n",
    "        browser.find_element_by_xpath('//*[@id=\"car-form\"]/div[1]/div[1]/div[3]/div/div/ul/li[1]/a/link').click()\n",
    "    elif gb_df_sample.loc[i,'GENDER'] == 'FEMALE':\n",
    "        # Female\n",
    "        browser.find_element_by_xpath('//*[@id=\"car-form\"]/div[1]/div[1]/div[3]/div/div/ul/li[2]/a/link').click()\n",
    "    else:\n",
    "        continue\n",
    "    time.sleep(1)\n",
    "    ###\n",
    "\n",
    "    # select driving exp\n",
    "    browser.find_element_by_xpath('//*[@id=\"car-form\"]/div[1]/div[1]/div[4]/button').click()\n",
    "    time.sleep(0.5)\n",
    "    \n",
    "    if gb_df_sample.loc[i,'LICENCE YEARS'] >=15:\n",
    "        browser.find_element_by_xpath('//*[@id=\"car-form\"]/div[1]/div[1]/div[4]/div/ul/li[16]/a/link').click()\n",
    "    else:\n",
    "        tmp_exp = str(gb_df_sample.loc[i,'LICENCE YEARS']+1)\n",
    "        browser.find_element_by_xpath('//*[@id=\"car-form\"]/div[1]/div[1]/div[4]/div/ul/li[' + tmp_exp + ']/a/link').click()\n",
    "    time.sleep(0.5)\n",
    "    ###\n",
    "\n",
    "    # select NCD (no claim discount)\n",
    "    browser.find_element_by_xpath('//*[@id=\"car-form\"]/div[1]/div[2]/div/div[1]/button').click()\n",
    "    time.sleep(1)\n",
    "    \n",
    "    tmp_ncd = str((gb_df_sample.loc[i,'NCD'] / 10) + 1)\n",
    "    browser.find_element_by_xpath('//*[@id=\"car-form\"]/div[1]/div[2]/div/div[1]/div/ul/li[' + tmp_ncd + ']/a/link').click()\n",
    "    time.sleep(0.5)\n",
    "    ###\n",
    "    \n",
    "    \n",
    "    # select year \n",
    "    browser.find_element_by_xpath('//*[@id=\"carDetails\"]/div[1]/div/button').click()\n",
    "    time.sleep(1)\n",
    "    \n",
    "    tmp_car_year = 2020-gb_df_sample.loc[i,'YEAR OF MANUFACTURE'] #2018+2\n",
    "    browser.find_element_by_xpath('//*[@id=\"carDetails\"]/div[1]/div/div/ul/li[' + str(tmp_car_year) + ']/a/link').click()\n",
    "    time.sleep(0.5)\n",
    "    ###\n",
    "    \n",
    "    # select brand\n",
    "    browser.find_element_by_xpath('//*[@id=\"carDetails\"]/div[2]/div/button').click()\n",
    "    time.sleep(1)\n",
    "    \n",
    "    tmp_car_make = CAR_MAKE_DICT[gb_df_sample.loc[i,'MAKE']]\n",
    "    browser.find_element_by_xpath('//*[@id=\"carDetails\"]/div[2]/div/div/ul/li[' + str(tmp_car_make) + ']/a/link').click()\n",
    "    time.sleep(0.5)\n",
    "    ###\n",
    "    \n",
    "    # select model\n",
    "    browser.find_element_by_xpath('//*[@id=\"carDetails\"]/div[3]/div/button').click()\n",
    "    time.sleep(1)\n",
    "    #choose car model\n",
    "    if CAR_MODEL_DICT[gb_df_sample.loc[i,'MODEL_CC']] != 'NA':\n",
    "        tmp_car_model = CAR_MODEL_DICT[gb_df_sample.loc[i,'MODEL_CC']]\n",
    "        browser.find_element_by_xpath(tmp_car_model).click()\n",
    "    else:\n",
    "        continue\n",
    "\n",
    "    # click show my results\n",
    "    browser.find_element_by_xpath('//*[@id=\"car-form\"]/div[2]/div[2]/button[1]/link').click()\n",
    "    time.sleep(4.5)\n",
    "    \n",
    "    ### navigate to other page already\n",
    "\n",
    "    # click radio button for peak quotes\n",
    "    if gb_df_sample.loc[i,'OFF PEAK'] == 'NO':\n",
    "        browser.find_element_by_xpath('//*[@id=\"detailCollapse\"]/div[2]/div[1]/label').click()\n",
    "        time.sleep(5.5)\n",
    "    elif gb_df_sample.loc[i,'OFF PEAK'] == 'YES':\n",
    "        # for non-peak quotes\n",
    "        browser.find_element_by_xpath('//*[@id=\"detailCollapse\"]/div[2]/div[2]/label').click()\n",
    "        time.sleep(5.5)\n",
    "    else:\n",
    "        continue\n",
    "    \n",
    "    ## click for outdoor if necessary\n",
    "    if gb_df_sample.loc[i,'OCCUPATION'] == 'OUTDOOR SALES/STAFF':\n",
    "        browser.find_element_by_xpath('//*[@id=\"detailCollapse\"]/div[1]/div[2]/label').click()\n",
    "        time.sleep(4)\n",
    "    \n",
    "    # start to get quotes information with beautifulsoup\n",
    "    html = browser.page_source\n",
    "    soup = BeautifulSoup(html, \"lxml\")\n",
    "    \n",
    "    price_table = soup.find_all('span', attrs={'class': 'value'})\n",
    "    insurer_table = soup.find_all('h4', attrs={'class': 'name'})\n",
    "    plan_table = soup.find_all('div',attrs={'class':'card-title text-center'})\n",
    "    excess_table = soup.find_all('p', attrs={'class': 'col-xs-6 text-right detail-value'})\n",
    "\n",
    "    excess_list = []\n",
    "    \n",
    "    j = 0\n",
    "    for x in excess_table:\n",
    "        if j % 5 == 0:\n",
    "            excess_list.append(str(x.find('span').text.strip()))\n",
    "        j = j+1\n",
    "\n",
    "    price_list = []\n",
    "    for price in price_table:\n",
    "        price_list.append(str(price.text.strip()))\n",
    "\n",
    "    insurer_list = []\n",
    "    for insurer in insurer_table:\n",
    "        insurer_list.append(str(insurer.text.strip()))\n",
    "\n",
    "    plan_list = []\n",
    "    for x in plan_table:\n",
    "        plan_list.append(str(x.find('p').text.strip()))\n",
    "        \n",
    "    gb_df_sample.loc[i, 'insurer_names'] = '|'.join(insurer_list)\n",
    "    gb_df_sample.loc[i, 'plans'] = '|'.join(plan_list)\n",
    "    gb_df_sample.loc[i, 'prices'] = '|'.join(price_list)\n",
    "    gb_df_sample.loc[i, 'excesses'] = '|'.join(excess_list)\n",
    "    \n",
    "    if (i+1) % n == 0:\n",
    "        print 'Scraping first {} records'.format(i+1)\n",
    "        gb_df_sample[(i+1-n):(i+1)].to_csv('C:/Users/liuleo/Documents/KT/WEB_SCRAP/gobear_{}_{}.csv'.format(i+401-n,i+401), index=False, sep=';')\n",
    "\n",
    "    \n",
    "    time.sleep(5)\n",
    "    \n",
    "    # navigate to the webpage containing information to be crawled\n",
    "    url = 'https://www.gobear.com/sg'\n",
    "    browser.get(url)\n",
    "\n",
    "    time.sleep(1)\n",
    "    \n",
    "    browser.find_element_by_xpath('//*[@id=\"Insurance\"]/div/ul/li[1]/a').click()\n",
    "    time.sleep(0.5)\n",
    "    \n",
    "    #if (i+1) % n == 0:\n",
    "    #    print 'Scraping first {} records'.format(i+1)\n",
    "    #    gb_df_sample[(i+1-n):(i+1)].to_csv('C:/Users/liuleo/Documents/KT/WEB_SCRAP/gobear_{}_{}.csv'.format(i+1-n,i+1), index=False, sep='|')\n",
    "\n",
    "gb_df_sample.to_csv('C:/Users/liuleo/Documents/KT/WEB_SCRAP/gobear_results_bis2.csv',index=False, sep=';')"
   ]
  },
  {
   "cell_type": "code",
   "execution_count": null,
   "metadata": {
    "collapsed": true
   },
   "outputs": [],
   "source": [
    "CAR_MODEL_DICT[gb_df_sample.loc[i,'MODEL_CC']]"
   ]
  },
  {
   "cell_type": "code",
   "execution_count": null,
   "metadata": {
    "collapsed": true
   },
   "outputs": [],
   "source": [
    "gb_df_sample.loc[i,'MODEL_CC']"
   ]
  },
  {
   "cell_type": "code",
   "execution_count": null,
   "metadata": {
    "collapsed": true
   },
   "outputs": [],
   "source": [
    "browser.find_element_by_xpath('//*[@id=\"carDetails\"]/div[3]/div/button').click()\n",
    "browser.find_element_by_xpath('//*[@id=\"carDetails\"]/div[3]/div/div/ul/li[10]/a/link').click()\n"
   ]
  },
  {
   "cell_type": "code",
   "execution_count": null,
   "metadata": {
    "collapsed": true
   },
   "outputs": [],
   "source": [
    "    # slide bar to move to excess level\n",
    "    #browser.implicitly_wait(5)\n",
    "    #slidebar =  browser.find_element_by_xpath('//*[@id=\"collapseThree\"]/div[3]/div/div')\n",
    "    #height = slidebar.size['height']\n",
    "    #width = slidebar.size['width']\n",
    "    #print height\n",
    "    #print width\n",
    "    \n",
    "    #move = ActionChains(browser)\n",
    "    #sliderknob = browser.find_element_by_xpath('//*[@id=\"collapseThree\"]/div[3]/div/div/div[6]')\n",
    "    #tmp_move = width - (gb_df_sample.loc[i,'POLICY EXCESS'] * width) / 1500\n",
    "    #print '!!!'\n",
    "    #print tmp_move\n",
    "    #move.click_and_hold(sliderknob).move_by_offset(-tmp_move, 0).release().perform()\n",
    "    #time.sleep(3)"
   ]
  },
  {
   "cell_type": "code",
   "execution_count": null,
   "metadata": {
    "collapsed": true
   },
   "outputs": [],
   "source": [
    "# select age\n",
    "browser.find_element_by_class_name('age-holder').click()\n",
    "\n",
    "browser.find_element_by_name('year').click()\n",
    "# send year\n",
    "browser.find_element_by_name('year').send_keys(gb_df_sample.loc[i,'BIRTH_YEAR'])\n",
    "time.sleep(1)\n",
    "###\n",
    "\n",
    "# select marital status\n",
    "browser.find_element_by_xpath('//*[@id=\"car-form\"]/div[1]/div[1]/div[2]/button').click()\n",
    "time.sleep(0.5)\n",
    "\n",
    "if gb_df_sample.loc[i,'MARITAL STATUS'] == 'SINGLE':\n",
    "    #single\n",
    "    browser.find_element_by_xpath('//*[@id=\"car-form\"]/div[1]/div[1]/div[2]/div/ul/li[1]/a/link').click()\n",
    "elif gb_df_sample.loc[i,'MARITAL STATUS'] == 'MARRIED':\n",
    "    #married\n",
    "    browser.find_element_by_xpath('//*[@id=\"car-form\"]/div[1]/div[1]/div[2]/div/ul/li[2]/a/link').click()\n",
    "else:\n",
    "    continue\n",
    "###\n",
    "\n",
    "# select gender\n",
    "browser.find_element_by_xpath('//*[@id=\"car-form\"]/div[1]/div[1]/div[3]/div/button').click()\n",
    "time.sleep(0.5)\n",
    "\n",
    "if gb_df_sample.loc[i,'GENDER'] == 'MALE':\n",
    "    # Male\n",
    "    browser.find_element_by_xpath('//*[@id=\"car-form\"]/div[1]/div[1]/div[3]/div/div/ul/li[1]/a/link').click()\n",
    "elif gb_df_sample.loc[i,'GENDER'] == 'FEMALE':\n",
    "    # Female\n",
    "    browser.find_element_by_xpath('//*[@id=\"car-form\"]/div[1]/div[1]/div[3]/div/div/ul/li[2]/a/link').click()\n",
    "else:\n",
    "    continue\n",
    "###\n",
    "\n",
    "# select driving exp\n",
    "browser.find_element_by_xpath('//*[@id=\"car-form\"]/div[1]/div[1]/div[4]/button').click()\n",
    "time.sleep(0.5)\n",
    "\n",
    "if gb_df_sample.loc[i,'LICENCE YEARS'] >=15:\n",
    "    browser.find_element_by_xpath('//*[@id=\"car-form\"]/div[1]/div[1]/div[4]/div/ul/li[16]/a/link').click()\n",
    "else:\n",
    "    tmp_exp = str(gb_df_sample.loc[i,'LICENCE YEARS']+1)\n",
    "    browser.find_element_by_xpath('//*[@id=\"car-form\"]/div[1]/div[1]/div[4]/div/ul/li[' + tmp_exp + ']/a/link').click()\n",
    "time.sleep(0.5)\n",
    "###\n",
    "\n",
    "# select NCD (no claim discount)\n",
    "browser.find_element_by_xpath('//*[@id=\"car-form\"]/div[1]/div[2]/div/div[1]/button').click()\n",
    "time.sleep(1)\n",
    "\n",
    "tmp_ncd = str((gb_df_sample.loc[i,'NCD'] / 10) + 1)\n",
    "browser.find_element_by_xpath('//*[@id=\"car-form\"]/div[1]/div[2]/div/div[1]/div/ul/li[' + tmp_ncd + ']/a/link').click()\n",
    "time.sleep(0.5)\n",
    "###\n",
    "\n",
    "\n",
    "# select year \n",
    "browser.find_element_by_xpath('//*[@id=\"carDetails\"]/div[1]/div/button').click()\n",
    "time.sleep(1)\n",
    "\n",
    "tmp_car_year = 2020-gb_df_sample.loc[i,'YEAR OF MANUFACTURE'] #2018+2\n",
    "browser.find_element_by_xpath('//*[@id=\"carDetails\"]/div[1]/div/div/ul/li[' + str(tmp_car_year) + ']/a/link').click()\n",
    "time.sleep(0.5)\n",
    "###\n",
    "\n",
    "# select brand\n",
    "browser.find_element_by_xpath('//*[@id=\"carDetails\"]/div[2]/div/button').click()\n",
    "time.sleep(1)\n",
    "\n",
    "tmp_car_make = CAR_MAKE_DICT[gb_df_sample.loc[i,'MAKE']]\n",
    "browser.find_element_by_xpath('//*[@id=\"carDetails\"]/div[2]/div/div/ul/li[' + str(tmp_car_make) + ']/a/link').click()\n",
    "time.sleep(0.5)\n",
    "###\n",
    "\n",
    "# select model\n",
    "browser.find_element_by_xpath('//*[@id=\"carDetails\"]/div[3]/div/button').click()\n",
    "time.sleep(1)\n",
    "#choose car model\n",
    "tmp_car_model = CAR_MODEL_DICT[gb_df_sample.loc[i,'MODEL_CC']]\n",
    "browser.find_element_by_xpath(tmp_car_model).click()\n",
    "\n",
    "# click show my results\n",
    "browser.find_element_by_xpath('//*[@id=\"car-form\"]/div[2]/div[2]/button[1]/link').click()\n",
    "time.sleep(3)\n",
    "\n",
    "### navigate to other page already\n",
    "\n",
    "# click radio button for peak quotes\n",
    "if gb_df_sample.loc[i,'OFF PEAK'] == 'NO':\n",
    "    browser.find_element_by_xpath('//*[@id=\"detailCollapse\"]/div[2]/div[1]/label').click()\n",
    "    time.sleep(4)\n",
    "elif gb_df_sample.loc[i,'OFF PEAK'] == 'YES':\n",
    "    # for non-peak quotes\n",
    "    browser.find_element_by_xpath('//*[@id=\"detailCollapse\"]/div[2]/div[2]/label').click()\n",
    "    time.sleep(4)\n",
    "else:\n",
    "    continue\n",
    "\n",
    "browser.implicitly_wait(5)\n",
    "# slide bar to move to excess level\n",
    "slidebar =  browser.find_element_by_xpath('//*[@id=\"collapseThree\"]/div[3]/div/div')\n",
    "height = slidebar.size['height']\n",
    "width = slidebar.size['width']\n",
    "print height\n",
    "print width\n",
    "\n",
    "move = ActionChains(browser)\n",
    "sliderknob = browser.find_element_by_xpath('//*[@id=\"collapseThree\"]/div[3]/div/div/div[6]')\n",
    "tmp_move = width - (gb_df_sample.loc[i,'POLICY EXCESS'] * width) / 1500\n",
    "print '!!!'\n",
    "print tmp_move\n",
    "move.click_and_hold(sliderknob).move_by_offset(-tmp_move, 0).release().perform()\n",
    "time.sleep(3)\n",
    "\n"
   ]
  },
  {
   "cell_type": "code",
   "execution_count": null,
   "metadata": {
    "collapsed": true
   },
   "outputs": [],
   "source": [
    "html = browser.page_source\n",
    "soup = BeautifulSoup(html, \"lxml\")"
   ]
  },
  {
   "cell_type": "code",
   "execution_count": null,
   "metadata": {
    "collapsed": true
   },
   "outputs": [],
   "source": [
    "price_table = soup.find_all('span', attrs={'class': 'value'})\n",
    "insurer_table = soup.find_all('h4', attrs={'class': 'name'})\n",
    "plan_table = soup.find_all('div',attrs={'class':'card-title text-center'})\n",
    "excess_table = soup.find_all('p', attrs={'class': 'col-xs-6 text-right detail-value'})"
   ]
  },
  {
   "cell_type": "code",
   "execution_count": null,
   "metadata": {
    "collapsed": true
   },
   "outputs": [],
   "source": [
    "plan_table"
   ]
  },
  {
   "cell_type": "code",
   "execution_count": null,
   "metadata": {
    "collapsed": true
   },
   "outputs": [],
   "source": [
    "excess_list = []\n",
    "i= 0\n",
    "for x in excess_table:\n",
    "    if i % 5 == 0:\n",
    "        excess_list.append(str(x.find('span').text.strip()))\n",
    "    i = i+1\n",
    "    \n",
    "\n",
    "price_list = []\n",
    "for price in price_table:\n",
    "    price_list.append(str(price.text.strip()))\n",
    "\n",
    "insurer_list = []\n",
    "for insurer in insurer_table:\n",
    "    insurer_list.append(str(insurer.text.strip()))\n",
    "\n",
    "plan_list = []\n",
    "for x in plan_table:\n",
    "    plan_list.append(str(x.find('p').text.strip()))"
   ]
  },
  {
   "cell_type": "code",
   "execution_count": null,
   "metadata": {
    "collapsed": true
   },
   "outputs": [],
   "source": [
    "plan_list"
   ]
  },
  {
   "cell_type": "code",
   "execution_count": null,
   "metadata": {
    "collapsed": true
   },
   "outputs": [],
   "source": [
    "test = '|'.join(plan_list)"
   ]
  },
  {
   "cell_type": "code",
   "execution_count": null,
   "metadata": {
    "collapsed": true
   },
   "outputs": [],
   "source": [
    "test"
   ]
  },
  {
   "cell_type": "code",
   "execution_count": null,
   "metadata": {
    "collapsed": true
   },
   "outputs": [],
   "source": []
  },
  {
   "cell_type": "code",
   "execution_count": null,
   "metadata": {
    "collapsed": true
   },
   "outputs": [],
   "source": []
  },
  {
   "cell_type": "code",
   "execution_count": null,
   "metadata": {
    "collapsed": true
   },
   "outputs": [],
   "source": [
    "# navigate to the webpage containing information to be crawled\n",
    "url = 'https://www.gobear.com/sg'\n",
    "browser.get(url)\n",
    "\n",
    "time.sleep(1)\n",
    "\n",
    "browser.find_element_by_xpath('//*[@id=\"Insurance\"]/div/ul/li[1]/a').click()\n",
    "time.sleep(0.3)"
   ]
  },
  {
   "cell_type": "code",
   "execution_count": null,
   "metadata": {
    "collapsed": true
   },
   "outputs": [],
   "source": []
  },
  {
   "cell_type": "code",
   "execution_count": null,
   "metadata": {
    "collapsed": true
   },
   "outputs": [],
   "source": []
  },
  {
   "cell_type": "code",
   "execution_count": null,
   "metadata": {
    "collapsed": true
   },
   "outputs": [],
   "source": []
  },
  {
   "cell_type": "code",
   "execution_count": null,
   "metadata": {
    "collapsed": true
   },
   "outputs": [],
   "source": []
  },
  {
   "cell_type": "code",
   "execution_count": null,
   "metadata": {
    "collapsed": true
   },
   "outputs": [],
   "source": []
  },
  {
   "cell_type": "code",
   "execution_count": null,
   "metadata": {
    "collapsed": true
   },
   "outputs": [],
   "source": []
  },
  {
   "cell_type": "code",
   "execution_count": null,
   "metadata": {
    "collapsed": true
   },
   "outputs": [],
   "source": []
  },
  {
   "cell_type": "code",
   "execution_count": null,
   "metadata": {
    "collapsed": true
   },
   "outputs": [],
   "source": []
  },
  {
   "cell_type": "code",
   "execution_count": null,
   "metadata": {
    "collapsed": true
   },
   "outputs": [],
   "source": []
  },
  {
   "cell_type": "code",
   "execution_count": null,
   "metadata": {
    "collapsed": true
   },
   "outputs": [],
   "source": []
  },
  {
   "cell_type": "code",
   "execution_count": null,
   "metadata": {
    "collapsed": true
   },
   "outputs": [],
   "source": []
  },
  {
   "cell_type": "code",
   "execution_count": null,
   "metadata": {
    "collapsed": true
   },
   "outputs": [],
   "source": [
    "# slide bar to move to excess level\n",
    "slidebar =  browser.find_element_by_xpath('//*[@id=\"collapseThree\"]/div[3]/div/div')\n",
    "height = slidebar.size['height']\n",
    "width = slidebar.size['width']\n",
    "print height\n",
    "print width\n",
    "\n",
    "move = ActionChains(browser)\n",
    "sliderknob = browser.find_element_by_xpath('//*[@id=\"collapseThree\"]/div[3]/div/div/div[6]')\n",
    "tmp_move = width - (gb_df.loc[i,'POLICY EXCESS'] * width) / 1500 \n",
    "move.click_and_hold(sliderknob).move_by_offset(-tmp_move, 0).release().perform()\n",
    "#move.click_and_hold(sliderknob).move_by_offset(-(2/3)*width, 0).release().perform()"
   ]
  }
 ],
 "metadata": {
  "kernelspec": {
   "display_name": "Python 2",
   "language": "python",
   "name": "python2"
  },
  "language_info": {
   "codemirror_mode": {
    "name": "ipython",
    "version": 2
   },
   "file_extension": ".py",
   "mimetype": "text/x-python",
   "name": "python",
   "nbconvert_exporter": "python",
   "pygments_lexer": "ipython2",
   "version": "2.7.14"
  }
 },
 "nbformat": 4,
 "nbformat_minor": 2
}
