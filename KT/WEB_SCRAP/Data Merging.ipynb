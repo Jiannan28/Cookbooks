{
 "cells": [
  {
   "cell_type": "markdown",
   "metadata": {},
   "source": [
    "## Files megre"
   ]
  },
  {
   "cell_type": "markdown",
   "metadata": {},
   "source": [
    "Append different files with same structure (snapshots data for example) into one large file"
   ]
  },
  {
   "cell_type": "code",
   "execution_count": 1,
   "metadata": {
    "collapsed": true
   },
   "outputs": [],
   "source": [
    "import pandas as pd\n",
    "import os"
   ]
  },
  {
   "cell_type": "code",
   "execution_count": 3,
   "metadata": {},
   "outputs": [
    {
     "name": "stdout",
     "output_type": "stream",
     "text": [
      "File list ['gobear_00.csv', 'gobear_01.csv', 'gobear_02.csv', 'gobear_03.csv', 'gobear_04.csv', 'gobear_05.csv', 'gobear_06.csv', 'gobear_07.csv', 'gobear_08.csv', 'gobear_09.csv', 'gobear_10.csv', 'gobear_11.csv', 'gobear_12.csv', 'gobear_13.csv', 'gobear_14.csv', 'gobear_15.csv', 'gobear_16.csv', 'gobear_17.csv']\n"
     ]
    }
   ],
   "source": [
    "FOLDER_PATH = 'C:/Users/liuleo/Documents/KT/WEB_SCRAP/test_results/'\n",
    "OUTPUT_FILE = 'C:/Users/liuleo/Documents/KT/WEB_SCRAP/test_results/final.csv'\n",
    "\n",
    "# get the list of csv files (change file suffix to other type if wants to append other file format)\n",
    "files = [x for x in os.listdir(FOLDER_PATH) if x.endswith(\".csv\")]\n",
    "print 'File list {}'.format(files)\n",
    "#initialize the final output dataframe\n",
    "df = pd.DataFrame()\n",
    "#loop the list of files to append\n",
    "for x in files:\n",
    "    # read each file and append to dataframe\n",
    "    tmp = pd.read_csv(FOLDER_PATH + x, sep=';')\n",
    "    df = df.append(tmp, ignore_index=True)\n",
    "# save the concating result to one file\n",
    "df.to_csv(OUTPUT_FILE,sep=';',index=False)"
   ]
  },
  {
   "cell_type": "code",
   "execution_count": null,
   "metadata": {
    "collapsed": true
   },
   "outputs": [],
   "source": []
  }
 ],
 "metadata": {
  "kernelspec": {
   "display_name": "Python 2",
   "language": "python",
   "name": "python2"
  },
  "language_info": {
   "codemirror_mode": {
    "name": "ipython",
    "version": 2
   },
   "file_extension": ".py",
   "mimetype": "text/x-python",
   "name": "python",
   "nbconvert_exporter": "python",
   "pygments_lexer": "ipython2",
   "version": "2.7.14"
  }
 },
 "nbformat": 4,
 "nbformat_minor": 2
}
