{
 "cells": [
  {
   "cell_type": "markdown",
   "metadata": {},
   "source": [
    "# <center>Geocoding Singapore Planning Area information with longitude and latitude</center>"
   ]
  },
  {
   "cell_type": "markdown",
   "metadata": {},
   "source": [
    "Once the longitude and latitude information acquired form GeoCoding with Google Map API, we can then get the Singapore zones and subzones information from geojson file. The zones information will be used to further mapped with socio-demograpy data from Department of Statistics Singapore Census data."
   ]
  },
  {
   "cell_type": "markdown",
   "metadata": {},
   "source": [
    "For Singapore Planning Area Information : https://en.wikipedia.org/wiki/Planning_Areas_of_Singapore\n"
   ]
  },
  {
   "cell_type": "markdown",
   "metadata": {},
   "source": [
    "## Importing packages"
   ]
  },
  {
   "cell_type": "code",
   "execution_count": 1,
   "metadata": {
    "collapsed": true
   },
   "outputs": [],
   "source": [
    "import pandas as pd\n",
    "import numpy as np\n",
    "import shapely\n",
    "from shapely.geometry import Point, shape\n",
    "import json\n",
    "\n",
    "import warnings\n",
    "warnings.filterwarnings('ignore')"
   ]
  },
  {
   "cell_type": "markdown",
   "metadata": {},
   "source": [
    "## READING Input File with Longitude and Latitude info"
   ]
  },
  {
   "cell_type": "code",
   "execution_count": 2,
   "metadata": {
    "collapsed": true
   },
   "outputs": [],
   "source": [
    "# Location where the file has long and lat information\n",
    "FILE_INPUT = 'C:/Users/liuleo/Documents/KT/Ext_Data/Data/hdb_trx.csv'\n",
    "df = pd.read_csv(FILE_INPUT)\n",
    "\n",
    "\n",
    "# GET the column name with longitude info\n",
    "LNG_COL = 'lng' \n",
    "# GET the column name with latitude info\n",
    "LAT_COL = 'lat'\n",
    "# GET the ID (Customer ID or policy ID), here just using month as an illustration\n",
    "ID_COL = 'month'\n",
    "\n",
    "# Define column name saving zone info \n",
    "ZONE_COL = 'zone_name'\n",
    "# Define column name saving region info\n",
    "REGION_COL = 'zone_region'\n",
    "\n",
    "# initiate the zone information \n",
    "df[ZONE_COL] = 0\n",
    "df[REGION_COL] = 0"
   ]
  },
  {
   "cell_type": "code",
   "execution_count": 3,
   "metadata": {
    "collapsed": true
   },
   "outputs": [],
   "source": [
    "# Can a take sample to test first, for example 500\n",
    "df = df[[ID_COL, LNG_COL, LAT_COL]].sample(500).reset_index(drop=True)"
   ]
  },
  {
   "cell_type": "markdown",
   "metadata": {},
   "source": [
    "## READING ZONE GEO JSON FILE"
   ]
  },
  {
   "cell_type": "markdown",
   "metadata": {},
   "source": [
    "Here we use zone geojson file. If subzone info required, then change to read the subzone geojson file"
   ]
  },
  {
   "cell_type": "code",
   "execution_count": 4,
   "metadata": {
    "collapsed": true
   },
   "outputs": [],
   "source": [
    "FILE_ZONES_GEOJSON = 'C:/Users/liuleo/Documents/KT/Ext_Data/GeoJSON/zones_singapore.json'\n",
    "\n",
    "with open(FILE_ZONES_GEOJSON, \"r\") as file:\n",
    "    zone_raw = json.load(file)\n",
    "\n",
    "# Getting the GEO Polygons for zones\n",
    "polygons = [shape(feature['geometry']) for feature in zone_raw['features']]"
   ]
  },
  {
   "cell_type": "markdown",
   "metadata": {},
   "source": [
    "## From Longitude and Latitude info, get zone name and region name for each record "
   ]
  },
  {
   "cell_type": "code",
   "execution_count": 5,
   "metadata": {},
   "outputs": [
    {
     "name": "stdout",
     "output_type": "stream",
     "text": [
      "Mapping Longitude and Latitude for 500 records\n",
      "Mapping Finish First 100\n",
      "Mapping Finish First 200\n",
      "Mapping Finish First 300\n",
      "Mapping Finish First 400\n",
      "Mapping Finish First 500\n"
     ]
    }
   ],
   "source": [
    "print 'Mapping Longitude and Latitude for {} records'.format(len(df))\n",
    "\n",
    "for i in range(len(df)):\n",
    "    \n",
    "    get = df.iloc[i]\n",
    "    \n",
    "    # Filter out empty lan or lng.\n",
    "    if np.isnan(get[LAT_COL]) or np.isnan(get[LNG_COL]):\n",
    "        continue\n",
    "    \n",
    "    # Define the address location with lng and lat\n",
    "    point = Point(get[LNG_COL], get[LAT_COL])\n",
    "    \n",
    "    # Linke the location with zone and region name\n",
    "    for idx, polygon in enumerate(polygons):\n",
    "        if polygon.contains(point):\n",
    "            df.loc[i, ZONE_COL] = zone_raw['features'][idx]['properties']['Name']\n",
    "            df.loc[i, REGION_COL] = zone_raw['features'][idx]['properties']['Region']\n",
    "            break\n",
    "    \n",
    "    if (i+1) % 100 == 0:\n",
    "        print 'Mapping Finish First {}'.format(i+1)"
   ]
  },
  {
   "cell_type": "markdown",
   "metadata": {},
   "source": [
    "## Save results to a text file"
   ]
  },
  {
   "cell_type": "code",
   "execution_count": 6,
   "metadata": {
    "collapsed": true
   },
   "outputs": [],
   "source": [
    "OUTPUT_FILE = 'C:/Users/liuleo/Documents/KT/TMP/geozones_results.csv'\n",
    "df.to_csv(OUTPUT_FILE,sep='|',index=False)"
   ]
  }
 ],
 "metadata": {
  "kernelspec": {
   "display_name": "Python 2",
   "language": "python",
   "name": "python2"
  },
  "language_info": {
   "codemirror_mode": {
    "name": "ipython",
    "version": 2
   },
   "file_extension": ".py",
   "mimetype": "text/x-python",
   "name": "python",
   "nbconvert_exporter": "python",
   "pygments_lexer": "ipython2",
   "version": "2.7.14"
  }
 },
 "nbformat": 4,
 "nbformat_minor": 2
}
