{
 "cells": [
  {
   "cell_type": "markdown",
   "metadata": {},
   "source": [
    "# <center>Prepare GeoJson file used for GeoMAP visualisation</center>"
   ]
  },
  {
   "cell_type": "markdown",
   "metadata": {},
   "source": [
    "<center>This notebook is to combine the Singapore Zone Level Geo shape file with external data fields crawled from different sources. The external attributes will be added to GeoJson file that serves as input for Geomap visualisation with javascript</center>"
   ]
  },
  {
   "cell_type": "markdown",
   "metadata": {},
   "source": [
    "## Importing packages"
   ]
  },
  {
   "cell_type": "markdown",
   "metadata": {},
   "source": [
    "The json package is used for processing json format files in python\n",
    "https://docs.python.org/2/library/json.html"
   ]
  },
  {
   "cell_type": "code",
   "execution_count": 1,
   "metadata": {
    "collapsed": true
   },
   "outputs": [],
   "source": [
    "import pandas as pd\n",
    "import numpy as np\n",
    "import json"
   ]
  },
  {
   "cell_type": "markdown",
   "metadata": {},
   "source": [
    "## Define work directory and input / output files"
   ]
  },
  {
   "cell_type": "code",
   "execution_count": 2,
   "metadata": {
    "collapsed": true
   },
   "outputs": [],
   "source": [
    "WORK_DIR = 'C:/Users/liuleo/Documents/KT/MapViz/'\n",
    "ZONE_GEO = 'zones_singapore.json'\n",
    "EXT_DATA = 'ext_zones_lv.csv'\n",
    "OUTPUT_JSON = 'sg_geo.json'\n",
    "OUTPUt_JS = 'sg_geo.js'"
   ]
  },
  {
   "cell_type": "markdown",
   "metadata": {},
   "source": [
    "## Read external geo-coded data"
   ]
  },
  {
   "cell_type": "code",
   "execution_count": 3,
   "metadata": {
    "collapsed": true
   },
   "outputs": [],
   "source": [
    "all_df = pd.read_csv(WORK_DIR + EXT_DATA)\n",
    "\n",
    "# The attributes that not avaible for certain zones from external data is replaced by 0\n",
    "all_df.fillna(0,inplace=True)"
   ]
  },
  {
   "cell_type": "markdown",
   "metadata": {},
   "source": [
    "### preprocessing (convert numeric to same serializable format )"
   ]
  },
  {
   "cell_type": "code",
   "execution_count": 4,
   "metadata": {
    "collapsed": true
   },
   "outputs": [],
   "source": [
    "for col in all_df.columns:\n",
    "    #print all_df[col].dtype\n",
    "    if all_df[col].dtype == 'int64':\n",
    "        all_df[col] = all_df[col].astype(np.float64)"
   ]
  },
  {
   "cell_type": "markdown",
   "metadata": {},
   "source": [
    "## Read Singapore zone shape json file"
   ]
  },
  {
   "cell_type": "code",
   "execution_count": 5,
   "metadata": {
    "collapsed": true
   },
   "outputs": [],
   "source": [
    "with open(WORK_DIR + ZONE_GEO, \"r\") as jsonFile:\n",
    "    data = json.load(jsonFile)"
   ]
  },
  {
   "cell_type": "markdown",
   "metadata": {},
   "source": [
    "### remove space in the zone name to prepare for merging with external data"
   ]
  },
  {
   "cell_type": "code",
   "execution_count": 6,
   "metadata": {},
   "outputs": [
    {
     "name": "stdout",
     "output_type": "stream",
     "text": [
      "55\n"
     ]
    }
   ],
   "source": [
    "geo_map = {}\n",
    "for f in data['features']:\n",
    "    k = f['properties']['Name']\n",
    "    v = k.replace(\" \",\"\").upper()\n",
    "    geo_map[k] = v \n",
    "\n",
    "# verify number of zones in json file\n",
    "print len(geo_map)"
   ]
  },
  {
   "cell_type": "markdown",
   "metadata": {},
   "source": [
    "## Add external attributes to json file"
   ]
  },
  {
   "cell_type": "code",
   "execution_count": 7,
   "metadata": {
    "collapsed": true
   },
   "outputs": [],
   "source": [
    "for f in data['features']:\n",
    "    info = {}\n",
    "    name = f['properties']['Name']\n",
    "    info['Name'] = name\n",
    "    \n",
    "    if not name in geo_map.keys():\n",
    "        continue\n",
    "    \n",
    "    value_df = all_df[all_df['zones']==geo_map[name]].reset_index(drop=True)\n",
    "\n",
    "    for col in [x for x in all_df.columns.values if x not in ['zones']]:\n",
    "        info[col] = value_df[col].values[0]\n",
    "    \n",
    "    f['info'] = info"
   ]
  },
  {
   "cell_type": "markdown",
   "metadata": {},
   "source": [
    "## Write json file and create input variable for geo viz"
   ]
  },
  {
   "cell_type": "markdown",
   "metadata": {},
   "source": [
    "### save json"
   ]
  },
  {
   "cell_type": "code",
   "execution_count": 8,
   "metadata": {
    "collapsed": true
   },
   "outputs": [],
   "source": [
    "with open(WORK_DIR + OUTPUT_JSON, \"w\") as outfile:\n",
    "    outfile.write(json.dumps(data))\n",
    "jsonFile.close()\n",
    "outfile.close()"
   ]
  },
  {
   "cell_type": "markdown",
   "metadata": {},
   "source": [
    "### write json in a js file"
   ]
  },
  {
   "cell_type": "code",
   "execution_count": 9,
   "metadata": {
    "collapsed": true
   },
   "outputs": [],
   "source": [
    "tmp = json.dumps(data)\n",
    "output_var = 'var zones = [' + tmp + ']'"
   ]
  },
  {
   "cell_type": "code",
   "execution_count": 10,
   "metadata": {},
   "outputs": [
    {
     "name": "stdout",
     "output_type": "stream",
     "text": [
      "writing js to C:/Users/liuleo/Documents/KT/MapViz/sg_geo.js\n"
     ]
    }
   ],
   "source": [
    "print \"writing js to {}\".format(WORK_DIR + OUTPUt_JS)\n",
    "with open(WORK_DIR + OUTPUt_JS, 'w') as the_file:\n",
    "    the_file.write(output_var)"
   ]
  }
 ],
 "metadata": {
  "kernelspec": {
   "display_name": "Python 2",
   "language": "python",
   "name": "python2"
  },
  "language_info": {
   "codemirror_mode": {
    "name": "ipython",
    "version": 2
   },
   "file_extension": ".py",
   "mimetype": "text/x-python",
   "name": "python",
   "nbconvert_exporter": "python",
   "pygments_lexer": "ipython2",
   "version": "2.7.14"
  }
 },
 "nbformat": 4,
 "nbformat_minor": 2
}
