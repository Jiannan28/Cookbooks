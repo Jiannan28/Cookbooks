{
 "cells": [
  {
   "cell_type": "markdown",
   "metadata": {},
   "source": [
    "# <center>Data Science Training</center>\n",
    "<center><b>Twitter Sentiment Analysis</b><br></center>"
   ]
  },
  {
   "cell_type": "markdown",
   "metadata": {},
   "source": [
    "## Import package"
   ]
  },
  {
   "cell_type": "code",
   "execution_count": 1,
   "metadata": {
    "collapsed": true
   },
   "outputs": [],
   "source": [
    "import tweepy\n",
    "from textblob import TextBlob"
   ]
  },
  {
   "cell_type": "markdown",
   "metadata": {},
   "source": [
    "## Initialize twitter api instance"
   ]
  },
  {
   "cell_type": "code",
   "execution_count": 2,
   "metadata": {
    "collapsed": true
   },
   "outputs": [],
   "source": [
    "consumer_key= '6kXoSFPHa3SIrpVLgwNts6Ho4'\n",
    "consumer_secret= 'k0Vje2pLA5XNvqMj5t8wSwR8XhfgVFMeMWOnP5DMmFipZ8DWe7'\n",
    "\n",
    "access_token='1851604596-DoIvnQISSdBZMRLaEKwP8kxNNOFnxomY1pBKWx0'\n",
    "access_token_secret='QCiHeHJ4gFZUjeVhmMbeZZLsFxbYc5Yll5i7s5RAuuTHV'\n",
    "\n",
    "auth = tweepy.OAuthHandler(consumer_key, consumer_secret)\n",
    "auth.set_access_token(access_token, access_token_secret)\n",
    "\n",
    "api = tweepy.API(auth)"
   ]
  },
  {
   "cell_type": "markdown",
   "metadata": {},
   "source": [
    "## Use twitter search api and perform sentiment analysis"
   ]
  },
  {
   "cell_type": "code",
   "execution_count": 3,
   "metadata": {
    "collapsed": true
   },
   "outputs": [
    {
     "name": "stdout",
     "output_type": "stream",
     "text": [
      "15\n",
      "https://t.co/sXBfI7VNuG\n",
      "Sentiment(polarity=0.0, subjectivity=0.0)\n",
      "\n",
      "#AgeasBowl partners with @Samsung to become fully #connectedstadium! \n",
      "\n",
      "https://t.co/WmTduUaGDm via @iSportConnect\n",
      "Sentiment(polarity=0.0, subjectivity=0.0)\n",
      "\n",
      "How much local business does your brokerage attract? It should be the easiest for you to win. \n",
      "Take a look at these… https://t.co/uqvdZMACyj\n",
      "Sentiment(polarity=0.4, subjectivity=0.2)\n",
      "\n",
      "Ageas Seguros vence Prémio Cinco Estrelas pelo segundo ano consecutivo https://t.co/wndnnWFugO\n",
      "Sentiment(polarity=0.0, subjectivity=0.0)\n",
      "\n",
      "Faça uma #simulação no nosso #site dos #seguros #automóvel, #casa, #saúde e saúde #dentária. \n",
      "Saiba mais aqui:… https://t.co/CBIOCBk3w8\n",
      "Sentiment(polarity=0.0, subjectivity=0.0)\n",
      "\n",
      "A couple of great performances against strong opposition has seen the New Forest U16s boys progress to next Sunday'… https://t.co/R0WqzDs4RE\n",
      "Sentiment(polarity=0.3424242424242424, subjectivity=0.484469696969697)\n",
      "\n",
      "Are you on #LinkedIn? Make sure you follow our profile to access news &amp; views shared from the #crewbehindyou https://t.co/PuyCJmxR4G\n",
      "Sentiment(polarity=0.5, subjectivity=0.8888888888888888)\n",
      "\n",
      "RT @BigGreenEvent: Hampshire Chamber Member to host Waste Management Forum in March at the Ageas Bowl. Driving down business waste and sign…\n",
      "Sentiment(polarity=-0.1851851851851852, subjectivity=0.09629629629629631)\n",
      "\n",
      "RT @fight4lives: Sign up the bio! @ Hilton at The Ageas Bowl https://t.co/kLmUKBBkOF\n",
      "Sentiment(polarity=0.0, subjectivity=0.0)\n",
      "\n",
      "Sign up the bio! @ Hilton at The Ageas Bowl https://t.co/kLmUKBBkOF\n",
      "Sentiment(polarity=0.0, subjectivity=0.0)\n",
      "\n",
      "We've got another chance for you to win a spa day at @hiltonageasbowl's amazing @EforeaSpa after 8:30 this morning… https://t.co/84qZl7uVYu\n",
      "Sentiment(polarity=0.7000000000000001, subjectivity=0.65)\n",
      "\n",
      "Ageas reports on the progress of share buy-back programme - Nasdaq https://t.co/pjU7wVxeZv\n",
      "Sentiment(polarity=0.0, subjectivity=0.0)\n",
      "\n",
      "RT @GSTIOWHamp: Come and see us at the Ageas bowl! https://t.co/kRU5DADZIL\n",
      "Sentiment(polarity=0.0, subjectivity=0.0)\n",
      "\n",
      "RT @hantscricket: ICYMI: Giant @SamsungUK LED screens and leading-edge Wi-Fi technology are to be installed at @TheAgeasBowl, creating the…\n",
      "Sentiment(polarity=0.0, subjectivity=1.0)\n",
      "\n",
      "Ageas reports on the progress of share buy-back programme - GlobeNewswire (press release) https://t.co/CEDdOhWtnf\n",
      "Sentiment(polarity=0.0, subjectivity=0.0)\n",
      "\n"
     ]
    }
   ],
   "source": [
    "# Use twitter search api\n",
    "public_tweets = api.search('Ageas')\n",
    "\n",
    "print len(public_tweets)\n",
    "\n",
    "\n",
    "for tweet in public_tweets:\n",
    "    print(tweet.text)\n",
    "    # Perform Sentiment Analysis on Tweets\n",
    "    analysis = TextBlob(tweet.text)\n",
    "    print(analysis.sentiment)\n",
    "    print(\"\")"
   ]
  },
  {
   "cell_type": "markdown",
   "metadata": {},
   "source": [
    "### More Python NLP free to use:\n",
    "NLTP <br>\n",
    "Sklearn (Text extraction, n-grams, tf-idf) <br>\n",
    "TextBlob (Sentiment analysis, classification, translation, part of speech tagging) <br>\n",
    "Gensim (Topic modeling) <br>\n",
    "Vader (Social medial sentiment analysis) <br>\n",
    "Standford NLP (Differnt APIs, multi language tokenizer(chinese, japanese)) <br>\n",
    "Word2Vec (Google pretrained, word similarity, word clustering pattern compeltion) <br>\n",
    "FastText (word vectors pre-trained, DeepLearning for LSTM and CNN) <br>"
   ]
  }
 ],
 "metadata": {
  "kernelspec": {
   "display_name": "Python 2",
   "language": "python",
   "name": "python2"
  },
  "language_info": {
   "codemirror_mode": {
    "name": "ipython",
    "version": 2
   },
   "file_extension": ".py",
   "mimetype": "text/x-python",
   "name": "python",
   "nbconvert_exporter": "python",
   "pygments_lexer": "ipython2",
   "version": "2.7.14"
  }
 },
 "nbformat": 4,
 "nbformat_minor": 2
}
