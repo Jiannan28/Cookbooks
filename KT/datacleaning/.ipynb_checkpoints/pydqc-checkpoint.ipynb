{
 "cells": [
  {
   "cell_type": "markdown",
   "metadata": {},
   "source": [
    "### test with zillow data"
   ]
  },
  {
   "cell_type": "code",
   "execution_count": 1,
   "metadata": {
    "collapsed": true
   },
   "outputs": [],
   "source": [
    "import pandas as pd\n",
    "import numpy\n",
    "\n",
    "from pydqc import infer_schema, data_summary, data_compare, data_consist"
   ]
  },
  {
   "cell_type": "code",
   "execution_count": 2,
   "metadata": {},
   "outputs": [
    {
     "name": "stdout",
     "output_type": "stream",
     "text": [
      "Wall time: 27.2 s\n",
      "Wall time: 23.3 s\n"
     ]
    }
   ],
   "source": [
    "%time data_2016 = pd.read_csv('data/properties_2016.csv')\n",
    "%time data_2017 = pd.read_csv('data/properties_2017.csv')"
   ]
  },
  {
   "cell_type": "code",
   "execution_count": 7,
   "metadata": {},
   "outputs": [
    {
     "name": "stdout",
     "output_type": "stream",
     "text": [
      "(2985217, 58)\n",
      "(2985217, 58)\n"
     ]
    }
   ],
   "source": [
    "print data_2016.shape\n",
    "print data_2017.shape"
   ]
  },
  {
   "cell_type": "markdown",
   "metadata": {},
   "source": [
    "## infer schema"
   ]
  },
  {
   "cell_type": "markdown",
   "metadata": {},
   "source": [
    "#### infer schema based on full set of data "
   ]
  },
  {
   "cell_type": "code",
   "execution_count": 14,
   "metadata": {},
   "outputs": [
    {
     "name": "stdout",
     "output_type": "stream",
     "text": [
      "Wall time: 3min 5s\n"
     ]
    }
   ],
   "source": [
    "%%time\n",
    "infer_schema.infer_schema(_data=data_2016, fname='properties_2016', output_root='output/', \n",
    "                          sample_size=1.0, type_threshold=0.5, n_jobs=2, \n",
    "                          base_schema=None, base_schema_feature_colname='column', base_schema_dtype_colname='type')"
   ]
  },
  {
   "cell_type": "markdown",
   "metadata": {},
   "source": [
    "### infer schema based on sample data"
   ]
  },
  {
   "cell_type": "code",
   "execution_count": 15,
   "metadata": {},
   "outputs": [
    {
     "name": "stdout",
     "output_type": "stream",
     "text": [
      "Wall time: 31.2 s\n"
     ]
    }
   ],
   "source": [
    "%%time\n",
    "infer_schema.infer_schema(_data=data_2016, fname='properties_2016_sample', output_root='output/', \n",
    "                          sample_size=0.1, type_threshold=0.5, n_jobs=2, \n",
    "                          base_schema=None, base_schema_feature_colname='column', base_schema_dtype_colname='type')"
   ]
  },
  {
   "cell_type": "markdown",
   "metadata": {},
   "source": [
    "#### you should check the generated data schema\n",
    "and modify the data types if necessary. :)\n",
    "You can do the modification based on the data dictionary zillow_data_dictionary.xlsx.\n",
    "It's better to save the modified data schema with different name from the original one.\n",
    "In this example, the modified data schema is saved as XXX_mdf.xlsx"
   ]
  },
  {
   "cell_type": "markdown",
   "metadata": {},
   "source": [
    "### infer schema based on base_schema\n",
    "Since we have already generated data schema for data_2016, we can use the modified data schema of data_2016 to infer the schema for data_2017."
   ]
  },
  {
   "cell_type": "code",
   "execution_count": 16,
   "metadata": {
    "collapsed": true
   },
   "outputs": [],
   "source": [
    "data_2016_schema = pd.read_excel('output/data_schema_properties_2016_mdf.xlsx')"
   ]
  },
  {
   "cell_type": "code",
   "execution_count": 17,
   "metadata": {},
   "outputs": [
    {
     "data": {
      "text/html": [
       "<div>\n",
       "<style>\n",
       "    .dataframe thead tr:only-child th {\n",
       "        text-align: right;\n",
       "    }\n",
       "\n",
       "    .dataframe thead th {\n",
       "        text-align: left;\n",
       "    }\n",
       "\n",
       "    .dataframe tbody tr th {\n",
       "        vertical-align: top;\n",
       "    }\n",
       "</style>\n",
       "<table border=\"1\" class=\"dataframe\">\n",
       "  <thead>\n",
       "    <tr style=\"text-align: right;\">\n",
       "      <th></th>\n",
       "      <th>column</th>\n",
       "      <th>type</th>\n",
       "      <th>sample_value</th>\n",
       "      <th>sample_num_uni</th>\n",
       "      <th>sample_min</th>\n",
       "      <th>sample_median</th>\n",
       "      <th>sample_max</th>\n",
       "      <th>sample_std</th>\n",
       "    </tr>\n",
       "  </thead>\n",
       "  <tbody>\n",
       "    <tr>\n",
       "      <th>0</th>\n",
       "      <td>parcelid</td>\n",
       "      <td>key</td>\n",
       "      <td>[11576840, 14178655, 13095053, 17261726, 14690...</td>\n",
       "      <td>2985217</td>\n",
       "      <td>10711725.0</td>\n",
       "      <td>12545094.0</td>\n",
       "      <td>169601949.0</td>\n",
       "      <td>7.909965e+06</td>\n",
       "    </tr>\n",
       "    <tr>\n",
       "      <th>1</th>\n",
       "      <td>airconditioningtypeid</td>\n",
       "      <td>str</td>\n",
       "      <td>[1.0, 1.0, 13.0, 1.0, 1.0]</td>\n",
       "      <td>7</td>\n",
       "      <td>1.0</td>\n",
       "      <td>1.0</td>\n",
       "      <td>13.0</td>\n",
       "      <td>3.148585e+00</td>\n",
       "    </tr>\n",
       "    <tr>\n",
       "      <th>2</th>\n",
       "      <td>architecturalstyletypeid</td>\n",
       "      <td>str</td>\n",
       "      <td>[7.0, 7.0, 7.0, 7.0, 8.0]</td>\n",
       "      <td>8</td>\n",
       "      <td>2.0</td>\n",
       "      <td>7.0</td>\n",
       "      <td>27.0</td>\n",
       "      <td>2.436090e+00</td>\n",
       "    </tr>\n",
       "    <tr>\n",
       "      <th>3</th>\n",
       "      <td>basementsqft</td>\n",
       "      <td>numeric</td>\n",
       "      <td>[805.0, 375.0, 1309.0, 485.0, 24.0]</td>\n",
       "      <td>751</td>\n",
       "      <td>20.0</td>\n",
       "      <td>534.0</td>\n",
       "      <td>8516.0</td>\n",
       "      <td>5.386280e+02</td>\n",
       "    </tr>\n",
       "    <tr>\n",
       "      <th>4</th>\n",
       "      <td>bathroomcnt</td>\n",
       "      <td>numeric</td>\n",
       "      <td>[2.0, 3.5, 1.5, 2.0, 2.0]</td>\n",
       "      <td>37</td>\n",
       "      <td>0.0</td>\n",
       "      <td>2.0</td>\n",
       "      <td>20.0</td>\n",
       "      <td>1.077754e+00</td>\n",
       "    </tr>\n",
       "  </tbody>\n",
       "</table>\n",
       "</div>"
      ],
      "text/plain": [
       "                     column     type  \\\n",
       "0                  parcelid      key   \n",
       "1     airconditioningtypeid      str   \n",
       "2  architecturalstyletypeid      str   \n",
       "3              basementsqft  numeric   \n",
       "4               bathroomcnt  numeric   \n",
       "\n",
       "                                        sample_value  sample_num_uni  \\\n",
       "0  [11576840, 14178655, 13095053, 17261726, 14690...         2985217   \n",
       "1                         [1.0, 1.0, 13.0, 1.0, 1.0]               7   \n",
       "2                          [7.0, 7.0, 7.0, 7.0, 8.0]               8   \n",
       "3                [805.0, 375.0, 1309.0, 485.0, 24.0]             751   \n",
       "4                          [2.0, 3.5, 1.5, 2.0, 2.0]              37   \n",
       "\n",
       "   sample_min  sample_median   sample_max    sample_std  \n",
       "0  10711725.0     12545094.0  169601949.0  7.909965e+06  \n",
       "1         1.0            1.0         13.0  3.148585e+00  \n",
       "2         2.0            7.0         27.0  2.436090e+00  \n",
       "3        20.0          534.0       8516.0  5.386280e+02  \n",
       "4         0.0            2.0         20.0  1.077754e+00  "
      ]
     },
     "execution_count": 17,
     "metadata": {},
     "output_type": "execute_result"
    }
   ],
   "source": [
    "data_2016_schema.head()"
   ]
  },
  {
   "cell_type": "code",
   "execution_count": 18,
   "metadata": {},
   "outputs": [
    {
     "name": "stdout",
     "output_type": "stream",
     "text": [
      "Wall time: 38 s\n"
     ]
    }
   ],
   "source": [
    "%%time\n",
    "infer_schema.infer_schema(_data=data_2017, fname='properties_2017_sample', output_root='output/', \n",
    "                          sample_size=0.1, type_threshold=0.5, n_jobs=2, \n",
    "                          base_schema=data_2016_schema, base_schema_feature_colname='column', base_schema_dtype_colname='type')"
   ]
  },
  {
   "cell_type": "markdown",
   "metadata": {},
   "source": [
    "## data_summary\n",
    "generate data summary report based on the modified data schema"
   ]
  },
  {
   "cell_type": "code",
   "execution_count": 19,
   "metadata": {
    "collapsed": true
   },
   "outputs": [],
   "source": [
    "data_2016_schema = pd.read_excel('output/data_schema_properties_2016_mdf.xlsx')"
   ]
  },
  {
   "cell_type": "code",
   "execution_count": 20,
   "metadata": {},
   "outputs": [
    {
     "name": "stdout",
     "output_type": "stream",
     "text": [
      "Wall time: 43.8 s\n"
     ]
    }
   ],
   "source": [
    "%%time\n",
    "data_summary.data_summary(table_schema=data_2016_schema, _table=data_2016, fname='properties_2016', \n",
    "                          sample_size=1.0, feature_colname='column', dtype_colname='type', output_root='output/', \n",
    "                          keep_images=False, n_jobs=2)"
   ]
  },
  {
   "cell_type": "markdown",
   "metadata": {},
   "source": [
    "### generate data summary notebook\n",
    "if you want to do further checking based on the basic methods provided by data_summary, you can generate a notebook."
   ]
  },
  {
   "cell_type": "code",
   "execution_count": 21,
   "metadata": {
    "collapsed": true
   },
   "outputs": [],
   "source": [
    "data_summary.data_summary_notebook(table_schema=data_2016_schema, _table=data_2016, fname='properties_2016',\n",
    "                                   feature_colname='column', dtype_colname='type', output_root='output/')"
   ]
  },
  {
   "cell_type": "markdown",
   "metadata": {},
   "source": [
    "### draw pretty distribution graph for a column"
   ]
  },
  {
   "cell_type": "code",
   "execution_count": 31,
   "metadata": {},
   "outputs": [
    {
     "data": {
      "text/plain": [
       "<matplotlib.figure.Figure at 0x3bf64550>"
      ]
     },
     "metadata": {},
     "output_type": "display_data"
    },
    {
     "data": {
      "image/png": "[encoded data removed]",
      "text/plain": [
       "<matplotlib.figure.Figure at 0x3bf686d8>"
      ]
     },
     "metadata": {},
     "output_type": "display_data"
    }
   ],
   "source": [
    "col=\"basementsqft\"\n",
    "value_df = data_2016[[col]].copy()\n",
    "data_summary.distribution_summary_pretty(value_df, col, figsize=None, date_flag=False)"
   ]
  },
  {
   "cell_type": "markdown",
   "metadata": {},
   "source": [
    "## data compare"
   ]
  },
  {
   "cell_type": "code",
   "execution_count": 23,
   "metadata": {
    "collapsed": true
   },
   "outputs": [],
   "source": [
    "data_2017_schema = pd.read_excel('output/data_schema_properties_2017_sample_mdf.xlsx')"
   ]
  },
  {
   "cell_type": "code",
   "execution_count": 24,
   "metadata": {},
   "outputs": [
    {
     "name": "stdout",
     "output_type": "stream",
     "text": [
      "Wall time: 1min 29s\n"
     ]
    }
   ],
   "source": [
    "%%time\n",
    "data_compare.data_compare(_table1=data_2016, _table2=data_2017, _schema1=data_2016_schema, _schema2=data_2017_schema,\n",
    "                          fname='properties_2016', sample_size=1.0, feature_colname1='column', feature_colname2='column',\n",
    "                          dtype_colname1='type', dtype_colname2='type', output_root='output/', keep_images=False, n_jobs=2)"
   ]
  },
  {
   "cell_type": "markdown",
   "metadata": {},
   "source": [
    "### generate data compare notebook"
   ]
  },
  {
   "cell_type": "code",
   "execution_count": 25,
   "metadata": {
    "collapsed": true
   },
   "outputs": [],
   "source": [
    "data_compare.data_compare_notebook(_table1=data_2016, _table2=data_2017, _schema1=data_2016_schema, _schema2=data_2017_schema,\n",
    "                                   fname='properties_2016', feature_colname1='column', feature_colname2='column', \n",
    "                                   dtype_colname1='type', dtype_colname2='type', output_root='output/')"
   ]
  },
  {
   "cell_type": "markdown",
   "metadata": {},
   "source": [
    "### draw pretty distribution graph for comparing a column between two tables"
   ]
  },
  {
   "cell_type": "code",
   "execution_count": 33,
   "metadata": {},
   "outputs": [
    {
     "data": {
      "text/plain": [
       "<matplotlib.figure.Figure at 0x34cdc7b8>"
      ]
     },
     "metadata": {},
     "output_type": "display_data"
    },
    {
     "data": {
      "image/png": "[encoded data removed]",
      "text/plain": [
       "<matplotlib.figure.Figure at 0x34cdcbe0>"
      ]
     },
     "metadata": {},
     "output_type": "display_data"
    }
   ],
   "source": [
    "col=\"bathroomcnt\"\n",
    "df1 = data_2016[[col]].copy()\n",
    "df2 = data_2017[[col]].copy()\n",
    "\n",
    "data_compare.distribution_compare_pretty(df1, df2, col, figsize=None, date_flag=False)"
   ]
  },
  {
   "cell_type": "markdown",
   "metadata": {
    "collapsed": true
   },
   "source": [
    "## data consist"
   ]
  },
  {
   "cell_type": "code",
   "execution_count": 27,
   "metadata": {},
   "outputs": [
    {
     "name": "stdout",
     "output_type": "stream",
     "text": [
      "Wall time: 39min 53s\n"
     ]
    }
   ],
   "source": [
    "%%time\n",
    "data_consist.data_consist(_table1=data_2016, _table2=data_2017, _key1='parcelid', _key2='parcelid',\n",
    "                          _schema1=data_2016_schema, _schema2=data_2017_schema,\n",
    "                          fname='properties_2016', sample_size=1.0, feature_colname1='column', feature_colname2='column',\n",
    "                          dtype_colname1='type', dtype_colname2='type', output_root='output/', keep_images=False, n_jobs=4)"
   ]
  },
  {
   "cell_type": "code",
   "execution_count": 28,
   "metadata": {
    "collapsed": true
   },
   "outputs": [],
   "source": [
    "data_consist.data_consist_notebook(_table1=data_2016, _table2=data_2017, _key1='parcelid', _key2='parcelid',\n",
    "                                   _schema1=data_2016_schema, _schema2=data_2017_schema,\n",
    "                                   fname='properties_2016', feature_colname1='column', feature_colname2='column', \n",
    "                                   dtype_colname1='type', dtype_colname2='type', output_root='output/')"
   ]
  },
  {
   "cell_type": "markdown",
   "metadata": {},
   "source": [
    "### draw pretty consist graph for numeric columns"
   ]
  },
  {
   "cell_type": "code",
   "execution_count": 37,
   "metadata": {},
   "outputs": [
    {
     "data": {
      "text/plain": [
       "<matplotlib.figure.Figure at 0x4e01ec50>"
      ]
     },
     "metadata": {},
     "output_type": "display_data"
    },
    {
     "data": {
      "image/png": "[encoded data removed]",
      "text/plain": [
       "<matplotlib.figure.Figure at 0x13c1e208>"
      ]
     },
     "metadata": {},
     "output_type": "display_data"
    }
   ],
   "source": [
    "col=\"bathroomcnt\"\n",
    "key = 'parcelid'\n",
    "df1 = data_2016[[col, key]].copy()\n",
    "df2 = data_2017[[col, key]].copy()\n",
    "\n",
    "data_consist.numeric_consist_pretty(df1, df2, _key1='parcelid', _key2='parcelid', col=col, figsize=None, date_flag=False)"
   ]
  }
 ],
 "metadata": {
  "kernelspec": {
   "display_name": "Python 2",
   "language": "python",
   "name": "python2"
  },
  "language_info": {
   "codemirror_mode": {
    "name": "ipython",
    "version": 2
   },
   "file_extension": ".py",
   "mimetype": "text/x-python",
   "name": "python",
   "nbconvert_exporter": "python",
   "pygments_lexer": "ipython2",
   "version": "2.7.14"
  }
 },
 "nbformat": 4,
 "nbformat_minor": 2
}
