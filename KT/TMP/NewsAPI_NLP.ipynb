{
 "cells": [
  {
   "cell_type": "code",
   "execution_count": 11,
   "metadata": {
    "scrolled": true
   },
   "outputs": [
    {
     "name": "stdout",
     "output_type": "stream",
     "text": [
      "{u'status': u'ok', u'source': u'bbc-news', u'sortBy': u'top', u'articles': [{u'description': u'The meeting, the first of its kind in two years, will focus on the Winter Olympic Games.', u'title': u'North and S Korea set for high-level talks', u'url': u'http://www.bbc.co.uk/news/world-asia-42600550', u'author': u'BBC News', u'publishedAt': u'2018-01-08T22:11:15Z', u'urlToImage': u'https://ichef.bbci.co.uk/news/1024/cpsprodpb/108EC/production/_99502876_gettyimages-901352364.jpg'}, {u'description': u'The man leading the Russia probe is poised to interview the US president, US reports say.', u'title': u\"Mueller 'in talks to interview Trump'\", u'url': u'http://www.bbc.co.uk/news/world-us-canada-42614777', u'author': u'BBC News', u'publishedAt': u'2018-01-08T22:32:29Z', u'urlToImage': u'https://ichef.bbci.co.uk/news/1024/cpsprodpb/156EE/production/_99509778_8d00cd9a-6184-46c1-8fde-87bd9205b090.jpg'}, {u'description': u'Craig Burns and Luke Sullivan are one of the first couples to tie the knot under new legislation.', u'title': u'First gay weddings take place in Australia', u'url': u'http://www.bbc.co.uk/news/world-australia-42615844', u'author': u'BBC News', u'publishedAt': u'2018-01-08T22:56:01Z', u'urlToImage': u'https://ichef.bbci.co.uk/news/1024/cpsprodpb/119D7/production/_99515127_p05t782g.jpg'}, {u'description': u'Prayuth Chan-ocha told reporters to \"ask this guy\" if they had political questions, then walked away.', u'title': u'Thai PM leaves cutout to answer questions', u'url': u'http://www.bbc.co.uk/news/world-asia-42616817', u'author': u'BBC News', u'publishedAt': u'2018-01-09T04:33:00Z', u'urlToImage': u'https://ichef-1.bbci.co.uk/news/1024/cpsprodpb/15163/production/_99517368_3857647f-44d1-4beb-a91d-01d551186792.jpg'}, {u'description': u'Justine Greening resigns saying social mobility in the UK matters \"more than a ministerial career\".', u'title': u\"Greening quits cabinet in PM's reshuffle\", u'url': u'http://www.bbc.co.uk/news/uk-politics-42597785', u'author': u'BBC News', u'publishedAt': u'2018-01-08T23:51:22Z', u'urlToImage': u'https://ichef-1.bbci.co.uk/news/1024/cpsprodpb/CF1D/production/_99512035_043923859-1.jpg'}, {u'description': u'Jonathan Ferris looked into allegations made by murdered journalist Daphne Caruana Galizia.', u'title': u\"Ex-Malta investigator 'fears for his life'\", u'url': u'http://www.bbc.co.uk/news/world-europe-42608261', u'author': u'BBC News', u'publishedAt': u'2018-01-09T00:18:16Z', u'urlToImage': u'https://ichef.bbci.co.uk/news/1024/cpsprodpb/1031B/production/_99513366_de27-1.jpg'}, {u'description': u'Bad weather is hampering efforts to contain a fire and oil spill after two ships collided on Saturday.', u'title': u'Oil tanker still burning off China coast', u'url': u'http://www.bbc.co.uk/news/world-asia-china-42615951', u'author': u'BBC News', u'publishedAt': u'2018-01-09T06:20:51Z', u'urlToImage': u'https://ichef.bbci.co.uk/images/ic/1024x576/p05t5wl8.jpg'}, {u'description': u'Prosecutors will look into claims of \"planned obsolescence\" in iPhones, which is illegal in France.', u'title': u'France investigates iPhone slowdown', u'url': u'http://www.bbc.co.uk/news/world-europe-42615378', u'author': u'BBC News', u'publishedAt': u'2018-01-08T22:47:55Z', u'urlToImage': u'https://ichef.bbci.co.uk/news/1024/cpsprodpb/15343/production/_99515868_gettyimages-869823962.jpg'}, {u'description': u'More than 50 people died when a coach plunged down a cliff on the dangerous Pasamayo road last week.', u'title': u'Peru: Lorry driver admits hitting coach', u'url': u'http://www.bbc.co.uk/news/world-latin-america-42615814', u'author': u'BBC News', u'publishedAt': u'2018-01-08T23:34:06Z', u'urlToImage': u'https://ichef-1.bbci.co.uk/news/1024/cpsprodpb/3986/production/_99462741_66b05e09-87ba-4158-b7db-24f8092027a0.jpg'}, {u'description': u'The South Korean giant shakes off corruption scandal to predict 64% jump in quarterly earnings.', u'title': u\"Samsung profits 'will be new record'\", u'url': u'http://www.bbc.co.uk/news/business-42616427', u'author': u'BBC News', u'publishedAt': u'2018-01-09T02:30:16Z', u'urlToImage': u'https://ichef.bbci.co.uk/news/1024/cpsprodpb/15AB9/production/_99516788_gettyimages-84239595.jpg'}]}\n"
     ]
    }
   ],
   "source": [
    "import requests  # this we will use to call API and get data\n",
    "import json  # to convert python dictionary/list to string format\n",
    "\n",
    "# get API key from NewsAPI.org\n",
    "NEWS_API_KEY = \"15927281cd8f4f818c55e67e0917f5a7\"\n",
    "\n",
    "# url for articles endpoint\n",
    "# I'm using bbc-news source, you can choose a source of your choice \n",
    "# or can pull data from multiple sources\n",
    "url = \"https://newsapi.org/v1/articles?source=bbc-news&apiKey=\"+NEWS_API_KEY\n",
    "\n",
    "# call the api\n",
    "response = requests.get(url)\n",
    "\n",
    "# get the data in json format\n",
    "result = response.json()\n",
    "print(result)"
   ]
  },
  {
   "cell_type": "code",
   "execution_count": 13,
   "metadata": {
    "collapsed": true
   },
   "outputs": [],
   "source": [
    "import pandas as pd"
   ]
  },
  {
   "cell_type": "code",
   "execution_count": 2,
   "metadata": {
    "collapsed": true
   },
   "outputs": [],
   "source": [
    "from nltk.tokenize import word_tokenize  # to split sentences into words\n",
    "from nltk.corpus import stopwords  # to get a list of stopwords\n",
    "from collections import Counter  # to get words-frequency"
   ]
  },
  {
   "cell_type": "code",
   "execution_count": 12,
   "metadata": {},
   "outputs": [
    {
     "name": "stdout",
     "output_type": "stream",
     "text": [
      "Counter({u'first': 2, u'two': 2, u'saying': 1, u'coach': 1, u'probe': 1, u'allegations': 1, u'focus': 1, u'years': 1, u'questions': 1, u'giant': 1, u'ships': 1, u'iphones': 1, u'galizia': 1, u'quarterly': 1, u'poised': 1, u'luke': 1, u'matters': 1, u'knot': 1, u'reporters': 1, u'burns': 1, u'bad': 1, u'journalist': 1, u'man': 1, u'contain': 1, u'guy': 1, u'olympic': 1, u'people': 1, u'jump': 1, u'prayuth': 1, u'saturday': 1, u'away': 1, u'ministerial': 1, u'new': 1, u'corruption': 1, u'told': 1, u'shakes': 1, u'murdered': 1, u'ask': 1, u'last': 1, u'spill': 1, u'career': 1, u'caruana': 1, u'reports': 1, u'greening': 1, u'games': 1, u'planned': 1, u'social': 1, u'efforts': 1, u'road': 1, u'mobility': 1, u'sullivan': 1, u'legislation': 1, u'justine': 1, u'one': 1, u'weather': 1, u'scandal': 1, u'leading': 1, u'political': 1, u'france': 1, u'ferris': 1, u'collided': 1, u'jonathan': 1, u'meeting': 1, u'obsolescence': 1, u'fire': 1, u'prosecutors': 1, u'kind': 1, u'made': 1, u'look': 1, u'dangerous': 1, u'plunged': 1, u'chan-ocha': 1, u'hampering': 1, u'russia': 1, u'resigns': 1, u'predict': 1, u'craig': 1, u'pasamayo': 1, u'couples': 1, u'say': 1, u'illegal': 1, u'winter': 1, u'earnings': 1, u'interview': 1, u'tie': 1, u'korean': 1, u'week': 1, u'oil': 1, u'daphne': 1, u'president': 1, u'died': 1, u'cliff': 1, u'walked': 1, u'looked': 1, u'south': 1, u'claims': 1})\n"
     ]
    }
   ],
   "source": [
    "descriptions = []\n",
    "# this is in continuation of above code\n",
    "# result variable holds the json response\n",
    "# all the news articles are listed under 'articles' key\n",
    "# we are interested in the description of each news article\n",
    "for each_article in result['articles']:\n",
    "    descriptions.append(each_article['description'])\n",
    "\n",
    "# split sentences into words\n",
    "words = []\n",
    "for description in descriptions:\n",
    "    tokens = word_tokenize(description.lower())\n",
    "    words.extend(tokens)\n",
    "\n",
    "# remove stopwords from our words list and also remove any word whose length is less than 3\n",
    "# stopwords are commonly occuring words like is, am, are, they, some, etc.\n",
    "stop_words = set(stopwords.words('english'))\n",
    "stop_words = [x.lower() for x in stop_words]\n",
    "words = [word for word in words if word not in stop_words and len(word)>2]\n",
    "\n",
    "# now, get the words and their frequency\n",
    "words_freq = Counter(words)\n",
    "print(words_freq)"
   ]
  },
  {
   "cell_type": "code",
   "execution_count": null,
   "metadata": {
    "collapsed": true
   },
   "outputs": [],
   "source": []
  }
 ],
 "metadata": {
  "kernelspec": {
   "display_name": "Python 2",
   "language": "python",
   "name": "python2"
  },
  "language_info": {
   "codemirror_mode": {
    "name": "ipython",
    "version": 2
   },
   "file_extension": ".py",
   "mimetype": "text/x-python",
   "name": "python",
   "nbconvert_exporter": "python",
   "pygments_lexer": "ipython2",
   "version": "2.7.13"
  }
 },
 "nbformat": 4,
 "nbformat_minor": 2
}
