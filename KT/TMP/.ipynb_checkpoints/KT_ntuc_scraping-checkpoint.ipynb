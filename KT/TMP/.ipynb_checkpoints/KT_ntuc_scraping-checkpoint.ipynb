{
 "cells": [
  {
   "cell_type": "code",
   "execution_count": 1,
   "metadata": {
    "collapsed": true
   },
   "outputs": [],
   "source": [
    "import selenium\n",
    "from bs4 import BeautifulSoup\n",
    "import urllib2\n",
    "import json\n",
    "\n",
    "import re\n",
    "from selenium import webdriver\n",
    "from selenium.webdriver.support.ui import Select\n",
    "import time\n",
    "\n",
    "import pandas as pd\n",
    "import numpy as np"
   ]
  },
  {
   "cell_type": "code",
   "execution_count": null,
   "metadata": {
    "collapsed": true
   },
   "outputs": [],
   "source": [
    "CAR_MODEL = ['TOYOTA COROLLA ALTIS','HONDA CIVIC']\n",
    "CAR_ENGINE = ['1600']\n",
    "CAR_REGIS = ['2016']\n",
    "OFF_PEAK = ['YES','NO']\n",
    "GENDER = ['MALE','FEMALE']\n",
    "BIRTHDATE = ['01/01/1993','01/01/1983','01/01/1973','01/01/1963','01/01/1953']\n",
    "DRI_EXP = ['LESS_TWO','MORE_TWO']\n",
    "CLM_PST_3Y = ['YES','NO']\n",
    "NCD = [0,20,30,50]"
   ]
  },
  {
   "cell_type": "code",
   "execution_count": 2,
   "metadata": {
    "collapsed": true
   },
   "outputs": [],
   "source": [
    "#initialize selenium chrom driver\n",
    "path_to_chromedriver = 'C:\\Users\\liuleo\\Documents\\Python\\chromedriver_win32\\chromedriver.exe' \n",
    "browser = webdriver.Chrome(executable_path = path_to_chromedriver)"
   ]
  },
  {
   "cell_type": "code",
   "execution_count": 3,
   "metadata": {
    "collapsed": true
   },
   "outputs": [],
   "source": [
    "# navigate to the webpage containing information to be crawled\n",
    "url = 'https://insurance.income.com.sg/quote/car/index/'\n",
    "browser.get(url)"
   ]
  },
  {
   "cell_type": "code",
   "execution_count": 4,
   "metadata": {
    "collapsed": true
   },
   "outputs": [],
   "source": [
    "# select car model \n",
    "select_car_model = Select(browser.find_element_by_id('carMakeModel'))\n",
    "select_car_model.select_by_visible_text('TOYOTA COROLLA ALTIS')"
   ]
  },
  {
   "cell_type": "code",
   "execution_count": 5,
   "metadata": {
    "collapsed": true
   },
   "outputs": [],
   "source": [
    "# select car engine\n",
    "select_car_eng = Select(browser.find_element_by_id('engineCapacities_car'))\n",
    "select_car_eng.select_by_visible_text('1600')"
   ]
  },
  {
   "cell_type": "raw",
   "metadata": {},
   "source": [
    "#method 2, take more time to run\n",
    "\n",
    "el = browser.find_element_by_id('engineCapacities_car')\n",
    "\n",
    "for opt in el.find_elements_by_tag_name('option'):\n",
    "    if opt.text == '1600':\n",
    "        opt.click()\n",
    "        break;"
   ]
  },
  {
   "cell_type": "code",
   "execution_count": 6,
   "metadata": {
    "collapsed": true
   },
   "outputs": [],
   "source": [
    "# sleep before input text \n",
    "time.sleep(1)\n",
    "#input car registered year\n",
    "browser.find_element_by_xpath('//*[@id=\"input-moto-year\"]').send_keys('2016')"
   ]
  },
  {
   "cell_type": "code",
   "execution_count": 7,
   "metadata": {
    "collapsed": true
   },
   "outputs": [],
   "source": [
    "# select Off-Peak Car Scheme\n",
    "browser.find_element_by_xpath('//*[@id=\"tab1\"]/div/div[4]/div/div/label[1]').click()"
   ]
  },
  {
   "cell_type": "code",
   "execution_count": 8,
   "metadata": {
    "collapsed": true
   },
   "outputs": [],
   "source": [
    "#click next\n",
    "browser.find_element_by_xpath('//*[@id=\"tab1\"]/div/ul/li/a').click()\n",
    "# sleep when goes to a new page\n",
    "time.sleep(1)"
   ]
  },
  {
   "cell_type": "code",
   "execution_count": 9,
   "metadata": {
    "collapsed": true
   },
   "outputs": [],
   "source": [
    "# male and single. if change, use corresponding xpath\n",
    "time.sleep(1)\n",
    "#input date of birth\n",
    "browser.find_element_by_xpath('//*[@id=\"date\"]').send_keys('01/01/1993')"
   ]
  },
  {
   "cell_type": "code",
   "execution_count": 10,
   "metadata": {
    "collapsed": true
   },
   "outputs": [],
   "source": [
    "#click next\n",
    "browser.find_element_by_xpath('//*[@id=\"tab2\"]/div/ul/li[2]/a').click()\n",
    "time.sleep(1)"
   ]
  },
  {
   "cell_type": "code",
   "execution_count": 11,
   "metadata": {
    "collapsed": true
   },
   "outputs": [],
   "source": [
    "#choose more than 2 years exp\n",
    "browser.find_element_by_xpath('//*[@id=\"tab3\"]/div/div[1]/div/div[1]/label[2]').click()\n",
    "\n",
    "#for claims in past 3 years, choose no (default value)\n",
    "\n",
    "#for NCD value (keep 0% for default)\n",
    "# if need i times 10% values, then run the following with i times\n",
    "#browser.find_element_by_xpath('//*[@id=\"tab3\"]/div/div[3]/div/div[1]/span[2]/button').click()\n",
    "\n",
    "#date\n",
    "# start from the following day and contract lenght one year"
   ]
  },
  {
   "cell_type": "code",
   "execution_count": 12,
   "metadata": {
    "collapsed": true
   },
   "outputs": [],
   "source": [
    "#click next\n",
    "browser.find_element_by_xpath('//*[@id=\"tab3\"]/div/ul/li[2]/a').click()\n",
    "time.sleep(1)"
   ]
  },
  {
   "cell_type": "code",
   "execution_count": 13,
   "metadata": {
    "collapsed": true
   },
   "outputs": [],
   "source": [
    "#click confirm and get the quote\n",
    "browser.find_element_by_xpath('//*[@id=\"tab4\"]/div[1]/button').click()\n"
   ]
  },
  {
   "cell_type": "code",
   "execution_count": 14,
   "metadata": {
    "collapsed": true
   },
   "outputs": [],
   "source": [
    "time.sleep(1)\n",
    "html = browser.page_source\n",
    "# pass to BeautifulSoup parser\n",
    "soup = BeautifulSoup(html, \"lxml\")"
   ]
  },
  {
   "cell_type": "code",
   "execution_count": 15,
   "metadata": {},
   "outputs": [
    {
     "name": "stdout",
     "output_type": "stream",
     "text": [
      "Drivo Classic Plan\n"
     ]
    }
   ],
   "source": [
    "# Get basic plan\n",
    "name_box = soup.find_all('span', attrs={'class': 'plan-title'})\n",
    "\n",
    "basic_plan_name = name_box[0].text.strip()\n",
    "print basic_plan_name"
   ]
  },
  {
   "cell_type": "code",
   "execution_count": 16,
   "metadata": {},
   "outputs": [
    {
     "name": "stdout",
     "output_type": "stream",
     "text": [
      "\n"
     ]
    }
   ],
   "source": [
    "# Get price\n",
    "price_box = soup.find_all('p',attrs={'id':'plan_price_before_GST_1'})\n",
    "print price_box[0].text.strip()"
   ]
  },
  {
   "cell_type": "code",
   "execution_count": 17,
   "metadata": {
    "collapsed": true
   },
   "outputs": [],
   "source": [
    "time.sleep(1)\n",
    "# start a new quote\n",
    "url = 'https://insurance.income.com.sg/quote/car/index/'\n",
    "browser.get(url)\n",
    "# accept the alert \n",
    "#browser.switch_to_alert().accept()\n",
    "time.sleep(1)"
   ]
  },
  {
   "cell_type": "code",
   "execution_count": null,
   "metadata": {
    "collapsed": true
   },
   "outputs": [],
   "source": []
  },
  {
   "cell_type": "code",
   "execution_count": null,
   "metadata": {
    "collapsed": true
   },
   "outputs": [],
   "source": []
  }
 ],
 "metadata": {
  "kernelspec": {
   "display_name": "Python 2",
   "language": "python",
   "name": "python2"
  },
  "language_info": {
   "codemirror_mode": {
    "name": "ipython",
    "version": 2
   },
   "file_extension": ".py",
   "mimetype": "text/x-python",
   "name": "python",
   "nbconvert_exporter": "python",
   "pygments_lexer": "ipython2",
   "version": "2.7.14"
  }
 },
 "nbformat": 4,
 "nbformat_minor": 2
}
