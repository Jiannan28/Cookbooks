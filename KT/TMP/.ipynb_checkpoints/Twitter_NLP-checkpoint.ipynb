{
 "cells": [
  {
   "cell_type": "code",
   "execution_count": 1,
   "metadata": {
    "collapsed": true
   },
   "outputs": [],
   "source": [
    "import tweepy\n",
    "from textblob import TextBlob"
   ]
  },
  {
   "cell_type": "code",
   "execution_count": 2,
   "metadata": {
    "collapsed": true
   },
   "outputs": [],
   "source": [
    "# Step 1 - Authenticate\n",
    "consumer_key= '6kXoSFPHa3SIrpVLgwNts6Ho4'\n",
    "consumer_secret= 'k0Vje2pLA5XNvqMj5t8wSwR8XhfgVFMeMWOnP5DMmFipZ8DWe7'\n",
    "\n",
    "access_token='1851604596-DoIvnQISSdBZMRLaEKwP8kxNNOFnxomY1pBKWx0'\n",
    "access_token_secret='QCiHeHJ4gFZUjeVhmMbeZZLsFxbYc5Yll5i7s5RAuuTHV'\n",
    "\n",
    "auth = tweepy.OAuthHandler(consumer_key, consumer_secret)\n",
    "auth.set_access_token(access_token, access_token_secret)\n",
    "\n",
    "api = tweepy.API(auth)"
   ]
  },
  {
   "cell_type": "code",
   "execution_count": 4,
   "metadata": {},
   "outputs": [
    {
     "name": "stdout",
     "output_type": "stream",
     "text": [
      "15\n",
      "#Ageas rapporteert over de inkoop van eigen aandelen Analist.nl nieuws... https://t.co/5IiCn5Wehf\n",
      "Sentiment(polarity=0.0, subjectivity=0.0)\n",
      "\n",
      "RT @stephanewuille: KBC vise 40 euros pour Ablynx (+Briefing: AB InBev, Ageas, Umicore, Aedifica, Biocartis, Curetis....) https://t.co/m2XM…\n",
      "Sentiment(polarity=0.0, subjectivity=0.0)\n",
      "\n",
      "RT @lecho: KBC vise 40 euros pour Ablynx (+Briefing: AB InBev, Ageas, Umicore, Aedifica, Biocartis, Curetis....) https://t.co/utt8wKElH4 ht…\n",
      "Sentiment(polarity=0.0, subjectivity=0.0)\n",
      "\n",
      "RT @MarketLive_BE: KBC vise 40 euros pour Ablynx (+Briefing: AB InBev, Ageas, Umicore, Aedifica, Biocartis, Curetis....) https://t.co/mS4Nm…\n",
      "Sentiment(polarity=0.0, subjectivity=0.0)\n",
      "\n",
      "KBC vise 40 euros pour Ablynx (+Briefing: AB InBev, Ageas, Umicore, Aedifica, Biocartis, Curetis....)… https://t.co/40KoScXvkT\n",
      "Sentiment(polarity=0.0, subjectivity=0.0)\n",
      "\n",
      "KBC vise 40 euros pour Ablynx (+Briefing: AB InBev, Ageas, Umicore, Aedifica, Biocartis, Curetis....)… https://t.co/2Cni4imaE4\n",
      "Sentiment(polarity=0.0, subjectivity=0.0)\n",
      "\n",
      "KBC vise 40 euros pour Ablynx (+Briefing: AB InBev, Ageas, Umicore, Aedifica, Biocartis, Curetis....)… https://t.co/eLM43FjogJ\n",
      "Sentiment(polarity=0.0, subjectivity=0.0)\n",
      "\n",
      "@JeeeVeee @MausMichel Ageas is een privé-onderneming, Belfius is een staatsbank. Europa zal vergoeding via staatsbank juridisch aanvechten.\n",
      "Sentiment(polarity=0.0, subjectivity=0.0)\n",
      "\n",
      "@MausMichel is er een groot verschil met vergoeding die Fortis-gedupeerden (gaan) krijgen van Ageas? Waarom doet Europa daar niet moeilijk?\n",
      "Sentiment(polarity=0.0, subjectivity=0.0)\n",
      "\n",
      "Ageas reports on the progress of share buy-back programme https://t.co/qaZxxl64UZ\n",
      "Sentiment(polarity=0.0, subjectivity=0.0)\n",
      "\n",
      "Preparations underway for the the next Fight For Lives show at The Hilton Ageas 17:3:18\n",
      "Tickets… https://t.co/8a7jUtuCgi\n",
      "Sentiment(polarity=0.0, subjectivity=0.0)\n",
      "\n",
      "Administration Assistant @AgeasUK   #Gloucester Info/apply: https://t.co/0VMBlZieAC  #Jobs #RewindHour https://t.co/NPM8LvBpZt\n",
      "Sentiment(polarity=0.0, subjectivity=0.0)\n",
      "\n",
      "@HampshireCB Hursley Park pre season practice nights (Fridays) at Thornden School from 8 to 9.30 pm on Jan  12/26; … https://t.co/LW0BxxHN5p\n",
      "Sentiment(polarity=0.0, subjectivity=0.0)\n",
      "\n",
      "Ageas and Schroders plc: Transparency notification - GlobeNewswire (press release) https://t.co/RCaUSqiY7h\n",
      "Sentiment(polarity=0.0, subjectivity=0.0)\n",
      "\n",
      "Ageas and Schroders plc: Transparency notification - Nasdaq https://t.co/kG1quTybAm\n",
      "Sentiment(polarity=0.0, subjectivity=0.0)\n",
      "\n"
     ]
    }
   ],
   "source": [
    "#Step 3 - Retrieve Tweets\n",
    "public_tweets = api.search('Ageas')\n",
    "\n",
    "\n",
    "\n",
    "#CHALLENGE - Instead of printing out each tweet, save each Tweet to a CSV file\n",
    "#and label each one as either 'positive' or 'negative', depending on the sentiment \n",
    "#You can decide the sentiment polarity threshold yourself\n",
    "print len(public_tweets)\n",
    "\n",
    "for tweet in public_tweets:\n",
    "    print(tweet.text)\n",
    "    \n",
    "    #Step 4 Perform Sentiment Analysis on Tweets\n",
    "    analysis = TextBlob(tweet.text)\n",
    "    print(analysis.sentiment)\n",
    "    print(\"\")"
   ]
  }
 ],
 "metadata": {
  "kernelspec": {
   "display_name": "Python 2",
   "language": "python",
   "name": "python2"
  },
  "language_info": {
   "codemirror_mode": {
    "name": "ipython",
    "version": 2
   },
   "file_extension": ".py",
   "mimetype": "text/x-python",
   "name": "python",
   "nbconvert_exporter": "python",
   "pygments_lexer": "ipython2",
   "version": "2.7.14"
  }
 },
 "nbformat": 4,
 "nbformat_minor": 2
}
