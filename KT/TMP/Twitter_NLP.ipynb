{
 "cells": [
  {
   "cell_type": "code",
   "execution_count": 1,
   "metadata": {
    "collapsed": true
   },
   "outputs": [],
   "source": [
    "import tweepy\n",
    "from textblob import TextBlob"
   ]
  },
  {
   "cell_type": "code",
   "execution_count": 2,
   "metadata": {
    "collapsed": true
   },
   "outputs": [],
   "source": [
    "# Step 1 - Authenticate\n",
    "consumer_key= '6kXoSFPHa3SIrpVLgwNts6Ho4'\n",
    "consumer_secret= 'k0Vje2pLA5XNvqMj5t8wSwR8XhfgVFMeMWOnP5DMmFipZ8DWe7'\n",
    "\n",
    "access_token='1851604596-DoIvnQISSdBZMRLaEKwP8kxNNOFnxomY1pBKWx0'\n",
    "access_token_secret='QCiHeHJ4gFZUjeVhmMbeZZLsFxbYc5Yll5i7s5RAuuTHV'\n",
    "\n",
    "auth = tweepy.OAuthHandler(consumer_key, consumer_secret)\n",
    "auth.set_access_token(access_token, access_token_secret)\n",
    "\n",
    "api = tweepy.API(auth)"
   ]
  },
  {
   "cell_type": "code",
   "execution_count": 9,
   "metadata": {},
   "outputs": [
    {
     "name": "stdout",
     "output_type": "stream",
     "text": [
      "15\n",
      "Spannende, wichtige und prominent besetzte Panels heute beim Fachkongress Digitale Gesellschaft #D21DG. Die… https://t.co/f2JSz3PA0G\n",
      "Sentiment(polarity=0.5, subjectivity=1.0)\n",
      "\n",
      "Die Kinowerbung der Allianz für diesen Versicherungstyp ist Sittenwidrig https://t.co/7kN5g4OCJG\n",
      "Sentiment(polarity=0.0, subjectivity=0.0)\n",
      "\n",
      "RT @LiveSquawk: Allianz Reckons Inflation In Britain Has Peaked - BBG https://t.co/5U7A3Kbzkl\n",
      "Sentiment(polarity=0.0, subjectivity=0.0)\n",
      "\n",
      "@BajajAllianz @BajajAllianz @tapansinghel is it a desired level of service expected from Bajaj Allianz\n",
      "Sentiment(polarity=-0.1, subjectivity=0.4)\n",
      "\n",
      "Allianz reckons inflation in Britain has peaked https://t.co/8d8sqqsmAs с помощью @business\n",
      "Sentiment(polarity=0.0, subjectivity=0.0)\n",
      "\n",
      "Allianz Reckons Inflation In Britain Has Peaked - BBG https://t.co/TCpaQBQFo2\n",
      "Sentiment(polarity=0.0, subjectivity=0.0)\n",
      "\n",
      "Allianz Reckons Inflation In Britain Has Peaked - BBG https://t.co/5U7A3Kbzkl\n",
      "Sentiment(polarity=0.0, subjectivity=0.0)\n",
      "\n",
      "📝 Paddy McBrearty adamant promising @officialdonegal young players can impress during the Allianz League #GAA ⬇️ https://t.co/LJqeIMqfeI\n",
      "Sentiment(polarity=0.13333333333333333, subjectivity=0.5333333333333333)\n",
      "\n",
      "RT @MfHulin: [#MustRead] Jacques Richier, CEO of Allianz France’s op-ed on artificial intelligence.\n",
      "\"At the European level, let's initiate…\n",
      "Sentiment(polarity=-0.45, subjectivity=0.6666666666666666)\n",
      "\n",
      "Allianz: BMW, VW, Daimler sollen Autodaten an Treuhänder geben - manager magazin -  https://t.co/0Ekqv3hbGo\n",
      "Sentiment(polarity=0.0, subjectivity=0.0)\n",
      "\n",
      "All about the Bajaj Allianz Event :)\n",
      "Talk with the Celebs, MD's and many more :)\n",
      "\n",
      " Read here:... https://t.co/O7fiNmmgea\n",
      "Sentiment(polarity=0.5, subjectivity=0.75)\n",
      "\n",
      "RT @GeoffreySupran: Blimey, big win: Lloyds of London, world's oldest insurance market, to #divest coal over climate change, joining...\n",
      "All…\n",
      "Sentiment(polarity=0.4, subjectivity=0.25)\n",
      "\n",
      "Advertorial: Lkw müssen durchschnittlich vier Parkareale anfahren, um einen freien Parkplatz zu finden. Übermüdete… https://t.co/aR4en3FwNf\n",
      "Sentiment(polarity=0.0, subjectivity=0.0)\n",
      "\n",
      "@Denfor7s @malpope Gladbach aren’t as good as Liverpool (apparently).teams don’t do that against us or generally in… https://t.co/dgtEUd2gfF\n",
      "Sentiment(polarity=0.375, subjectivity=0.55)\n",
      "\n",
      "RT @PrawyPopulista: Pani pyta jakie fimry wspierały Nazistów podczas II ws. \n",
      "(plusuje to posłanka PO) \n",
      "\n",
      "Allianz,Random House Publishing,IBM…\n",
      "Sentiment(polarity=0.0, subjectivity=0.0)\n",
      "\n"
     ]
    }
   ],
   "source": [
    "#Step 3 - Retrieve Tweets\n",
    "public_tweets = api.search('Allianz')\n",
    "\n",
    "\n",
    "\n",
    "#CHALLENGE - Instead of printing out each tweet, save each Tweet to a CSV file\n",
    "#and label each one as either 'positive' or 'negative', depending on the sentiment \n",
    "#You can decide the sentiment polarity threshold yourself\n",
    "print len(public_tweets)\n",
    "\n",
    "for tweet in public_tweets:\n",
    "    print(tweet.text)\n",
    "    \n",
    "    #Step 4 Perform Sentiment Analysis on Tweets\n",
    "    analysis = TextBlob(tweet.text)\n",
    "    print(analysis.sentiment)\n",
    "    print(\"\")"
   ]
  }
 ],
 "metadata": {
  "kernelspec": {
   "display_name": "Python 2",
   "language": "python",
   "name": "python2"
  },
  "language_info": {
   "codemirror_mode": {
    "name": "ipython",
    "version": 2
   },
   "file_extension": ".py",
   "mimetype": "text/x-python",
   "name": "python",
   "nbconvert_exporter": "python",
   "pygments_lexer": "ipython2",
   "version": "2.7.14"
  }
 },
 "nbformat": 4,
 "nbformat_minor": 2
}
