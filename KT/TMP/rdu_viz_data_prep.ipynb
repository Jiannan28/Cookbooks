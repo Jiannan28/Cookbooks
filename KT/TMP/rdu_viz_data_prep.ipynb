{
 "cells": [
  {
   "cell_type": "code",
   "execution_count": 1,
   "metadata": {
    "collapsed": true
   },
   "outputs": [],
   "source": [
    "import pandas as pd\n",
    "import numpy as np "
   ]
  },
  {
   "cell_type": "markdown",
   "metadata": {},
   "source": [
    "## read rdu attr sheet"
   ]
  },
  {
   "cell_type": "code",
   "execution_count": 2,
   "metadata": {
    "collapsed": true
   },
   "outputs": [],
   "source": [
    "rdu_df = pd.read_excel('C:/Users/liuleo/Documents/DataManagement/weightedtree/weightedtree/data/RDU_master.xlsx',\n",
    "                      sheet_name='RDU_Attributes')"
   ]
  },
  {
   "cell_type": "code",
   "execution_count": 3,
   "metadata": {},
   "outputs": [
    {
     "data": {
      "text/html": [
       "<div>\n",
       "<style>\n",
       "    .dataframe thead tr:only-child th {\n",
       "        text-align: right;\n",
       "    }\n",
       "\n",
       "    .dataframe thead th {\n",
       "        text-align: left;\n",
       "    }\n",
       "\n",
       "    .dataframe tbody tr th {\n",
       "        vertical-align: top;\n",
       "    }\n",
       "</style>\n",
       "<table border=\"1\" class=\"dataframe\">\n",
       "  <thead>\n",
       "    <tr style=\"text-align: right;\">\n",
       "      <th></th>\n",
       "      <th>Attribute ID</th>\n",
       "      <th>Information entity ID</th>\n",
       "      <th>Information entity</th>\n",
       "      <th>Attribute group ID</th>\n",
       "      <th>Attribute group</th>\n",
       "      <th>Attribute Name</th>\n",
       "      <th>Number of Characters</th>\n",
       "      <th>Last Modified by</th>\n",
       "      <th>Attribute definition</th>\n",
       "      <th>Variable type</th>\n",
       "      <th>Aggregation time interval</th>\n",
       "      <th>Analytical record</th>\n",
       "    </tr>\n",
       "  </thead>\n",
       "  <tbody>\n",
       "    <tr>\n",
       "      <th>0</th>\n",
       "      <td>A73</td>\n",
       "      <td>IE2</td>\n",
       "      <td>CLAIM</td>\n",
       "      <td>AG5</td>\n",
       "      <td>ACCIDENT DETAILS</td>\n",
       "      <td>ACCIDENT_DESCRIPTION</td>\n",
       "      <td>20</td>\n",
       "      <td>NaN</td>\n",
       "      <td>DESCRIPTION OF THE ACCIDENT.</td>\n",
       "      <td>ATTRIBUTE</td>\n",
       "      <td>CUT-OFF</td>\n",
       "      <td>Claim</td>\n",
       "    </tr>\n",
       "    <tr>\n",
       "      <th>1</th>\n",
       "      <td>A74</td>\n",
       "      <td>IE2</td>\n",
       "      <td>CLAIM</td>\n",
       "      <td>AG5</td>\n",
       "      <td>ACCIDENT DETAILS</td>\n",
       "      <td>ACCIDENT_LOCATION</td>\n",
       "      <td>17</td>\n",
       "      <td>NaN</td>\n",
       "      <td>PLACE OF AN ACCIDENT/CONVICTION.</td>\n",
       "      <td>ATTRIBUTE</td>\n",
       "      <td>CUT-OFF</td>\n",
       "      <td>Claim</td>\n",
       "    </tr>\n",
       "    <tr>\n",
       "      <th>2</th>\n",
       "      <td>A75</td>\n",
       "      <td>IE2</td>\n",
       "      <td>CLAIM</td>\n",
       "      <td>AG5</td>\n",
       "      <td>ACCIDENT DETAILS</td>\n",
       "      <td>BODILY_INJURY_INDICATOR</td>\n",
       "      <td>23</td>\n",
       "      <td>NaN</td>\n",
       "      <td>INDICATES WHETHER THE INCIDENT LED TO ANY BODI...</td>\n",
       "      <td>ATTRIBUTE</td>\n",
       "      <td>CUT-OFF</td>\n",
       "      <td>Claim</td>\n",
       "    </tr>\n",
       "    <tr>\n",
       "      <th>3</th>\n",
       "      <td>A76</td>\n",
       "      <td>IE2</td>\n",
       "      <td>CLAIM</td>\n",
       "      <td>AG5</td>\n",
       "      <td>ACCIDENT DETAILS</td>\n",
       "      <td>DEATH_INDICATOR</td>\n",
       "      <td>15</td>\n",
       "      <td>NaN</td>\n",
       "      <td>INDICATES WHETHER THE INCIDENT LED TO ANY DEATHS.</td>\n",
       "      <td>ATTRIBUTE</td>\n",
       "      <td>CUT-OFF</td>\n",
       "      <td>Claim</td>\n",
       "    </tr>\n",
       "    <tr>\n",
       "      <th>4</th>\n",
       "      <td>A77</td>\n",
       "      <td>IE2</td>\n",
       "      <td>CLAIM</td>\n",
       "      <td>AG5</td>\n",
       "      <td>ACCIDENT DETAILS</td>\n",
       "      <td>BODYSHOP_INDICATOR</td>\n",
       "      <td>18</td>\n",
       "      <td>NaN</td>\n",
       "      <td>UNIQUE IDENTIFIER OF GARAGE / BODYSHOP WHERE R...</td>\n",
       "      <td>ATTRIBUTE</td>\n",
       "      <td>CUT-OFF</td>\n",
       "      <td>Claim</td>\n",
       "    </tr>\n",
       "  </tbody>\n",
       "</table>\n",
       "</div>"
      ],
      "text/plain": [
       "  Attribute ID Information entity ID Information entity Attribute group ID  \\\n",
       "0          A73                   IE2              CLAIM                AG5   \n",
       "1          A74                   IE2              CLAIM                AG5   \n",
       "2          A75                   IE2              CLAIM                AG5   \n",
       "3          A76                   IE2              CLAIM                AG5   \n",
       "4          A77                   IE2              CLAIM                AG5   \n",
       "\n",
       "    Attribute group           Attribute Name  Number of Characters  \\\n",
       "0  ACCIDENT DETAILS     ACCIDENT_DESCRIPTION                    20   \n",
       "1  ACCIDENT DETAILS        ACCIDENT_LOCATION                    17   \n",
       "2  ACCIDENT DETAILS  BODILY_INJURY_INDICATOR                    23   \n",
       "3  ACCIDENT DETAILS          DEATH_INDICATOR                    15   \n",
       "4  ACCIDENT DETAILS       BODYSHOP_INDICATOR                    18   \n",
       "\n",
       "  Last Modified by                               Attribute definition  \\\n",
       "0              NaN                       DESCRIPTION OF THE ACCIDENT.   \n",
       "1              NaN                   PLACE OF AN ACCIDENT/CONVICTION.   \n",
       "2              NaN  INDICATES WHETHER THE INCIDENT LED TO ANY BODI...   \n",
       "3              NaN  INDICATES WHETHER THE INCIDENT LED TO ANY DEATHS.   \n",
       "4              NaN  UNIQUE IDENTIFIER OF GARAGE / BODYSHOP WHERE R...   \n",
       "\n",
       "  Variable type Aggregation time interval Analytical record  \n",
       "0     ATTRIBUTE                   CUT-OFF             Claim  \n",
       "1     ATTRIBUTE                   CUT-OFF             Claim  \n",
       "2     ATTRIBUTE                   CUT-OFF             Claim  \n",
       "3     ATTRIBUTE                   CUT-OFF             Claim  \n",
       "4     ATTRIBUTE                   CUT-OFF             Claim  "
      ]
     },
     "execution_count": 3,
     "metadata": {},
     "output_type": "execute_result"
    }
   ],
   "source": [
    "rdu_df.head()"
   ]
  },
  {
   "cell_type": "code",
   "execution_count": 4,
   "metadata": {},
   "outputs": [
    {
     "name": "stdout",
     "output_type": "stream",
     "text": [
      "(1603, 12)\n",
      "1463\n"
     ]
    }
   ],
   "source": [
    "print rdu_df.shape\n",
    "print rdu_df['Attribute Name'].nunique()"
   ]
  },
  {
   "cell_type": "code",
   "execution_count": 5,
   "metadata": {
    "collapsed": true
   },
   "outputs": [],
   "source": [
    "rdu_df = rdu_df[['Attribute ID','Attribute Name','Information entity','Attribute group','Attribute definition']]"
   ]
  },
  {
   "cell_type": "markdown",
   "metadata": {},
   "source": [
    "## read rdu viz csv"
   ]
  },
  {
   "cell_type": "code",
   "execution_count": 6,
   "metadata": {},
   "outputs": [
    {
     "name": "stdout",
     "output_type": "stream",
     "text": [
      "(1603, 12)\n",
      "1462\n"
     ]
    }
   ],
   "source": [
    "viz_df = pd.read_csv('C:/Users/liuleo/Documents/DataManagement/weightedtree/weightedtree/data/test2.csv')\n",
    "print viz_df.shape\n",
    "print viz_df['Level4'].nunique()"
   ]
  },
  {
   "cell_type": "code",
   "execution_count": 7,
   "metadata": {
    "collapsed": true
   },
   "outputs": [],
   "source": [
    "viz_df_full = viz_df.merge(rdu_df,how='inner',left_on=['Level4','Level2','Level3','Comments4'], \n",
    "                           right_on=['Attribute Name','Information entity','Attribute group','Attribute definition'])"
   ]
  },
  {
   "cell_type": "code",
   "execution_count": 8,
   "metadata": {
    "collapsed": true
   },
   "outputs": [],
   "source": [
    "viz_df_full.drop(['Attribute Name','Information entity','Attribute group'], inplace=True, axis=1)"
   ]
  },
  {
   "cell_type": "code",
   "execution_count": 9,
   "metadata": {
    "scrolled": false
   },
   "outputs": [
    {
     "data": {
      "text/plain": [
       "(1602, 14)"
      ]
     },
     "execution_count": 9,
     "metadata": {},
     "output_type": "execute_result"
    }
   ],
   "source": [
    "viz_df_full.shape"
   ]
  },
  {
   "cell_type": "raw",
   "metadata": {
    "collapsed": true
   },
   "source": [
    "test= viz_df_full['Level4'].value_counts(dropna=False)\n",
    "\n",
    "test = test.reset_index(drop=False)\n",
    "\n",
    "test.columns = ['col','freq']"
   ]
  },
  {
   "cell_type": "code",
   "execution_count": 10,
   "metadata": {
    "collapsed": true
   },
   "outputs": [],
   "source": [
    "test = viz_df_full.groupby(['Level4','Level3','Level2'], as_index=False).agg({'All':pd.Series.count})"
   ]
  },
  {
   "cell_type": "code",
   "execution_count": 15,
   "metadata": {},
   "outputs": [
    {
     "data": {
      "text/plain": [
       "(1602, 14)"
      ]
     },
     "execution_count": 15,
     "metadata": {},
     "output_type": "execute_result"
    }
   ],
   "source": [
    "viz_df_full"
   ]
  },
  {
   "cell_type": "markdown",
   "metadata": {},
   "source": [
    "## Reading usecase sheet "
   ]
  },
  {
   "cell_type": "code",
   "execution_count": 28,
   "metadata": {
    "collapsed": true
   },
   "outputs": [],
   "source": [
    "excel_df = pd.ExcelFile(\"C:/Users/liuleo/Documents/DataManagement/weightedtree/weightedtree/data/RDU_master.xlsx\")\n",
    "\n",
    "excel_df.sheet_names\n",
    "\n",
    "uc_df = excel_df.parse('Mapping')"
   ]
  },
  {
   "cell_type": "code",
   "execution_count": 34,
   "metadata": {
    "scrolled": true
   },
   "outputs": [
    {
     "data": {
      "text/plain": [
       "array([u'Use case ID', u'Use case description', u'Attribute ID',\n",
       "       u'Attribute name', u'Product Category', u'Product line', u'Product',\n",
       "       u'Relevance', u'Channel'], dtype=object)"
      ]
     },
     "execution_count": 34,
     "metadata": {},
     "output_type": "execute_result"
    }
   ],
   "source": [
    "uc_df.columns.values"
   ]
  },
  {
   "cell_type": "code",
   "execution_count": 43,
   "metadata": {
    "collapsed": true
   },
   "outputs": [],
   "source": [
    "# join for lead aquisition : UC1.0 Increase Customer acquisition Identify most profitable leads/prospects to acquire through \"People like you\" analysis in the bancassurance channel\n",
    "uc_df_xsell = uc_df[uc_df['Use case ID']=='UC1.0'][['Attribute ID','Use case ID']].reset_index(drop=True)"
   ]
  },
  {
   "cell_type": "code",
   "execution_count": 45,
   "metadata": {
    "collapsed": true
   },
   "outputs": [],
   "source": [
    "viz_df_full = viz_df_full.merge(uc_df_xsell,how='left',left_on='Attribute ID',right_on='Attribute ID')\n",
    "\n",
    "viz_df_full = viz_df_full.rename(columns={'Use case ID':'Marketing'})"
   ]
  },
  {
   "cell_type": "code",
   "execution_count": 59,
   "metadata": {
    "collapsed": true
   },
   "outputs": [],
   "source": [
    "# join for u18 : Explore customer relationships to identify fraud patterns in social networks  based on internal and social media data\n",
    "uc_df_fraud = uc_df[uc_df['Use case ID']=='UC18.0'][['Attribute ID','Use case ID']].reset_index(drop=True)"
   ]
  },
  {
   "cell_type": "code",
   "execution_count": 60,
   "metadata": {
    "collapsed": true
   },
   "outputs": [],
   "source": [
    "viz_df_full = viz_df_full.merge(uc_df_fraud,how='left',left_on='Attribute ID',right_on='Attribute ID')\n",
    "\n",
    "viz_df_full = viz_df_full.rename(columns={'Use case ID':'Claim'})"
   ]
  },
  {
   "cell_type": "code",
   "execution_count": 67,
   "metadata": {
    "collapsed": true
   },
   "outputs": [],
   "source": [
    "UC_COLS = ['Marketing','Claim']\n",
    "for col in UC_COLS:\n",
    "    viz_df_full[col] = viz_df_full[col].apply(lambda x : 0 if pd.isnull(x) else 1)"
   ]
  },
  {
   "cell_type": "code",
   "execution_count": 70,
   "metadata": {
    "collapsed": true
   },
   "outputs": [],
   "source": [
    "viz_df_full.to_csv('C:/Users/liuleo/Documents/DataManagement/weightedtree/weightedtree/data/test2_uc.csv',index=False)"
   ]
  },
  {
   "cell_type": "code",
   "execution_count": null,
   "metadata": {
    "collapsed": true
   },
   "outputs": [],
   "source": []
  }
 ],
 "metadata": {
  "kernelspec": {
   "display_name": "Python 2",
   "language": "python",
   "name": "python2"
  },
  "language_info": {
   "codemirror_mode": {
    "name": "ipython",
    "version": 2
   },
   "file_extension": ".py",
   "mimetype": "text/x-python",
   "name": "python",
   "nbconvert_exporter": "python",
   "pygments_lexer": "ipython2",
   "version": "2.7.14"
  }
 },
 "nbformat": 4,
 "nbformat_minor": 2
}
