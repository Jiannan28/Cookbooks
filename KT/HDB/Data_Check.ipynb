{
 "cells": [
  {
   "cell_type": "code",
   "execution_count": 1,
   "metadata": {
    "collapsed": true
   },
   "outputs": [],
   "source": [
    "import pandas as pd\n",
    "import numpy as np"
   ]
  },
  {
   "cell_type": "code",
   "execution_count": 2,
   "metadata": {
    "collapsed": true
   },
   "outputs": [],
   "source": [
    "hdb_full = pd.read_csv('C:/Users/liuleo/Documents/KT/Etiqa/hdb_trx_full.csv')"
   ]
  },
  {
   "cell_type": "code",
   "execution_count": 10,
   "metadata": {},
   "outputs": [
    {
     "data": {
      "text/plain": [
       "(93798, 29)"
      ]
     },
     "execution_count": 10,
     "metadata": {},
     "output_type": "execute_result"
    }
   ],
   "source": [
    "hdb_full.shape"
   ]
  },
  {
   "cell_type": "code",
   "execution_count": 5,
   "metadata": {
    "scrolled": true
   },
   "outputs": [
    {
     "data": {
      "text/plain": [
       "town                             object\n",
       "flat_type                        object\n",
       "block                            object\n",
       "street_name                      object\n",
       "storey_range                     object\n",
       "floor_area_sqm                  float64\n",
       "flat_model                       object\n",
       "lease_commence_date               int64\n",
       "resale_price                    float64\n",
       "address                          object\n",
       "lng                             float64\n",
       "lat                             float64\n",
       "postal_code_long_name             int64\n",
       "postal_code_short_name            int64\n",
       "Property Type                    object\n",
       "subzones_name                    object\n",
       "subzones_region                  object\n",
       "zones_name                       object\n",
       "zones_region                     object\n",
       "price_psqm                        int64\n",
       "price_psqm_mean_zones             int64\n",
       "price_psqm_median_zones           int64\n",
       "nb_trx_zones                      int64\n",
       "price_psqm_mean_subzones          int64\n",
       "price_psqm_median_subzones        int64\n",
       "nb_trx_subzones                   int64\n",
       "price_psqm_mean_postalcode        int64\n",
       "price_psqm_median_postalcode      int64\n",
       "nb_trx_postalcode                 int64\n",
       "dtype: object"
      ]
     },
     "execution_count": 5,
     "metadata": {},
     "output_type": "execute_result"
    }
   ],
   "source": [
    "hdb_full.dtypes"
   ]
  },
  {
   "cell_type": "code",
   "execution_count": 7,
   "metadata": {},
   "outputs": [
    {
     "name": "stdout",
     "output_type": "stream",
     "text": [
      "97\n",
      "8347\n",
      "8444\n"
     ]
    }
   ],
   "source": [
    "print hdb_full[hdb_full['postal_code_long_name']<100000]['postal_code_long_name'].nunique()\n",
    "print hdb_full[hdb_full['postal_code_long_name']>=100000]['postal_code_long_name'].nunique()\n",
    "print hdb_full['postal_code_long_name'].nunique()"
   ]
  },
  {
   "cell_type": "code",
   "execution_count": 13,
   "metadata": {
    "collapsed": true
   },
   "outputs": [],
   "source": [
    "hdb_full['len_postal'] = hdb_full['postal_code_long_name'].apply(lambda x: len(str(x)))"
   ]
  },
  {
   "cell_type": "code",
   "execution_count": 14,
   "metadata": {},
   "outputs": [
    {
     "data": {
      "text/plain": [
       "6    92480\n",
       "5     1318\n",
       "Name: len_postal, dtype: int64"
      ]
     },
     "execution_count": 14,
     "metadata": {},
     "output_type": "execute_result"
    }
   ],
   "source": [
    "hdb_full['len_postal'].value_counts(dropna=False)"
   ]
  },
  {
   "cell_type": "code",
   "execution_count": 15,
   "metadata": {},
   "outputs": [
    {
     "name": "stdout",
     "output_type": "stream",
     "text": [
      "97\n",
      "8347\n"
     ]
    }
   ],
   "source": [
    "print hdb_full[hdb_full['len_postal']==5]['postal_code_long_name'].nunique()\n",
    "print hdb_full[hdb_full['len_postal']==6]['postal_code_long_name'].nunique()"
   ]
  },
  {
   "cell_type": "code",
   "execution_count": 8,
   "metadata": {
    "collapsed": true
   },
   "outputs": [],
   "source": [
    "old_hdb_full = pd.read_csv('C:/Users/liuleo/Documents/AETIQA_HDB/DATA/ExternalData/hdb_trx.csv')"
   ]
  },
  {
   "cell_type": "code",
   "execution_count": 11,
   "metadata": {
    "collapsed": true
   },
   "outputs": [
    {
     "data": {
      "text/plain": [
       "town                           object\n",
       "flat_type                      object\n",
       "block                          object\n",
       "street_name                    object\n",
       "storey_range                   object\n",
       "floor_area_sqm                float64\n",
       "flat_model                     object\n",
       "lease_commence_date             int64\n",
       "resale_price                  float64\n",
       "address                        object\n",
       "lng                           float64\n",
       "lat                           float64\n",
       "postal_code_long_name           int64\n",
       "postal_code_short_name          int64\n",
       "Property Type                  object\n",
       "subzones_name                  object\n",
       "subzones_region                object\n",
       "zones_name                     object\n",
       "zones_region                   object\n",
       "price_psqm                      int64\n",
       "price_psqm_mean                 int64\n",
       "price_psqm_median               int64\n",
       "nb_trx                          int64\n",
       "price_psqm_mean_zones           int64\n",
       "price_psqm_median_zones         int64\n",
       "nb_trx_zones                    int64\n",
       "price_psqm_mean_subzones        int64\n",
       "price_psqm_median_subzones      int64\n",
       "nb_trx_subzones                 int64\n",
       "year                            int64\n",
       "dtype: object"
      ]
     },
     "execution_count": 11,
     "metadata": {},
     "output_type": "execute_result"
    }
   ],
   "source": [
    "old_hdb_full.dtypes"
   ]
  },
  {
   "cell_type": "code",
   "execution_count": 12,
   "metadata": {},
   "outputs": [
    {
     "name": "stdout",
     "output_type": "stream",
     "text": [
      "96\n",
      "8333\n",
      "8429\n"
     ]
    }
   ],
   "source": [
    "print old_hdb_full[old_hdb_full['postal_code_long_name']<100000]['postal_code_long_name'].nunique()\n",
    "print old_hdb_full[old_hdb_full['postal_code_long_name']>=100000]['postal_code_long_name'].nunique()\n",
    "print old_hdb_full['postal_code_long_name'].nunique()"
   ]
  },
  {
   "cell_type": "code",
   "execution_count": 16,
   "metadata": {
    "collapsed": true
   },
   "outputs": [],
   "source": [
    "old_hdb_full['len_postal'] = old_hdb_full['postal_code_long_name'].apply(lambda x: len(str(x)))"
   ]
  },
  {
   "cell_type": "code",
   "execution_count": 17,
   "metadata": {},
   "outputs": [
    {
     "data": {
      "text/plain": [
       "6    92480\n",
       "5     1318\n",
       "Name: len_postal, dtype: int64"
      ]
     },
     "execution_count": 17,
     "metadata": {},
     "output_type": "execute_result"
    }
   ],
   "source": [
    "old_hdb_full['len_postal'].value_counts(dropna=False)"
   ]
  },
  {
   "cell_type": "code",
   "execution_count": 18,
   "metadata": {},
   "outputs": [
    {
     "name": "stdout",
     "output_type": "stream",
     "text": [
      "96\n",
      "8333\n"
     ]
    }
   ],
   "source": [
    "print old_hdb_full[old_hdb_full['len_postal']==5]['postal_code_long_name'].nunique()\n",
    "print old_hdb_full[old_hdb_full['len_postal']==6]['postal_code_long_name'].nunique()"
   ]
  },
  {
   "cell_type": "code",
   "execution_count": 19,
   "metadata": {
    "collapsed": true
   },
   "outputs": [],
   "source": [
    "hdb_or = pd.read_csv('C:/Users/liuleo/Documents/KT/Etiqa/hdb_full_info.csv')"
   ]
  },
  {
   "cell_type": "code",
   "execution_count": 20,
   "metadata": {},
   "outputs": [
    {
     "data": {
      "text/plain": [
       "(8455, 12)"
      ]
     },
     "execution_count": 20,
     "metadata": {},
     "output_type": "execute_result"
    }
   ],
   "source": [
    "hdb_or.shape"
   ]
  },
  {
   "cell_type": "code",
   "execution_count": 21,
   "metadata": {},
   "outputs": [
    {
     "data": {
      "text/plain": [
       "block                      object\n",
       "street_name                object\n",
       "address                    object\n",
       "lng                       float64\n",
       "lat                       float64\n",
       "postal_code_long_name       int64\n",
       "postal_code_short_name      int64\n",
       "Property Type              object\n",
       "subzones_name              object\n",
       "subzones_region            object\n",
       "zones_name                 object\n",
       "zones_region               object\n",
       "dtype: object"
      ]
     },
     "execution_count": 21,
     "metadata": {},
     "output_type": "execute_result"
    }
   ],
   "source": [
    "hdb_or.dtypes"
   ]
  },
  {
   "cell_type": "code",
   "execution_count": 22,
   "metadata": {},
   "outputs": [
    {
     "data": {
      "text/plain": [
       "8431"
      ]
     },
     "execution_count": 22,
     "metadata": {},
     "output_type": "execute_result"
    }
   ],
   "source": [
    "hdb_or['postal_code_long_name'].nunique()"
   ]
  },
  {
   "cell_type": "code",
   "execution_count": 23,
   "metadata": {},
   "outputs": [
    {
     "name": "stdout",
     "output_type": "stream",
     "text": [
      "6    8358\n",
      "5      97\n",
      "Name: len_postal, dtype: int64\n",
      "96\n",
      "8335\n"
     ]
    }
   ],
   "source": [
    "hdb_or['len_postal'] = hdb_or['postal_code_long_name'].apply(lambda x: len(str(x)))\n",
    "print hdb_or['len_postal'].value_counts(dropna=False)\n",
    "print hdb_or[hdb_or['len_postal']==5]['postal_code_long_name'].nunique()\n",
    "print hdb_or[hdb_or['len_postal']==6]['postal_code_long_name'].nunique()"
   ]
  },
  {
   "cell_type": "code",
   "execution_count": 24,
   "metadata": {
    "collapsed": true
   },
   "outputs": [],
   "source": [
    "hdb_zo = pd.read_csv('C:/Users/liuleo/Documents/KT/Etiqa/hdb_full_zones.csv')"
   ]
  },
  {
   "cell_type": "code",
   "execution_count": 27,
   "metadata": {},
   "outputs": [
    {
     "data": {
      "text/plain": [
       "8429"
      ]
     },
     "execution_count": 27,
     "metadata": {},
     "output_type": "execute_result"
    }
   ],
   "source": [
    "hdb_zo['postal_code_long_name'].nunique()"
   ]
  },
  {
   "cell_type": "code",
   "execution_count": 28,
   "metadata": {},
   "outputs": [
    {
     "name": "stdout",
     "output_type": "stream",
     "text": [
      "6    8358\n",
      "5      97\n",
      "Name: len_postal, dtype: int64\n",
      "96\n",
      "8333\n"
     ]
    }
   ],
   "source": [
    "hdb_zo['len_postal'] = hdb_zo['postal_code_long_name'].apply(lambda x: len(str(x)))\n",
    "print hdb_zo['len_postal'].value_counts(dropna=False)\n",
    "print hdb_zo[hdb_zo['len_postal']==5]['postal_code_long_name'].nunique()\n",
    "print hdb_zo[hdb_zo['len_postal']==6]['postal_code_long_name'].nunique()"
   ]
  },
  {
   "cell_type": "code",
   "execution_count": null,
   "metadata": {
    "collapsed": true
   },
   "outputs": [],
   "source": []
  }
 ],
 "metadata": {
  "kernelspec": {
   "display_name": "Python 2",
   "language": "python",
   "name": "python2"
  },
  "language_info": {
   "codemirror_mode": {
    "name": "ipython",
    "version": 2
   },
   "file_extension": ".py",
   "mimetype": "text/x-python",
   "name": "python",
   "nbconvert_exporter": "python",
   "pygments_lexer": "ipython2",
   "version": "2.7.14"
  }
 },
 "nbformat": 4,
 "nbformat_minor": 2
}
