{
 "cells": [
  {
   "cell_type": "markdown",
   "metadata": {},
   "source": [
    "# Customer Clustering Implementation\n",
    " - Used number of cluster N = 7\n",
    " - Used Kprototypes (combined KMeans and KModes) algorithm\n",
    " - Used Decision Tree for results interpretation\n",
    " - Simple visualization for interpretation and presentation"
   ]
  },
  {
   "cell_type": "code",
   "execution_count": 1,
   "metadata": {
    "collapsed": false
   },
   "outputs": [
    {
     "name": "stderr",
     "output_type": "stream",
     "text": [
      "/home/yxu/.conda/envs/cloneAnaconda2/lib/python2.7/site-packages/sklearn/cross_validation.py:44: DeprecationWarning: This module was deprecated in version 0.18 in favor of the model_selection module into which all the refactored classes and functions are moved. Also note that the interface of the new CV iterators are different from that of this module. This module will be removed in 0.20.\n",
      "  \"This module will be removed in 0.20.\", DeprecationWarning)\n",
      "/home/yxu/.conda/envs/cloneAnaconda2/lib/python2.7/site-packages/sklearn/grid_search.py:43: DeprecationWarning: This module was deprecated in version 0.18 in favor of the model_selection module into which all the refactored classes and functions are moved. This module will be removed in 0.20.\n",
      "  DeprecationWarning)\n",
      "/home/yxu/.conda/envs/cloneAnaconda2/lib/python2.7/site-packages/matplotlib/__init__.py:872: UserWarning: axes.color_cycle is deprecated and replaced with axes.prop_cycle; please use the latter.\n",
      "  warnings.warn(self.msg_depr % (key, alt_key))\n"
     ]
    }
   ],
   "source": [
    "import pandas as pd\n",
    "pd.set_option('max_columns', 60)\n",
    "\n",
    "import numpy as np\n",
    "import scipy as sp\n",
    "import sklearn as sk\n",
    "from sklearn.preprocessing import scale\n",
    "from sklearn.utils.validation import check_array\n",
    "from sklearn.tree import DecisionTreeClassifier\n",
    "from sklearn.metrics import confusion_matrix, classification_report, auc, roc_curve\n",
    "from sklearn.cross_validation import cross_val_score\n",
    "from sklearn.grid_search import  GridSearchCV\n",
    "\n",
    "import matplotlib\n",
    "import matplotlib.pyplot as plt\n",
    "%matplotlib inline\n",
    "\n",
    "import os\n",
    "import seaborn as sns; sns.set(style='whitegrid')\n",
    "from kmodes import kprototypes"
   ]
  },
  {
   "cell_type": "markdown",
   "metadata": {},
   "source": [
    "** init **"
   ]
  },
  {
   "cell_type": "code",
   "execution_count": 2,
   "metadata": {
    "collapsed": true
   },
   "outputs": [],
   "source": [
    "PROD = 'mjk' # 'all'\n",
    "N_clusters = 7"
   ]
  },
  {
   "cell_type": "code",
   "execution_count": 3,
   "metadata": {
    "collapsed": true
   },
   "outputs": [],
   "source": [
    "input_dir = './input/'\n",
    "output_dir = './output/'"
   ]
  },
  {
   "cell_type": "code",
   "execution_count": 4,
   "metadata": {
    "collapsed": false
   },
   "outputs": [
    {
     "name": "stdout",
     "output_type": "stream",
     "text": [
      "mkdir: cannot create directory `output/trees': File exists\r\n"
     ]
    }
   ],
   "source": [
    "!mkdir output/trees"
   ]
  },
  {
   "cell_type": "markdown",
   "metadata": {},
   "source": [
    "## Read and Prepare the DataFrame for Clustering\n",
    " - the scaled data frame is for performing the algorithm\n",
    " - the non-scales data frame is for interpretation"
   ]
  },
  {
   "cell_type": "markdown",
   "metadata": {},
   "source": [
    "** Read the table **"
   ]
  },
  {
   "cell_type": "code",
   "execution_count": 5,
   "metadata": {
    "collapsed": false
   },
   "outputs": [],
   "source": [
    "# Specify the features to use here\n",
    "NUMERICAL_FEATURES = ['age_tier', 'max_bal_3mth', 'all_acct_vint_l_bank_ph', 'TOT_SAVING_bank_ph']\n",
    "CATEGORICAL_FEATURES = ['gender_id',  'cusedu_id', 'marital_id', 'intuser_fg', 'cc_type_cnt_tableflag', 'EAST'] "
   ]
  },
  {
   "cell_type": "code",
   "execution_count": 6,
   "metadata": {
    "collapsed": false
   },
   "outputs": [
    {
     "data": {
      "text/plain": [
       "(12123, 10)"
      ]
     },
     "execution_count": 6,
     "metadata": {},
     "output_type": "execute_result"
    }
   ],
   "source": [
    "path = os.path.join(input_dir,'allinforce_w_feature_%s.csv' % PROD)\n",
    "data = pd.read_csv(path, usecols=NUMERICAL_FEATURES+CATEGORICAL_FEATURES, sep='|')\n",
    "data.shape"
   ]
  },
  {
   "cell_type": "code",
   "execution_count": 7,
   "metadata": {
    "collapsed": true
   },
   "outputs": [],
   "source": [
    "# prepare the corresponding index for use\n",
    "NUMERICAL_INDEX = [data.columns.values.tolist().index(feature) for feature in NUMERICAL_FEATURES]\n",
    "CATEGORICAL_INDEX = [data.columns.values.tolist().index(feature) for feature in CATEGORICAL_FEATURES]"
   ]
  },
  {
   "cell_type": "markdown",
   "metadata": {},
   "source": [
    "** Missing values **"
   ]
  },
  {
   "cell_type": "code",
   "execution_count": 8,
   "metadata": {
    "collapsed": false
   },
   "outputs": [
    {
     "data": {
      "text/plain": [
       "max_bal_3mth               0.000577\n",
       "cusedu_id                  0.035470\n",
       "gender_id                  0.000000\n",
       "marital_id                 0.000000\n",
       "age_tier                   0.000000\n",
       "intuser_fg                 0.000000\n",
       "cc_type_cnt_tableflag      0.000000\n",
       "TOT_SAVING_bank_ph         0.002557\n",
       "all_acct_vint_l_bank_ph    0.002805\n",
       "EAST                       0.109956\n",
       "dtype: float64"
      ]
     },
     "execution_count": 8,
     "metadata": {},
     "output_type": "execute_result"
    }
   ],
   "source": [
    "data.isnull().mean()"
   ]
  },
  {
   "cell_type": "markdown",
   "metadata": {},
   "source": [
    " - Imputation"
   ]
  },
  {
   "cell_type": "code",
   "execution_count": 9,
   "metadata": {
    "collapsed": false
   },
   "outputs": [],
   "source": [
    "dict_imput = [\n",
    "    {'feature':'age_tier', 'impute_with':'MEDIAN'}\n",
    "]\n",
    "\n",
    "for feature in [feat for feat in NUMERICAL_FEATURES if feat != 'age_tier']: \n",
    "    imput = {'feature': feature, 'impute_with': 'ZERO'}\n",
    "    dict_imput.append(imput)\n",
    "\n",
    "for feature in CATEGORICAL_FEATURES: \n",
    "    imput = {'feature': feature, 'impute_with': 'MODE'}\n",
    "    dict_imput.append(imput)"
   ]
  },
  {
   "cell_type": "code",
   "execution_count": 10,
   "metadata": {
    "collapsed": false
   },
   "outputs": [
    {
     "name": "stdout",
     "output_type": "stream",
     "text": [
      "Imputed missing values in feature age_tier with value 4.0\n",
      "Imputed missing values in feature max_bal_3mth with value 0\n",
      "Imputed missing values in feature all_acct_vint_l_bank_ph with value 0\n",
      "Imputed missing values in feature TOT_SAVING_bank_ph with value 0\n",
      "Imputed missing values in feature gender_id with value M\n",
      "Imputed missing values in feature cusedu_id with value D\n",
      "Imputed missing values in feature marital_id with value A\n",
      "Imputed missing values in feature intuser_fg with value N\n",
      "Imputed missing values in feature cc_type_cnt_tableflag with value 0\n",
      "Imputed missing values in feature EAST with value 0.0\n"
     ]
    }
   ],
   "source": [
    "for feature in dict_imput:\n",
    "    if feature['impute_with'] == 'ZERO':\n",
    "        v = 0\n",
    "    elif feature['impute_with'] == 'CREATE_CATEGORY':\n",
    "        v = 'NULL_CATEGORY'       \n",
    "    elif feature['impute_with'] == 'MEDIAN':\n",
    "        v = data[feature['feature']].median()\n",
    "    elif feature['impute_with'] == 'MODE':\n",
    "        v = data[feature['feature']].value_counts(dropna=True).index[0]\n",
    "\n",
    "    data[feature['feature']] = data[feature['feature']].fillna(v)\n",
    "    print 'Imputed missing values in feature %s with value %s' % (feature['feature'], unicode(str(v), 'utf8'))"
   ]
  },
  {
   "cell_type": "markdown",
   "metadata": {},
   "source": [
    "** Numerical data scale **"
   ]
  },
  {
   "cell_type": "code",
   "execution_count": 11,
   "metadata": {
    "collapsed": false
   },
   "outputs": [
    {
     "data": {
      "text/plain": [
       "(12123, 10)"
      ]
     },
     "execution_count": 11,
     "metadata": {},
     "output_type": "execute_result"
    }
   ],
   "source": [
    "data_scaled = data.copy()\n",
    "data_scaled[NUMERICAL_FEATURES] = scale(data_scaled[NUMERICAL_FEATURES])\n",
    "data_scaled.shape"
   ]
  },
  {
   "cell_type": "markdown",
   "metadata": {},
   "source": [
    "## Kprototypes Clustering\n",
    " - use init = 'Cao' for quick implementation\n",
    " - can also use init = 'Huang' but usually takes more time"
   ]
  },
  {
   "cell_type": "markdown",
   "metadata": {},
   "source": [
    "** implement **"
   ]
  },
  {
   "cell_type": "code",
   "execution_count": 12,
   "metadata": {
    "collapsed": false,
    "scrolled": true
   },
   "outputs": [
    {
     "name": "stdout",
     "output_type": "stream",
     "text": [
      "Initialization method and algorithm are deterministic. Setting n_init to 1.\n"
     ]
    }
   ],
   "source": [
    "kproto = kprototypes.KPrototypes(n_clusters=N_clusters, init='Cao', verbose=2, gamma=1.5) # init='Huang' "
   ]
  },
  {
   "cell_type": "code",
   "execution_count": 13,
   "metadata": {
    "collapsed": false
   },
   "outputs": [
    {
     "name": "stdout",
     "output_type": "stream",
     "text": [
      "Init: initializing centroids\n",
      "Init: initializing clusters\n",
      "Starting iterations...\n",
      "Run: 1, iteration: 1/100, moves: 4547, ncost: 45158.3222074\n",
      "Run: 1, iteration: 2/100, moves: 2425, ncost: 40510.9754414\n",
      "Run: 1, iteration: 3/100, moves: 1440, ncost: 39031.044941\n",
      "Run: 1, iteration: 4/100, moves: 1126, ncost: 35204.1946163\n",
      "Run: 1, iteration: 5/100, moves: 430, ncost: 34482.5649859\n",
      "Run: 1, iteration: 6/100, moves: 175, ncost: 34446.5153972\n",
      "Run: 1, iteration: 7/100, moves: 18, ncost: 34443.4136435\n",
      "Run: 1, iteration: 8/100, moves: 6, ncost: 34442.3823061\n",
      "Run: 1, iteration: 9/100, moves: 3, ncost: 34442.1588201\n",
      "Run: 1, iteration: 10/100, moves: 0, ncost: 34442.1588201\n",
      "CPU times: user 5min 31s, sys: 22 ms, total: 5min 31s\n",
      "Wall time: 5min 30s\n"
     ]
    },
    {
     "data": {
      "text/plain": [
       "array([2, 4, 1, ..., 6, 1, 4], dtype=uint8)"
      ]
     },
     "execution_count": 13,
     "metadata": {},
     "output_type": "execute_result"
    }
   ],
   "source": [
    "%%time\n",
    "kproto.fit_predict(data_scaled.values, categorical=CATEGORICAL_INDEX)"
   ]
  },
  {
   "cell_type": "markdown",
   "metadata": {},
   "source": [
    " ** clustering results **"
   ]
  },
  {
   "cell_type": "code",
   "execution_count": 14,
   "metadata": {
    "collapsed": false
   },
   "outputs": [
    {
     "name": "stdout",
     "output_type": "stream",
     "text": [
      "k-modes (Cao) centroids:\n",
      "[array([[ -1.78511544e-01,  -2.47849137e-01,  -3.76077495e-01,\n",
      "          5.56312938e+00],\n",
      "       [  7.93945981e-02,   2.08097163e-01,   1.93616370e+00,\n",
      "         -1.70251791e-01],\n",
      "       [  2.24958456e-03,   1.05731089e+00,  -4.09668973e-01,\n",
      "         -1.39016653e-01],\n",
      "       [  1.07623939e+01,   7.88223828e-01,   3.45549142e-01,\n",
      "         -2.93376484e-01],\n",
      "       [ -1.55203341e-01,  -9.74984848e-01,  -2.42049006e-01,\n",
      "         -7.98805558e-02],\n",
      "       [  5.71782139e-02,   6.92977218e-01,  -4.08846374e-01,\n",
      "         -1.44969066e-01],\n",
      "       [ -7.21480111e-02,  -1.35908072e-01,  -4.11935044e-01,\n",
      "         -1.29438027e-01]]), array([['M', 'D', 'B', 'N', '0', '0.0'],\n",
      "       ['M', 'D', 'A', 'N', '0', '0.0'],\n",
      "       ['M', 'D', 'A', 'N', '0', '0.0'],\n",
      "       ['M', 'D', 'A', 'N', '0', '0.0'],\n",
      "       ['M', 'D', 'B', 'N', '0', '0.0'],\n",
      "       ['M', 'D', 'A', 'N', '0', '1.0'],\n",
      "       ['F', 'D', 'A', 'N', '0', '0.0']],\n",
      "      dtype='|S32')]\n",
      "Final training cost: 34442.15882\n",
      "Training iterations: 10\n"
     ]
    }
   ],
   "source": [
    "print 'k-modes (Cao) centroids:'\n",
    "print kproto.cluster_centroids_\n",
    "# Print training statistics\n",
    "print 'Final training cost: %.5f'%kproto.cost_\n",
    "print 'Training iterations: %d'%kproto.n_iter_"
   ]
  },
  {
   "cell_type": "code",
   "execution_count": 15,
   "metadata": {
    "collapsed": false,
    "scrolled": true
   },
   "outputs": [
    {
     "data": {
      "text/plain": [
       "4    0.321043\n",
       "2    0.237565\n",
       "6    0.182463\n",
       "1    0.150045\n",
       "5    0.082488\n",
       "0    0.021777\n",
       "3    0.004619\n",
       "Name: cluster_label, dtype: float64"
      ]
     },
     "execution_count": 15,
     "metadata": {},
     "output_type": "execute_result"
    }
   ],
   "source": [
    "data['cluster_label'] = kproto.labels_\n",
    "data['cluster_label'].value_counts() / len(data)"
   ]
  },
  {
   "cell_type": "markdown",
   "metadata": {},
   "source": [
    "** Save the data matrix with the cluster lables **"
   ]
  },
  {
   "cell_type": "code",
   "execution_count": 16,
   "metadata": {
    "collapsed": true
   },
   "outputs": [],
   "source": [
    "data.to_csv(os.path.join(output_dir,'cluster_data_w_label.csv'), index = False, sep = '|')"
   ]
  },
  {
   "cell_type": "markdown",
   "metadata": {},
   "source": [
    "## Perform Decision Tree for Cluster Results Interpretation"
   ]
  },
  {
   "cell_type": "markdown",
   "metadata": {},
   "source": [
    "** Dummify the X and prepare y **"
   ]
  },
  {
   "cell_type": "code",
   "execution_count": 17,
   "metadata": {
    "collapsed": true
   },
   "outputs": [],
   "source": [
    "clusterX = pd.get_dummies(data[NUMERICAL_FEATURES+CATEGORICAL_FEATURES], columns = CATEGORICAL_FEATURES)\n",
    "clusterY = data[['cluster_label']]"
   ]
  },
  {
   "cell_type": "markdown",
   "metadata": {},
   "source": [
    "** Run a loop for building decision tree for each cluster, and save the trees dots files **"
   ]
  },
  {
   "cell_type": "code",
   "execution_count": 18,
   "metadata": {
    "collapsed": true
   },
   "outputs": [],
   "source": [
    "def run_DecisitonTree(_clusterX, _clusterY, _CLUSTER):\n",
    "    \n",
    "    print '%s start' % _CLUSTER\n",
    "    y = _clusterY.apply(lambda x: 1.0 if x.values == _CLUSTER else 0.0, axis=1)\n",
    "    print 'target proportion:'\n",
    "    print y.value_counts()\n",
    "    \n",
    "    param = {'max_leaf_nodes': [10,15,20,25,30]}\n",
    "    _x_cols = _clusterX.columns.values\n",
    "\n",
    "    dt = DecisionTreeClassifier(random_state = 1, class_weight='balanced')\n",
    "    clf = GridSearchCV(dt, param, cv = 5, scoring = 'roc_auc')\n",
    "    clf.fit(_clusterX, y)\n",
    "    \n",
    "    print '\\tbest score: ', clf.best_score_\n",
    "    print '\\tbest params: ', clf.best_params_\n",
    "    \n",
    "    feature_importance = clf.best_estimator_.feature_importances_\n",
    "    cv_scores = cross_val_score(clf.best_estimator_, _clusterX, y, scoring = 'roc_auc', cv = 5)\n",
    "    print '\\tcv scores:', cv_scores\n",
    "    print '\\t', cv_scores.mean()\n",
    "    print 'most important feature: \\n \\t %s gini %.3f' % (_x_cols[feature_importance.argmax()], feature_importance.max())\n",
    "    \n",
    "    with open(os.path.join(output_dir,'trees/cluster_%s_tree.dot' % _CLUSTER), 'w') as f:\n",
    "        sk.tree.export_graphviz(clf.best_estimator_, out_file=f,\n",
    "                           feature_names = _x_cols,\n",
    "                           class_names = ['0','1'],\n",
    "                           filled = True, rounded = True)\n",
    "    \n",
    "    print '%s finish --------------------------\\n' % _CLUSTER\n",
    "\n",
    "    return None"
   ]
  },
  {
   "cell_type": "code",
   "execution_count": 19,
   "metadata": {
    "collapsed": false,
    "scrolled": false
   },
   "outputs": [
    {
     "name": "stdout",
     "output_type": "stream",
     "text": [
      "0 start\n",
      "target proportion:\n",
      "0.0    11859\n",
      "1.0      264\n",
      "dtype: int64\n",
      "\tbest score:  0.993748406234\n",
      "\tbest params:  {'max_leaf_nodes': 10}\n",
      "\tcv scores: [ 0.99056604  0.99056604  1.          0.98803653  0.99957824]\n",
      "\t0.993749367855\n",
      "most important feature: \n",
      " \t all_acct_vint_l_bank_ph gini 0.997\n",
      "0 finish --------------------------\n",
      "\n",
      "1 start\n",
      "target proportion:\n",
      "0.0    10304\n",
      "1.0     1819\n",
      "dtype: int64\n",
      "\tbest score:  0.999304344678\n",
      "\tbest params:  {'max_leaf_nodes': 10}\n",
      "\tcv scores: [ 0.9997574   1.          1.          0.99814117  0.99862259]\n",
      "\t0.999304232224\n",
      "most important feature: \n",
      " \t TOT_SAVING_bank_ph gini 0.948\n",
      "1 finish --------------------------\n",
      "\n",
      "2 start\n",
      "target proportion:\n",
      "0.0    9243\n",
      "1.0    2880\n",
      "dtype: int64\n",
      "\tbest score:  0.999228749233\n",
      "\tbest params:  {'max_leaf_nodes': 15}\n",
      "\tcv scores: [ 0.99950236  0.99902397  0.99999577  0.99946733  0.99815397]\n",
      "\t0.999228680268\n",
      "most important feature: \n",
      " \t age_tier gini 0.662\n",
      "2 finish --------------------------\n",
      "\n",
      "3 start\n",
      "target proportion:\n",
      "0.0    12067\n",
      "1.0       56\n",
      "dtype: int64\n",
      "\tbest score:  1.0\n",
      "\tbest params:  {'max_leaf_nodes': 10}\n",
      "\tcv scores: [ 1.  1.  1.  1.  1.]\n",
      "\t1.0\n",
      "most important feature: \n",
      " \t max_bal_3mth gini 1.000\n",
      "3 finish --------------------------\n",
      "\n",
      "4 start\n",
      "target proportion:\n",
      "0.0    8231\n",
      "1.0    3892\n",
      "dtype: int64\n",
      "\tbest score:  0.998360696769\n",
      "\tbest params:  {'max_leaf_nodes': 25}\n",
      "\tcv scores: [ 1.          0.99906803  0.99911525  0.99487189  0.99874667]\n",
      "\t0.998360367896\n",
      "most important feature: \n",
      " \t marital_id_B gini 0.617\n",
      "4 finish --------------------------\n",
      "\n",
      "5 start\n",
      "target proportion:\n",
      "0.0    11123\n",
      "1.0     1000\n",
      "dtype: int64\n",
      "\tbest score:  0.998824294034\n",
      "\tbest params:  {'max_leaf_nodes': 15}\n",
      "\tcv scores: [ 1.          0.995       0.99998764  0.99926484  0.9998696 ]\n",
      "\t0.998824416579\n",
      "most important feature: \n",
      " \t EAST_0.0 gini 0.788\n",
      "5 finish --------------------------\n",
      "\n",
      "6 start\n",
      "target proportion:\n",
      "0.0    9911\n",
      "1.0    2212\n",
      "dtype: int64\n",
      "\tbest score:  0.996452693241\n",
      "\tbest params:  {'max_leaf_nodes': 30}\n",
      "\tcv scores: [ 0.99974729  0.99861792  0.99635406  0.99081439  0.99672619]\n",
      "\t0.99645197093\n",
      "most important feature: \n",
      " \t age_tier gini 0.440\n",
      "6 finish --------------------------\n",
      "\n"
     ]
    }
   ],
   "source": [
    "for i in range(N_clusters):\n",
    "    run_DecisitonTree(clusterX, clusterY, i)"
   ]
  },
  {
   "cell_type": "markdown",
   "metadata": {},
   "source": [
    "## Simple Visualization"
   ]
  },
  {
   "cell_type": "markdown",
   "metadata": {},
   "source": [
    "** Single attribute viz by clusters **"
   ]
  },
  {
   "cell_type": "code",
   "execution_count": 20,
   "metadata": {
    "collapsed": true
   },
   "outputs": [],
   "source": [
    "def viz_numeric(col, cluster_label = 'cluster_label'):\n",
    "    plt.figure(figsize=(10,6))\n",
    "    plt.title('%s distribution by cluster init by %s'%(col, cluster_label))\n",
    "    for i in range(N_clusters):\n",
    "        UPPER = np.percentile(data[col], 99.9)\n",
    "        sns.distplot(data[data[cluster_label]==i][col].apply(lambda x: x if x <= UPPER else np.nan).dropna(), kde_kws={\n",
    "                'label':i}, bins=30)\n",
    "    sns.distplot(data[col].apply(lambda x: x if x <= UPPER else np.nan).dropna(), kde_kws={\n",
    "                'label':'all'}, bins=30)\n",
    "    plt.show()\n",
    "    \n",
    "def viz_numbers(col, cluster_label = 'cluster_label', c='c'):\n",
    "    plt.figure(figsize=(8,6))\n",
    "    plt.title('%s distribution by cluster init by %s'%(col, cluster_label))\n",
    "    sns.regplot(x=cluster_label, y=col, data=data, fit_reg=False,\n",
    "                    x_jitter = .1, y_jitter = .1, marker='+', color = c, scatter_kws = {'alpha': .2} )\n",
    "    plt.xlabel('cluster')\n",
    "    plt.show()\n",
    "    \n",
    "def viz_categorical(col, cluster_label = 'cluster_label'):\n",
    "    plt.figure(figsize=(8,6))\n",
    "    plt.title('%s distribution by cluster init by %s'%(col, cluster_label))\n",
    "    sns.countplot(x=cluster_label, hue = col, data=data, palette = 'Set3', order=range(N_clusters), saturation= .95)\n",
    "    plt.xlabel('cluster')\n",
    "    plt.show()"
   ]
  },
  {
   "cell_type": "code",
   "execution_count": 21,
   "metadata": {
    "collapsed": false,
    "scrolled": false
   },
   "outputs": [
    {
     "data": {
      "image/png": "[encoded data removed]",
      "text/plain": [
       "<matplotlib.figure.Figure at 0x7f75b8a6b590>"
      ]
     },
     "metadata": {},
     "output_type": "display_data"
    }
   ],
   "source": [
    "for col in ['max_bal_3mth']:\n",
    "    viz_numeric(col, 'cluster_label')"
   ]
  },
  {
   "cell_type": "code",
   "execution_count": 22,
   "metadata": {
    "collapsed": false
   },
   "outputs": [
    {
     "data": {
      "image/png": "[encoded data removed]",
      "text/plain": [
       "<matplotlib.figure.Figure at 0x7f75b8a43290>"
      ]
     },
     "metadata": {},
     "output_type": "display_data"
    }
   ],
   "source": [
    "viz_numbers('age_tier', 'cluster_label', 'm')"
   ]
  },
  {
   "cell_type": "code",
   "execution_count": 23,
   "metadata": {
    "collapsed": false
   },
   "outputs": [
    {
     "data": {
      "image/png": "[encoded data removed]",
      "text/plain": [
       "<matplotlib.figure.Figure at 0x7f75b5c98690>"
      ]
     },
     "metadata": {},
     "output_type": "display_data"
    }
   ],
   "source": [
    "viz_categorical('marital_id', 'cluster_label')"
   ]
  },
  {
   "cell_type": "markdown",
   "metadata": {},
   "source": [
    "** Joint plots: viz interaction of 2 attributes by clusters **"
   ]
  },
  {
   "cell_type": "code",
   "execution_count": 24,
   "metadata": {
    "collapsed": false
   },
   "outputs": [],
   "source": [
    "cluster_color = {0: 'b', 1: 'g', 2: 'r', 3: 'c', 4: 'm', 5: 'y', 6: 'purple', 7: 'orange'}"
   ]
  },
  {
   "cell_type": "code",
   "execution_count": 25,
   "metadata": {
    "collapsed": true
   },
   "outputs": [],
   "source": [
    "def viz_joint(x, y, cluster_init='cluster_label'):\n",
    "    plt.figure(figsize=(10, 6))\n",
    "    plt.title('%s and %s joint distribution by %s'%(x, y, cluster_init))\n",
    "    for i in range(7):\n",
    "        nsample = int(round(0.2*sum(data[cluster_init]==i))) # get a small sample for clearer viz\n",
    "        sns.regplot(x=x, y=y, data=data[data[cluster_init]==i].sample(nsample), fit_reg=False, color=cluster_color[i],\n",
    "                    x_jitter = .1, y_jitter = .1, marker='+',label = 'cluster_%s' % i,  scatter_kws = {'alpha': .3})\n",
    "    plt.legend()\n",
    "    plt.show()"
   ]
  },
  {
   "cell_type": "code",
   "execution_count": 26,
   "metadata": {
    "collapsed": false
   },
   "outputs": [
    {
     "data": {
      "image/png": "[encoded data removed]",
      "text/plain": [
       "<matplotlib.figure.Figure at 0x7f75b89b7d90>"
      ]
     },
     "metadata": {},
     "output_type": "display_data"
    }
   ],
   "source": [
    "viz_joint('all_acct_vint_l_bank_ph', 'max_bal_3mth', 'cluster_label')"
   ]
  },
  {
   "cell_type": "code",
   "execution_count": 27,
   "metadata": {
    "collapsed": false
   },
   "outputs": [
    {
     "data": {
      "image/png": "[encoded data removed]",
      "text/plain": [
       "<matplotlib.figure.Figure at 0x7f75b640ab90>"
      ]
     },
     "metadata": {},
     "output_type": "display_data"
    }
   ],
   "source": [
    "viz_joint('TOT_SAVING_bank_ph', 'age_tier', 'cluster_label')"
   ]
  },
  {
   "cell_type": "code",
   "execution_count": null,
   "metadata": {
    "collapsed": true
   },
   "outputs": [],
   "source": []
  }
 ],
 "metadata": {
  "anaconda-cloud": {},
  "kernelspec": {
   "display_name": "Python [cloneAnaconda2]",
   "language": "python",
   "name": "Python [cloneAnaconda2]"
  },
  "language_info": {
   "codemirror_mode": {
    "name": "ipython",
    "version": 2
   },
   "file_extension": ".py",
   "mimetype": "text/x-python",
   "name": "python",
   "nbconvert_exporter": "python",
   "pygments_lexer": "ipython2",
   "version": "2.7.12"
  }
 },
 "nbformat": 4,
 "nbformat_minor": 0
}
