{
 "cells": [
  {
   "cell_type": "markdown",
   "metadata": {},
   "source": [
    "## Select color scales for cartography"
   ]
  },
  {
   "cell_type": "markdown",
   "metadata": {},
   "source": [
    "color brewer to have RGB / HEX value for color scales <br>\n",
    "http://colorbrewer2.org"
   ]
  },
  {
   "cell_type": "code",
   "execution_count": 1,
   "metadata": {
    "collapsed": true
   },
   "outputs": [],
   "source": [
    "import pandas as pd\n",
    "import numpy as np"
   ]
  },
  {
   "cell_type": "code",
   "execution_count": 4,
   "metadata": {
    "collapsed": true
   },
   "outputs": [],
   "source": [
    "TARGET_COL = 'inc_prv_8000 & Over'"
   ]
  },
  {
   "cell_type": "code",
   "execution_count": 5,
   "metadata": {
    "collapsed": true
   },
   "outputs": [],
   "source": [
    "all_df = pd.read_csv('C:/Users/liuleo/Documents/Eiqua_SG/External_data/zones_subzones/ext_zones_lv.csv')\n",
    "all_df.fillna(0,inplace=True)"
   ]
  },
  {
   "cell_type": "code",
   "execution_count": 6,
   "metadata": {},
   "outputs": [
    {
     "data": {
      "text/plain": [
       "0.125      792.00\n",
       "0.250     3892.50\n",
       "0.375     6346.50\n",
       "0.500     7475.00\n",
       "0.625     8416.75\n",
       "0.750    10171.50\n",
       "0.875    12482.00\n",
       "Name: inc_prv_8000 & Over, dtype: float64"
      ]
     },
     "execution_count": 6,
     "metadata": {},
     "output_type": "execute_result"
    }
   ],
   "source": [
    "all_df[all_df[TARGET_COL] != 0][TARGET_COL].quantile([0.125,0.25,0.375,0.5,0.625,0.75,0.875])"
   ]
  },
  {
   "cell_type": "markdown",
   "metadata": {},
   "source": [
    "Then modify: <br>\n",
    "<b>function getColor(d) </b><br>\n",
    "<b>legend.onAdd = function (map) --> grades </b><br>\n",
    "for color scales <br>"
   ]
  }
 ],
 "metadata": {
  "kernelspec": {
   "display_name": "Python 2",
   "language": "python",
   "name": "python2"
  },
  "language_info": {
   "codemirror_mode": {
    "name": "ipython",
    "version": 2
   },
   "file_extension": ".py",
   "mimetype": "text/x-python",
   "name": "python",
   "nbconvert_exporter": "python",
   "pygments_lexer": "ipython2",
   "version": "2.7.14"
  }
 },
 "nbformat": 4,
 "nbformat_minor": 2
}
