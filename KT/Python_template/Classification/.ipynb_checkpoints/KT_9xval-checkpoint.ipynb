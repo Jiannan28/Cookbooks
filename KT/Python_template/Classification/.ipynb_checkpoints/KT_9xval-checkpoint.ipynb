{
 "cells": [
  {
   "cell_type": "code",
   "execution_count": 1,
   "metadata": {},
   "outputs": [
    {
     "name": "stderr",
     "output_type": "stream",
     "text": [
      "C:\\ProgramData\\Anaconda2\\lib\\site-packages\\sklearn\\cross_validation.py:41: DeprecationWarning: This module was deprecated in version 0.18 in favor of the model_selection module into which all the refactored classes and functions are moved. Also note that the interface of the new CV iterators are different from that of this module. This module will be removed in 0.20.\n",
      "  \"This module will be removed in 0.20.\", DeprecationWarning)\n",
      "C:\\ProgramData\\Anaconda2\\lib\\site-packages\\sklearn\\grid_search.py:42: DeprecationWarning: This module was deprecated in version 0.18 in favor of the model_selection module into which all the refactored classes and functions are moved. This module will be removed in 0.20.\n",
      "  DeprecationWarning)\n"
     ]
    }
   ],
   "source": [
    "import pandas as pd\n",
    "import numpy as np\n",
    "import seaborn as sns\n",
    "import calendar\n",
    "\n",
    "from sklearn.cross_validation import train_test_split,KFold,ShuffleSplit\n",
    "from sklearn.metrics import roc_auc_score,accuracy_score,average_precision_score,roc_curve,auc,precision_recall_curve,log_loss\n",
    "from sklearn.grid_search import GridSearchCV\n",
    "\n",
    "%matplotlib inline\n",
    "import matplotlib.pyplot as plt\n",
    "from sklearn.calibration import calibration_curve\n",
    "\n",
    "import xgboost as xgb\n",
    "from scipy import interp\n",
    "from sklearn.externals import joblib\n",
    "\n",
    "\n",
    "from jllib import xval,feat_imp"
   ]
  },
  {
   "cell_type": "code",
   "execution_count": 2,
   "metadata": {
    "collapsed": true
   },
   "outputs": [],
   "source": [
    "INPUT_FILE_02 = 'C:\\Users\\liuleo\\Documents\\REPO\\AGitHUB\\TEST_DATA\\home\\jliu\\TEST\\FPF_1702.csv'\n",
    "INPUT_FILE_03 = 'C:\\Users\\liuleo\\Documents\\REPO\\AGitHUB\\TEST_DATA\\home\\jliu\\TEST\\FPF_1703.csv'\n",
    "#INPUT_FILE_05 = 'C:\\Users\\liuleo\\Documents\\REPO\\AGitHUB\\TEST_DATA\\home\\jliu\\TEST\\FPF_1705_onlyC.csv'\n",
    "FEAT_IMP_OUTPUT = 'C:\\Users\\liuleo\\Documents\\REPO\\AGitHUB\\TEST_DATA\\home\\jliu\\TEST\\FPF_020305_FEAT_CAMP3.csv'\n",
    "MODEL_PKL_OUTPUT = 'C:\\Users\\liuleo\\Documents\\REPO\\AGitHUB\\TEST_DATA\\home\\jliu\\TEST\\FPF_020305.pkl'\n",
    "APPLY_DATASET = 'C:\\Users\\liuleo\\Documents\\REPO\\AGitHUB\\TEST_DATA\\home\\jliu\\TEST\\FPF_1705_onlyC.csv'"
   ]
  },
  {
   "cell_type": "code",
   "execution_count": 3,
   "metadata": {},
   "outputs": [
    {
     "name": "stdout",
     "output_type": "stream",
     "text": [
      "Wall time: 4.24 s\n",
      "Wall time: 1.91 s\n"
     ]
    }
   ],
   "source": [
    "%time fpf_1702 = pd.read_csv(INPUT_FILE_02, sep='|')\n",
    "%time fpf_1703 = pd.read_csv(INPUT_FILE_03, sep='|')\n",
    "#%time fpf_1705 = pd.read_csv(INPUT_FILE_05, sep='|')"
   ]
  },
  {
   "cell_type": "code",
   "execution_count": 4,
   "metadata": {},
   "outputs": [
    {
     "name": "stdout",
     "output_type": "stream",
     "text": [
      "19163\n",
      "(19163, 692)\n",
      "14524\n",
      "(14524, 692)\n"
     ]
    }
   ],
   "source": [
    "print fpf_1702.cifno.nunique()\n",
    "print fpf_1702.shape\n",
    "fpf_1702 = fpf_1702[fpf_1702['AVGD']>=1000000].reset_index(drop=True)\n",
    "print fpf_1702.cifno.nunique()\n",
    "print fpf_1702.shape"
   ]
  },
  {
   "cell_type": "code",
   "execution_count": 5,
   "metadata": {},
   "outputs": [
    {
     "name": "stdout",
     "output_type": "stream",
     "text": [
      "9695\n",
      "(9695, 692)\n",
      "5374\n",
      "(5374, 692)\n"
     ]
    }
   ],
   "source": [
    "print fpf_1703.cifno.nunique()\n",
    "print fpf_1703.shape\n",
    "fpf_1703 = fpf_1703[fpf_1703['AVGD']>=1000000].reset_index(drop=True)\n",
    "print fpf_1703.cifno.nunique()\n",
    "print fpf_1703.shape"
   ]
  },
  {
   "cell_type": "code",
   "execution_count": 6,
   "metadata": {
    "collapsed": true
   },
   "outputs": [],
   "source": [
    "target_map = {1:0,\n",
    "              0:1}\n",
    "\n",
    "fpf_1702['fpf_target'] = fpf_1702['fpf_target'].map(target_map)\n",
    "\n",
    "\n",
    "fpf_1703['fpf_target'] = fpf_1703['fpf_target'].map(target_map)"
   ]
  },
  {
   "cell_type": "code",
   "execution_count": null,
   "metadata": {
    "collapsed": true
   },
   "outputs": [],
   "source": []
  },
  {
   "cell_type": "code",
   "execution_count": 7,
   "metadata": {
    "collapsed": true
   },
   "outputs": [],
   "source": [
    "fpf_dataset = pd.concat([fpf_1702, fpf_1703]).reset_index(drop=True) #,fpf_1705\n",
    "#fpf_dataset = fpf_1705.copy()"
   ]
  },
  {
   "cell_type": "code",
   "execution_count": 8,
   "metadata": {},
   "outputs": [
    {
     "name": "stdout",
     "output_type": "stream",
     "text": [
      "(19898, 692)\n",
      "19898\n",
      "19898\n",
      "4395\n",
      "0.220876469997\n"
     ]
    }
   ],
   "source": [
    "print fpf_dataset.shape\n",
    "print fpf_dataset.cifno.nunique()\n",
    "print fpf_dataset.drop_duplicates(['cifno','fpf_target']).cifno.nunique()\n",
    "print fpf_dataset.drop_duplicates(['cifno','fpf_target']).fpf_target.sum()\n",
    "print fpf_dataset.drop_duplicates(['cifno','fpf_target']).fpf_target.mean()"
   ]
  },
  {
   "cell_type": "markdown",
   "metadata": {},
   "source": [
    "# Change data type to reduce memory"
   ]
  },
  {
   "cell_type": "code",
   "execution_count": 9,
   "metadata": {
    "collapsed": true
   },
   "outputs": [],
   "source": [
    "UINT8_COLS = ['WEST','fpf_target','nb_accts_sd','health_freq_db_edc','leisure_hobby_freq_db_edc','luxury_freq_db_edc',\n",
    "              'household_freq_db_edc','offus_freq_db_edc','services_freq_db_edc','daily_life_freq_db_edc','vehicle_freq_db_edc',\n",
    "              'T1_bank_ph','T2_bank_ph','T3_bank_ph','T4_bank_ph','T5_bank_ph','T6_bank_ph','T7_bank_ph','T8_bank_ph',\n",
    "              'T9_bank_ph','T10_bank_ph','T11_bank_ph','T12_bank_ph','T13_bank_ph','T14_bank_ph','T15_bank_ph','T16_bank_ph',\n",
    "              'T17_bank_ph','T18_bank_ph','TOTPH_bank_ph','TOT_SAVING_bank_ph','CREDITCARD_freq_trxout','EDUCATION_freq_trxout',\n",
    "              'INSURANCE_freq_trxout','INTERBANKTRANSFER_freq_trxout','INTRABANKTRANSFER_freq_trxout','LEASING_freq_trxout',\n",
    "              'MEDIA_freq_trxout','PDAM_freq_trxout','PERSONALLOAN_freq_trxout','PLN_freq_trxout','PULSA_freq_trxout',\n",
    "              'TICKET_freq_trxout','TVCABLE_freq_trxout','ZAKAT_freq_trxout','TSO_LOS','TSO_AGE','TSO_DEPENDANT']\n",
    "\n",
    "INT8_COLS = ['delta_days_lm', 'max_vintage_3mth', 'max_vintage_6mth', 'min_vintage_3mth', 'min_vintage_6mth', 'delta_vintage_3mth',\n",
    "            'delta_vintage_6mth', 'maxdt_range_cnts', 'mindt_range_cnts','age_tier','year_addr','year_rel','year_work','depend_nb',\n",
    "            'nb_alop_cc','nb_classic_cc','nb_gold_cc','nb_platinum_cc','nb_signature_cc','total_nb_cc','nb_prioritas_dc',\n",
    "            'nb_silver_dc','nb_gold_dc','nb_platinum_dc','nb_others_dc','total_nb_dc','travel_freq_db_edc','maxdb_num_day',\n",
    "            'maxdb_num_uni_weekday','maxcd_num_uni_weekday','maxdb_day_1_10','maxdb_day_11_20','maxdb_day_21_up','maxcd_num_day',\n",
    "             'maxcd_day_1_10','maxcd_day_11_20','maxcd_day_21_up','delta_range_lm','TSO_LOCATION_01.BBD',\n",
    "             'TSO_CATEGORY_01.TOP GUN', 'TSO_CATEGORY_02.STRIKER','TSO_CATEGORY_03.PLAYMAKER','TSO_CATEGORY_04.DEFENDER',\n",
    "             'TSO_EDUCATION_01.S2','TSO_EDUCATION_02.S1','TSO_EDUCATION_03.AKADEMI','TSO_EDUCATION_04.SLTA','TSO_GENDER_02.MALE',\n",
    "             'TSO_MARITAL_STATUS_02.MAR'] \n",
    "\n",
    "INT16_COLS = ['sum_freq_lm3_db_edc','sum_freq_lm6_db_edc','freq_lm_lm3_diff_db_edc','freq_lm3_lm6_diff_db_edc',\n",
    "              'max_freq_lm3_db_edc','min_freq_lm3_db_edc', 'maxcd_num','maxdb_num','saving_acct_vint_l_bank_ph',\n",
    "              'saving_acct_vint_f_bank_ph','saving_acct_delta_bank_ph','all_acct_vint_l_bank_ph','all_acct_vint_f_bank_ph',\n",
    "              'all_acct_delta_bank_ph','TSO_DB_LM','TSO_DB_LM2','TSO_DB_LM3','TSO_DB_CONTACTED_LM','TSO_DB_CONTACTED_LM2',\n",
    "              'TSO_DB_CONTACTED_LM3','TSO_CALL_LM','TSO_CALL_LM2','TSO_CALL_LM3','TSO_CALL_CONTACTED_LM','TSO_CALL_CONTACTED_LM2',\n",
    "              'TSO_CALL_CONTACTED_LM3','TSO_MJK_CASES_LM2','TSO_MJK_CASES_LM','TSO_MJK_CASES_LM3','TSO_MPK_CASES_LM',\n",
    "              'TSO_MPK_CASES_LM2','TSO_MPK_CASES_LM3','TSO_MHS_CASES_LM','TSO_MHS_CASES_LM2','TSO_MHS_CASES_LM3',\n",
    "              'TSO_MHP_CASES_LM2','TSO_MHP_CASES_LM3','TSO_MHP_CASES_LM','TSO_MSP_CASES_LM2','TSO_MSP_CASES_LM3',\n",
    "             'TSO_MSP_CASES_LM','TSO_OTHER_CASES_LM','TSO_OTHER_CASES_LM2','TSO_OTHER_CASES_LM3','TSO_TOTAL_CASES_LM',\n",
    "             'TSO_TOTAL_CASES_LM2','TSO_TOTAL_CASES_LM3']\n",
    "\n",
    "UINT16_COLS = ['ib_freq_trxout','mb_freq_trxout','branch_freq_trxout','nm_atm_freq_trxout','m_atm_freq_trxout','mcm_freq_trxout',\n",
    "              'chnl_others_freq_trxout','sum_purchase_freq_trxout','date_org_vintage','sum_TSO_DB','sum_TSO_DB_contacted',\n",
    "               'sum_TSO_CALL_contacted','sum_TSO_CALL','sum_TSO_MJK_MHL_CASES_3m','sum_TSO_CASES_3m']\n",
    "\n",
    "INT64_COLS = ['max_bal_3mth', 'max_bal_6mth', 'min_bal_3mth', 'min_bal_6mth', 'eom_3mth', 'eom_6mth', 'sum_end_bal', 'MED_lm', \n",
    "              'QT1_lm', 'QT3_lm', 'D20_lm', 'EOM_lm', 'NOD_lm','MED_lm2','QT1_lm2', 'QT3_lm2','MED_lm3', 'QT1_lm3', 'QT3_lm3', \n",
    "              'one_max_delta_bal_3mth','d20_3mth','vol_income']\n",
    "INT8_COLS_FLAG = [col for col in fpf_dataset if 'flag' in col]\n",
    "\n",
    "DUMMIFIED_COLS = ['intuser_fg', 'mbluser_fg', 'prior_fg', 'rsdnt_fg', 'weekday_','gender_id','occp_id','houstyp_id','marital_id',\n",
    "                  'cusedu_id','empinds_id','CALL_START_hour_']\n",
    "\n",
    "INT8_COLS_DUM = [col for col in fpf_dataset for dum in DUMMIFIED_COLS if dum in col]\n",
    "\n",
    "INT8_COLS_ALL = INT8_COLS + INT8_COLS_FLAG + INT8_COLS_DUM"
   ]
  },
  {
   "cell_type": "code",
   "execution_count": 11,
   "metadata": {},
   "outputs": [
    {
     "name": "stdout",
     "output_type": "stream",
     "text": [
      "change data types to reduce memory usage\n"
     ]
    }
   ],
   "source": [
    "print 'change data types to reduce memory usage'\n",
    "for col in UINT8_COLS:\n",
    "    fpf_dataset[col] = fpf_dataset[col].astype(np.uint8)\n",
    "    \n",
    "for col in INT8_COLS_ALL:\n",
    "    fpf_dataset[col] = fpf_dataset[col].astype(np.int8)\n",
    "    \n",
    "for col in INT16_COLS:\n",
    "    fpf_dataset[col] = fpf_dataset[col].astype(np.int16)\n",
    "\n",
    "for col in UINT16_COLS:\n",
    "    fpf_dataset[col] = fpf_dataset[col].astype(np.uint16)\n",
    "\n",
    "for col in INT64_COLS:\n",
    "    fpf_dataset[col] = fpf_dataset[col].astype(np.int64)"
   ]
  },
  {
   "cell_type": "markdown",
   "metadata": {},
   "source": [
    "# Start Modeling"
   ]
  },
  {
   "cell_type": "code",
   "execution_count": 12,
   "metadata": {
    "collapsed": true
   },
   "outputs": [],
   "source": [
    "WEEKDAY_COLS = [col for col in fpf_dataset if 'weekday_' in col]\n",
    "fpf_dataset.drop(WEEKDAY_COLS, axis=1, inplace=True)\n",
    "\n",
    "fpf_dataset.drop(['AGENT_ID'], axis=1, inplace=True)\n",
    "fpf_dataset.drop(['payroll_flag','payroll_tableflag'],axis=1, inplace=True) #,'CIFNO_loan'"
   ]
  },
  {
   "cell_type": "code",
   "execution_count": 13,
   "metadata": {
    "collapsed": true
   },
   "outputs": [],
   "source": [
    "tso_cols = [x for x in fpf_dataset if 'TSO' in x]\n",
    "hour_cols = [x for x in fpf_dataset if 'hour' in x]\n",
    "DROP_COLS = tso_cols + hour_cols\n",
    "\n",
    "fpf_dataset.drop(DROP_COLS, axis=1, inplace=True)"
   ]
  },
  {
   "cell_type": "code",
   "execution_count": 14,
   "metadata": {
    "collapsed": true
   },
   "outputs": [],
   "source": [
    "ALL_TARGETS = ['fpf_target']\n",
    "IDS = ['cifno']\n",
    "feature_columns = [col for col in fpf_dataset if col not in IDS and col not in ALL_TARGETS]\n",
    "feature_columns = np.concatenate([IDS, feature_columns])"
   ]
  },
  {
   "cell_type": "code",
   "execution_count": 15,
   "metadata": {},
   "outputs": [
    {
     "name": "stdout",
     "output_type": "stream",
     "text": [
      "['fpf_target']\n",
      "target number fpf_target\n",
      "4395\n",
      "target proportion fpf_target\n",
      "0.220876469997\n",
      "Train data has 13928 rows and 580 columns\n",
      "Test data has 5970 rows and 580 columns\n"
     ]
    }
   ],
   "source": [
    "print(ALL_TARGETS)\n",
    "\n",
    "for target in ALL_TARGETS:\n",
    "    print(\"target number %s\"%target)\n",
    "    print(fpf_dataset[target].sum())\n",
    "    print(\"target proportion %s\"%target)\n",
    "    print(fpf_dataset[target].mean())\n",
    "\n",
    "train, test = train_test_split(fpf_dataset,train_size=0.7)\n",
    "\n",
    "print('Train data has %i rows and %i columns'%(train.shape[0], train.shape[1]))\n",
    "print('Test data has %i rows and %i columns'%(test.shape[0], test.shape[1]))\n",
    "\n",
    "COLS_TO_DROP = ALL_TARGETS + IDS  \n",
    "\n",
    "X_train = train.drop(COLS_TO_DROP,axis=1)\n",
    "X_test = test.drop(COLS_TO_DROP,axis=1)"
   ]
  },
  {
   "cell_type": "code",
   "execution_count": 44,
   "metadata": {
    "collapsed": true
   },
   "outputs": [],
   "source": [
    "def get_importance(_bst, _importance_type):\n",
    "    # if it's weight, then omap stores the number of missing values\n",
    "    fmap = ''\n",
    "    if _importance_type == 'weight':\n",
    "        # do a simpler tree dump to save time\n",
    "        trees = _bst.get_dump(fmap, with_stats=False)\n",
    "\n",
    "        fmap = {}\n",
    "        for tree in trees:\n",
    "            for line in tree.split('\\n'):\n",
    "                # look for the opening square bracket\n",
    "                arr = line.split('[')\n",
    "                # if no opening bracket (leaf node), ignore this line\n",
    "                if len(arr) == 1:\n",
    "                    continue\n",
    "\n",
    "                # extract feature name from string between []\n",
    "                fid = arr[1].split(']')[0].split('<')[0]\n",
    "\n",
    "                if fid not in fmap:\n",
    "                    # if the feature hasn't been seen yet\n",
    "                    fmap[fid] = 1\n",
    "                else:\n",
    "                    fmap[fid] += 1\n",
    "\n",
    "        return fmap\n",
    "\n",
    "    else:\n",
    "        trees = _bst.get_dump(fmap, with_stats=True)\n",
    "\n",
    "        _importance_type += '='\n",
    "        fmap = {}\n",
    "        gmap = {}\n",
    "        for tree in trees:\n",
    "            for line in tree.split('\\n'):\n",
    "                # look for the opening square bracket\n",
    "                arr = line.split('[')\n",
    "                # if no opening bracket (leaf node), ignore this line\n",
    "                if len(arr) == 1:\n",
    "                    continue\n",
    "\n",
    "                # look for the closing bracket, extract only info within that bracket\n",
    "                fid = arr[1].split(']')\n",
    "\n",
    "                # extract gain or cover from string after closing bracket\n",
    "                g = float(fid[1].split(_importance_type)[1].split(',')[0])\n",
    "\n",
    "                # extract feature name from string before closing bracket\n",
    "                fid = fid[0].split('<')[0]\n",
    "\n",
    "                if fid not in fmap:\n",
    "                    # if the feature hasn't been seen yet\n",
    "                    fmap[fid] = 1\n",
    "                    gmap[fid] = g\n",
    "                else:\n",
    "                    fmap[fid] += 1\n",
    "                    gmap[fid] += g\n",
    "\n",
    "        # calculate average value (gain/cover) for each feature\n",
    "        for fid in gmap:\n",
    "            gmap[fid] = gmap[fid] / fmap[fid]\n",
    "\n",
    "        return gmap"
   ]
  },
  {
   "cell_type": "markdown",
   "metadata": {},
   "source": [
    "# XVAL model"
   ]
  },
  {
   "cell_type": "raw",
   "metadata": {
    "collapsed": true
   },
   "source": [
    "sns.set_style('white')\n",
    "def run_cross_validation_nine(_df, _classifier, _features_columns, _id, _target, _prob,\n",
    "                              _n_iter=5, _test_size=.3, _random_state=0, _early_stopping_rounds=40):\n",
    "    # cross validation type can be changed here\n",
    "    ss = ShuffleSplit(len(_df[_id].unique()), n_iter=_n_iter, test_size=_test_size, random_state=_random_state)\n",
    "    \n",
    "    results_cv_targeting = pd.DataFrame([], columns=[_id, _target, 'fold', _prob])\n",
    "\n",
    "    mean_tpr = 0.0\n",
    "    mean_fpr = np.linspace(0, 1, 100)\n",
    "    \n",
    "    mean_precision = 0.0\n",
    "    mean_recall = np.linspace(0, 1, 100)\n",
    "    \n",
    "    mean_lift = 0.0\n",
    "    mean_lift_decay = 0.0\n",
    "    \n",
    "    nb_calls_cv = pd.DataFrame([],columns=['nb_contacts', 'total_population', 'total_pos_targets', 'nb_pos_targets', 'pos_rate', \n",
    "                                           'Percentage_of_pos_targets_found', 'Percentage_of_Population', 'Lift'])\n",
    "    feature_importances = pd.DataFrame([], columns=['feature', 'importance', 'fold'])\n",
    "\n",
    "    fig = plt.figure(figsize=(6, 12))\n",
    "    fig.subplots_adjust(bottom=-0.5, left=-0.5, top=0.5, right=1.5)\n",
    "\n",
    "    print ('modeling started')\n",
    "    plt.gcf().clear()\n",
    "    \n",
    "    colors = ['#d7191c','#fdae61','#ffffbf','#abdda4','#2b83ba']\n",
    "    plt.rcParams[\"font.family\"] = \"monospace\"\n",
    "\n",
    "    for i, (train_index, valid_index) in enumerate(ss):\n",
    "        customer_id = _df[_id].unique().copy()\n",
    "        shuffled_customer_id = np.array(sorted(customer_id, key=lambda k: random.random()))\n",
    "        train_customer_id = shuffled_customer_id[train_index]\n",
    "        valid_customer_id = shuffled_customer_id[valid_index]\n",
    "        \n",
    "        train = _df.loc[_df[_id].isin(train_customer_id), np.concatenate([_features_columns, [_target]],axis=0)].copy().reset_index(drop=True)\n",
    "        valid = _df.loc[_df[_id].isin(valid_customer_id), np.concatenate([_features_columns, [_target]],axis=0)].copy().reset_index(drop=True)\n",
    "        \n",
    "        temp = valid[[_id, _target]].copy()\n",
    "        temp['fold'] = i\n",
    "\n",
    "        # modeling#\n",
    "        train_X = train.drop([_id, _target], axis=1)\n",
    "        valid_X = valid.drop([_id, _target], axis=1)\n",
    "\n",
    "        train_Y = np.array(train[_target].astype(np.uint8))\n",
    "        valid_Y = np.array(valid[_target].astype(np.uint8))\n",
    "        \n",
    "        probas_ = _classifier.fit(train_X, train_Y, eval_metric='auc', eval_set=[(valid_X, valid_Y)],early_stopping_rounds=_early_stopping_rounds).predict_proba(valid_X)\n",
    "        evals_result = _classifier.evals_result()['validation_0']['auc']\n",
    "        \n",
    "        probabilities = pd.DataFrame(data=probas_[:, 1], index=valid_X.index, columns=[_prob])\n",
    "\n",
    "        temp = temp.join(probabilities, how='left')\n",
    "        results_cv_targeting = results_cv_targeting.append(temp)\n",
    "\n",
    "\n",
    "        ###############################################################################\n",
    "        # Plot probability distribution\n",
    "        plt.subplot(3,3,1)\n",
    "        plt.hist(probas_[:, 1], range=(0, 1), bins=100, label=\"fold %d\" % (i), color=colors[i], alpha=0.5)#histtype=\"step\", \n",
    "        \n",
    "        \n",
    "        ###############################################################################\n",
    "        # plot proba distribution for both class\n",
    "        target_probs = pd.DataFrame(valid_Y, columns=['target'])\n",
    "        target_probs['probs'] = probas_[:, 1]\n",
    "        plt.subplot(3, 3, 2)\n",
    "        plt.hist(target_probs[target_probs['target']==1]['probs'], range=(0, 1), bins=100, \n",
    "                 label=\"fold %d class 1\" % (i), color='#abdda4', alpha=0.5)\n",
    "        plt.hist(target_probs[target_probs['target']==0]['probs'], range=(0, 1), bins=100, \n",
    "                 label=\"fold %d class 0\" % (i), color='#d53e4f', alpha=0.5)\n",
    "\n",
    "\n",
    "        ###############################################################################\n",
    "        # Plot calibration plots\n",
    "        fraction_of_positives, mean_predicted_value = calibration_curve(valid_Y, probas_[:, 1], n_bins=20)\n",
    "        plt.subplot(3,3,3)\n",
    "        plt.plot(mean_predicted_value, fraction_of_positives, \"P-\", label=\"fold %d\" % (i), lw=1, color=colors[i])\n",
    "\n",
    "\n",
    "        ###############################################################################\n",
    "        # plot evals_result\n",
    "        plt.subplot(3, 3, 4)\n",
    "        plt.plot(range(len(evals_result)), evals_result, label='Fold %d' %(i), lw=1, color=colors[i])\n",
    "\n",
    "\n",
    "        ###############################################################################\n",
    "        # Compute ROC curve and area the curve\n",
    "        fpr, tpr, thresholds = roc_curve(valid_Y, probas_[:, 1])\n",
    "        mean_tpr += interp(mean_fpr, fpr, tpr)\n",
    "        mean_tpr[0] = 0.0\n",
    "        roc_auc = auc(fpr, tpr)\n",
    "\n",
    "        plt.subplot(3, 3, 5)\n",
    "        plt.plot(fpr, tpr, label='Fold %d: %0.2f' % (i, roc_auc), lw=1, color=colors[i])\n",
    "\n",
    "        \n",
    "        ###############################################################################\n",
    "        # Compute Precision-Recall curve and area the curve\n",
    "        precision, recall, thresholds = precision_recall_curve(valid_Y, probas_[:, 1])\n",
    "        mean_precision += interp(mean_recall, recall[::-1], precision[::-1])\n",
    "        pr_auc = auc(recall, precision)\n",
    "\n",
    "        plt.subplot(3, 3, 6)\n",
    "        plt.plot(recall, precision, label='Fold %d: %0.2f' % (i, pr_auc), lw=1, color=colors[i])\n",
    "\n",
    "\n",
    "        ###############################################################################\n",
    "        # calculate lift related information\n",
    "        cust_rank = temp[[_target, _prob]].copy()\n",
    "        cust_rank = cust_rank.sort_values(by=_prob, ascending=False).reset_index(drop=True)\n",
    "        cust_rank['rank'] = cust_rank.index + 1\n",
    "        cust_rank['num_pos_target'] = np.cumsum(cust_rank[_target])\n",
    "        pos_rate = temp[_target].mean()\n",
    "\n",
    "        lift_cums = []\n",
    "        lift_decays = []\n",
    "        for q in range(10, 110, 10):\n",
    "            small_q = (q - 10) / 100.0\n",
    "            big_q = q / 100.0\n",
    "            if q == 100:\n",
    "                lift_cum = cust_rank[_target].mean() / pos_rate\n",
    "                lift_decay = cust_rank[int(small_q * cust_rank.shape[0]) :][_target].mean() / pos_rate\n",
    "            else:\n",
    "                lift_cum = cust_rank[: int(big_q * cust_rank.shape[0])][_target].mean() / pos_rate\n",
    "                lift_decay = cust_rank[int(small_q * cust_rank.shape[0]) : int(big_q * cust_rank.shape[0])][_target].mean() / pos_rate\n",
    "            lift_cums.append(lift_cum)\n",
    "            lift_decays.append(lift_decay)\n",
    "\n",
    "        print ('shuffle: %i, AUC: %f, lift at 10 percent: %f' % (i, roc_auc, lift_cums[0]))\n",
    "        mean_lift += np.array(lift_cums)\n",
    "        mean_lift_decay += np.array(lift_decays)\n",
    "\n",
    "\n",
    "        ###############################################################################\n",
    "        # calculate number of calls\n",
    "        nb_calls = cust_rank.copy()\n",
    "        nb_calls['nb_contacts_100'] = nb_calls.loc[nb_calls.num_pos_target==100,'rank'].min()\n",
    "        nb_calls['nb_contacts_200'] = nb_calls.loc[nb_calls.num_pos_target==200,'rank'].min()\n",
    "        nb_calls['nb_contacts_500'] = nb_calls.loc[nb_calls.num_pos_target==500,'rank'].min()\n",
    "        nb_calls['nb_contacts_1000'] = nb_calls.loc[nb_calls.num_pos_target==1000,'rank'].min()\n",
    "        nb_calls['nb_contacts_2000'] = nb_calls.loc[nb_calls.num_pos_target==2000,'rank'].min()\n",
    "        #nb_calls['nb_contacts_3000'] = nb_calls.loc[nb_calls.num_pos_target==3000,'rank'].min()\n",
    "        nb_calls['nb_contacts_all'] = nb_calls.loc[nb_calls.num_pos_target==nb_calls.num_pos_target.max(),'rank'].min()\n",
    "\n",
    "        nb_calls = nb_calls[['nb_contacts_100','nb_contacts_200', 'nb_contacts_500','nb_contacts_1000', \n",
    "        'nb_contacts_2000','nb_contacts_all']].min() #'nb_contacts_3000',\n",
    "        nb_calls = pd.DataFrame(nb_calls,columns=['nb_contacts'])\n",
    "        nb_calls['total_population'] = cust_rank.shape[0]\n",
    "        nb_calls['total_pos_targets'] = cust_rank[_target].sum()\n",
    "        nb_calls['nb_pos_targets']=[100,200,500,1000,2000, cust_rank[_target].sum()] #3000,\n",
    "        nb_calls['pos_rate'] = nb_calls.nb_pos_targets/nb_calls.nb_contacts\n",
    "        nb_calls['Percentage_of_pos_targets_found'] = nb_calls.nb_pos_targets/nb_calls.total_pos_targets\n",
    "        nb_calls['Percentage_of_Population'] = nb_calls.nb_contacts/nb_calls.total_population\n",
    "        nb_calls['Lift'] = nb_calls.Percentage_of_pos_targets_found/nb_calls.Percentage_of_Population\n",
    "\n",
    "        nb_calls_cv = nb_calls_cv.append(nb_calls)\n",
    "        \n",
    "        \n",
    "        ###############################################################################\n",
    "        feature_importances_data = []\n",
    "        features = train_X.columns\n",
    "        for feature_name, feature_importance in get_importance(_classifier.booster(), 'gain').iteritems():\n",
    "            feature_importances_data.append({\n",
    "                'feature': feature_name,\n",
    "                'importance': feature_importance\n",
    "            })\n",
    "\n",
    "        temp = pd.DataFrame(feature_importances_data)\n",
    "        temp['fold'] = i\n",
    "        feature_importances = feature_importances.append(temp)\n",
    "     \n",
    "    for feature in nb_calls_cv.columns.values:\n",
    "        nb_calls_cv[feature] = pd.to_numeric(nb_calls_cv[feature], errors='coerce')\n",
    "    \n",
    "    nb_calls_cv = nb_calls_cv.reset_index().groupby('index').mean().sort_values(by='nb_pos_targets')\n",
    "    results_cv_targeting = results_cv_targeting.reset_index(drop=True)\n",
    "    \n",
    "    feature_importances = feature_importances.groupby('feature')['importance'].agg([np.mean, np.std])\n",
    "    feature_importances = feature_importances.sort_values(by='mean')\n",
    "    feature_importances = feature_importances.reset_index()\n",
    "\n",
    "\n",
    "    # plot probas for probas\n",
    "    plt.subplot(3, 3, 1)\n",
    "    plt.ylabel('proba', fontsize=10)\n",
    "    plt.title('predicted probas', fontsize=12, fontweight=\"bold\")\n",
    "    #plt.legend(loc=\"lower right\")\n",
    "\n",
    "\n",
    "    # plot probas for both classes\n",
    "    plt.subplot(3, 3, 2)\n",
    "    plt.ylabel('proba', fontsize=10)\n",
    "    plt.title('predicted probas for different classes', fontsize=12, fontweight=\"bold\")\n",
    "    #plt.legend(loc=\"lower right\")\n",
    "\n",
    "\n",
    "    # plot the perfectly calibrated curve\n",
    "    plt.subplot(3,3,3)\n",
    "    plt.plot([0, 1], [0, 1], \"k--\", label=\"Perfectly calibrated\", lw=1, color='grey')\n",
    "    plt.ylabel(\"Fraction of positives\", fontsize=10)\n",
    "    plt.xlabel(\"Mean predicted value\", fontsize=10)\n",
    "    plt.ylim([-0.05, 1.05])\n",
    "    #plt.legend(loc=\"lower right\")\n",
    "    plt.title('Calibration plots  (reliability curve)', fontsize=12, fontweight=\"bold\")\n",
    "\n",
    "\n",
    "    # plot evals_result\n",
    "    plt.subplot(3, 3, 4)\n",
    "    plt.xlabel('n_estimators', fontsize=10)\n",
    "    plt.ylabel('roc_auc', fontsize=10)\n",
    "    plt.title('ROC through n_estimators', fontsize=12, fontweight=\"bold\")\n",
    "    #plt.legend(loc=\"lower right\")\n",
    "\n",
    "    # plot the averaged ROC curve\n",
    "    plt.subplot(3, 3, 5)\n",
    "    mean_tpr /= len(ss)\n",
    "    mean_tpr[-1] = 1.0\n",
    "    mean_auc = auc(mean_fpr, mean_tpr)\n",
    "    plt.plot(mean_fpr, mean_tpr, 'k--', label='Mean ROC: %0.2f' % mean_auc, lw=1, color='grey')\n",
    "    plt.plot([0, 1], [0, 1], '--', color=(0.6, 0.6, 0.6))\n",
    "    plt.xlim([-0.05, 1.05])\n",
    "    plt.ylim([-0.05, 1.05])\n",
    "    plt.xlabel('False Positive Rate', fontsize=10)\n",
    "    plt.ylabel('True Positive Rate', fontsize=10)\n",
    "    plt.title('ROC', fontsize=12, fontweight=\"bold\")\n",
    "    plt.legend(loc=\"lower right\")\n",
    "\n",
    "\n",
    "    # plot averaged PR curve\n",
    "    plt.subplot(3, 3, 6)\n",
    "    mean_precision /= len(ss)\n",
    "    mean_pr_auc = auc(mean_recall, mean_precision)\n",
    "    plt.plot(mean_recall, mean_precision, 'k--', label='Mean PR: %0.2f' % mean_pr_auc, lw=1, color='grey')\n",
    "    plt.xlabel('Recall', fontsize=10)\n",
    "    plt.ylabel('Precision', fontsize=10)\n",
    "    plt.title('Precision-recall', fontsize=12, fontweight=\"bold\")\n",
    "    plt.legend(loc=\"lower right\")\n",
    "    \n",
    "    def autolabel(rects, ax, mark):\n",
    "        \"\"\"\n",
    "        Attach a text label above each bar displaying its height\n",
    "        \"\"\"\n",
    "        for rect in rects:\n",
    "            height = rect.get_height()\n",
    "            if mark == 'int':\n",
    "                ax.text(rect.get_x() + rect.get_width()/2., 1.05*height, '%d' % int(height), \n",
    "                        ha='center', va='bottom', fontsize=10)\n",
    "            else:\n",
    "                ax.text(rect.get_x() + rect.get_width()/2., 1.05*height, '%s' % str(round(height, 2)), \n",
    "                        ha='center', va='bottom', fontsize=10)\n",
    "\n",
    "    # plot lift cumulative\n",
    "    ax1 = plt.subplot(3, 3, 7)\n",
    "    mean_lift /= len(ss)\n",
    "    rects1 = plt.bar(range(10), mean_lift, color='#abdda4')\n",
    "    plt.axhline(y=1, color='grey', linestyle='--', lw=1)\n",
    "    plt.xticks(range(10), ['0-%d' %(num) for num in range(10, 110, 10)], rotation='vertical')\n",
    "    plt.xlabel('Rank percentage interval', fontsize=10)\n",
    "    plt.ylabel('lift', fontsize=10)\n",
    "    plt.title('Lift cumulative plot', fontsize=12, fontweight=\"bold\")\n",
    "    plt.ylim([ax1.get_ylim()[0], ax1.get_ylim()[1] * 1.2])\n",
    "\n",
    "\n",
    "    # plot lift decay\n",
    "    ax2 = plt.subplot(3, 3, 8)\n",
    "    mean_lift_decay /= len(ss)\n",
    "    rects2 = plt.bar(range(10), mean_lift_decay, color='#fdae61')\n",
    "    plt.axhline(y=1, color='grey', linestyle='--', lw=1)\n",
    "    plt.xticks(range(10), ['%d-%d' %(num-10, num) for num in range(10, 110, 10)], rotation='vertical')\n",
    "    plt.xlabel('Rank percentage interval', fontsize=10)\n",
    "    plt.ylabel('lift', fontsize=10)\n",
    "    plt.title('Lift decay plot', fontsize=12, fontweight=\"bold\")\n",
    "    plt.ylim([ax2.get_ylim()[0], ax2.get_ylim()[1] * 1.2])\n",
    "\n",
    "\n",
    "    # plot number of calls\n",
    "    ax3 = plt.subplot(3, 3, 9)\n",
    "    rects3 = plt.bar(range(5), nb_calls_cv['nb_contacts'].values[:-1], color='#6baed6')\n",
    "    plt.xticks(range(5), [100, 200, 500, 1000, 2000], rotation='vertical') #, 3000\n",
    "    plt.xlabel('Number of target get', fontsize=10)\n",
    "    plt.ylabel('Number of contacts', fontsize=10)\n",
    "    plt.title('Number of calls', fontsize=12, fontweight=\"bold\")\n",
    "    plt.ylim([ax3.get_ylim()[0], ax3.get_ylim()[1] * 1.2])\n",
    "    \n",
    "    autolabel(rects1, ax1, 'float')\n",
    "    autolabel(rects2, ax2, 'float')\n",
    "    autolabel(rects3, ax3, 'int')\n",
    "    \n",
    "    fig.subplots_adjust(hspace=.25, wspace=0.25)\n",
    "    \n",
    "    plt.show()\n",
    "    plt.gcf().clear()\n",
    "    \n",
    "\n",
    "    return results_cv_targeting, feature_importances, nb_calls_cv"
   ]
  },
  {
   "cell_type": "markdown",
   "metadata": {},
   "source": [
    "# Handling numeric features"
   ]
  },
  {
   "cell_type": "code",
   "execution_count": 16,
   "metadata": {
    "collapsed": true
   },
   "outputs": [],
   "source": [
    "numeric_cols = [\n",
    "    'EOMD_loan','EOM_lm_loan','EOMD','MX_lm_loan','delta_max_min_bal_lm','MX_lm','LOANALL_bank_ph','EOM_lm','MND','SDEV_lm2',\n",
    "    'sum_end_bal','D20_lm_loan','min_db_lm3_trxnet','SDEV_lm','D20_lm','delta_max_min_bal_lm_loan','min_purchase_amt_lm6_trxout',\n",
    "    'min_cd_lm3_trxnet','min_db_lm6_trxnet','min_trxout_lm3_trxout','SDEV_lm3','min_bal_3mth','QT3_lm3','d20_3mth_loan',\n",
    "    'sum_cd_trxnet','sum_db_lm6_trxnet','MND_loan','QT3_lm2_loan','MN_lm_loan','delta_avg_bal_t1_t2','bill_payment_trxout',\n",
    "    'ratio_delta_avg_bal_t1_t2','MED_lm3','QT1_lm2','avg_lm3_loan','MN_lm','maxcd_amt','avg_lm2_loan','AVGD'\n",
    "]\n",
    "\n",
    "def process_money(x):\n",
    "    x = x / 1000\n",
    "    if x / 1000 == 0:\n",
    "        return x\n",
    "    else:\n",
    "        if x > 0:\n",
    "            flg = 1\n",
    "        else:\n",
    "            flg = -1\n",
    "        x = abs(x)\n",
    "        ds = int(np.log10(x))\n",
    "        x = round(x / pow(10, ds - 2)) * pow(10, ds - 2)\n",
    "        return x * flg\n",
    "    \n",
    "def process_numeric(df):\n",
    "    for col in numeric_cols:\n",
    "        df[col] = df[col].apply(lambda x : process_money(x))\n",
    "    return df"
   ]
  },
  {
   "cell_type": "markdown",
   "metadata": {},
   "source": [
    "# Handling float features"
   ]
  },
  {
   "cell_type": "code",
   "execution_count": 17,
   "metadata": {
    "collapsed": true
   },
   "outputs": [],
   "source": [
    "float_cols = [  \n",
    "    'transfer_to_mandiri_per_trxout','INTRABANKTRANSFER_amt_per_trxout','avg_delta_days_3mth'\n",
    "]\n",
    "\n",
    "def process_float(df):\n",
    "    for col in float_cols:\n",
    "        df[col] = df[col].apply(lambda x : round(x, 3))\n",
    "    return df"
   ]
  },
  {
   "cell_type": "code",
   "execution_count": 18,
   "metadata": {
    "collapsed": true
   },
   "outputs": [],
   "source": [
    "TOP_FEATS = ['EOMD_loan_nearest_a','EOMD_loan_C_a','EOMD_loan_nearest','EOMD_loan','EOMD_nearest','EOM_lm_loan_nearest_a',\n",
    "'MX_lm_loan_nearest_a','EOM_lm_loan','T16_bank_ph','EOM_lm_loan_nearest','maxcd_num_day','MND_nearest',\n",
    "'EOM_lm_nearest','EOMD_C','occp_id_PNS','EOMD_C_a','MND_C','EOMD','MX_lm_loan_nearest','EOMD_nearest_a',\n",
    "'num_cd_trxnet','MX_lm_loan','tot_loan_t-1','maxcd_num','EOM_lm_C','EOM_lm_nearest_a','min_cd_lm3_trxnet',\n",
    "'loan_recent_inc_count','tot_loan_t-2','delta_max_min_bal_lm','MX_lm','LOANALL_bank_ph','MND_C_a','T3_bank_ph',         \n",
    "'EOM_lm','MND','SDEV_lm2','delta_days_lm','sum_end_bal','TOT_UNDEBIT_SAVING','transfer_to_mandiri_per_trxout',\n",
    "'ratio_undebit_saving','D20_lm_loan','min_db_lm3_trxnet','SDEV_lm','AVG_lm_nearest_a','MN_lm_C','AVGD_loan_C',\n",
    "'min_db_lm6_trxnet','saving_acct_delta_bank_ph','D20_lm','bill_payment_freq_trxout',\n",
    "'INTRABANKTRANSFER_amt_per_trxout','delta_max_min_bal_lm_loan','all_acct_delta_bank_ph',\n",
    "'delta_undebit_saving','eom_6mth_C_a','TOT_SAVING_bank_ph','min_trxout_lm3_trxout','D20_lm_nearest_a',\n",
    "'tot_loan_delta_t_t-2','min_purchase_amt_lm6_trxout','TOTPH_bank_ph','SDEV_lm3','delta_vintage_3mth',\n",
    "'saving_acct_vint_l_bank_ph','min_bal_3mth','avg_delta_days_3mth','QT3_lm3','d20_3mth_loan','NOD_lm','sum_cd_trxnet',\n",
    "'T8_bank_ph','delta_range_lm','sum_db_lm6_trxnet','delta_range_avg','MND_loan','QT3_lm2_loan','all_acct_vint_l_bank_ph',\n",
    "'MN_lm_loan','m_atm_freq_trxout','delta_avg_bal_t1_t2','bill_payment_trxout','eom_6mth_nearest_a','MN_lm_loan_nearest_a',           \n",
    "'trx_total_freq_trxout','ratio_delta_avg_bal_t1_t2','maxdt_range_cnts','MED_lm3','QT1_lm2','avg_lm3_loan','MN_lm',\n",
    "'maxcd_amt','MED_lm_nearest_a','avg_lm2_loan','num_db_trxnet','ratio_micro_saving','MN_lm_nearest','AVGD']\n",
    "      "
   ]
  },
  {
   "cell_type": "code",
   "execution_count": 19,
   "metadata": {
    "collapsed": true
   },
   "outputs": [],
   "source": [
    "TOP_200_FEAT = ['cifno','fpf_target'] + TOP_FEATS"
   ]
  },
  {
   "cell_type": "code",
   "execution_count": 20,
   "metadata": {},
   "outputs": [
    {
     "name": "stdout",
     "output_type": "stream",
     "text": [
      "101\n"
     ]
    }
   ],
   "source": [
    "fpf_dataset = fpf_dataset[TOP_200_FEAT]\n",
    "print len(TOP_200_FEAT)"
   ]
  },
  {
   "cell_type": "code",
   "execution_count": 21,
   "metadata": {},
   "outputs": [
    {
     "name": "stdout",
     "output_type": "stream",
     "text": [
      "Wall time: 4.42 s\n",
      "Wall time: 76 ms\n"
     ]
    }
   ],
   "source": [
    "%time fpf_dataset = process_numeric(fpf_dataset)\n",
    "%time fpf_dataset = process_float(fpf_dataset)"
   ]
  },
  {
   "cell_type": "code",
   "execution_count": 22,
   "metadata": {
    "collapsed": true
   },
   "outputs": [
    {
     "data": {
      "text/plain": [
       "['cifno',\n",
       " 'fpf_target',\n",
       " 'EOMD_loan_nearest_a',\n",
       " 'EOMD_loan_C_a',\n",
       " 'EOMD_loan_nearest',\n",
       " 'EOMD_loan',\n",
       " 'EOMD_nearest',\n",
       " 'EOM_lm_loan_nearest_a',\n",
       " 'MX_lm_loan_nearest_a',\n",
       " 'EOM_lm_loan',\n",
       " 'T16_bank_ph',\n",
       " 'EOM_lm_loan_nearest',\n",
       " 'maxcd_num_day',\n",
       " 'MND_nearest',\n",
       " 'EOM_lm_nearest',\n",
       " 'EOMD_C',\n",
       " 'occp_id_PNS',\n",
       " 'EOMD_C_a',\n",
       " 'MND_C',\n",
       " 'EOMD',\n",
       " 'MX_lm_loan_nearest',\n",
       " 'EOMD_nearest_a',\n",
       " 'num_cd_trxnet',\n",
       " 'MX_lm_loan',\n",
       " 'tot_loan_t-1',\n",
       " 'maxcd_num',\n",
       " 'EOM_lm_C',\n",
       " 'EOM_lm_nearest_a',\n",
       " 'min_cd_lm3_trxnet',\n",
       " 'loan_recent_inc_count',\n",
       " 'tot_loan_t-2',\n",
       " 'delta_max_min_bal_lm',\n",
       " 'MX_lm',\n",
       " 'LOANALL_bank_ph',\n",
       " 'MND_C_a',\n",
       " 'T3_bank_ph',\n",
       " 'EOM_lm',\n",
       " 'MND',\n",
       " 'SDEV_lm2',\n",
       " 'delta_days_lm',\n",
       " 'sum_end_bal',\n",
       " 'TOT_UNDEBIT_SAVING',\n",
       " 'transfer_to_mandiri_per_trxout',\n",
       " 'ratio_undebit_saving',\n",
       " 'D20_lm_loan',\n",
       " 'min_db_lm3_trxnet',\n",
       " 'SDEV_lm',\n",
       " 'AVG_lm_nearest_a',\n",
       " 'MN_lm_C',\n",
       " 'AVGD_loan_C',\n",
       " 'min_db_lm6_trxnet',\n",
       " 'saving_acct_delta_bank_ph',\n",
       " 'D20_lm',\n",
       " 'bill_payment_freq_trxout',\n",
       " 'INTRABANKTRANSFER_amt_per_trxout',\n",
       " 'delta_max_min_bal_lm_loan',\n",
       " 'all_acct_delta_bank_ph',\n",
       " 'delta_undebit_saving',\n",
       " 'eom_6mth_C_a',\n",
       " 'TOT_SAVING_bank_ph',\n",
       " 'min_trxout_lm3_trxout',\n",
       " 'D20_lm_nearest_a',\n",
       " 'tot_loan_delta_t_t-2',\n",
       " 'min_purchase_amt_lm6_trxout',\n",
       " 'TOTPH_bank_ph',\n",
       " 'SDEV_lm3',\n",
       " 'delta_vintage_3mth',\n",
       " 'saving_acct_vint_l_bank_ph',\n",
       " 'min_bal_3mth',\n",
       " 'avg_delta_days_3mth',\n",
       " 'QT3_lm3',\n",
       " 'd20_3mth_loan',\n",
       " 'NOD_lm',\n",
       " 'sum_cd_trxnet',\n",
       " 'T8_bank_ph',\n",
       " 'delta_range_lm',\n",
       " 'sum_db_lm6_trxnet',\n",
       " 'delta_range_avg',\n",
       " 'MND_loan',\n",
       " 'QT3_lm2_loan',\n",
       " 'all_acct_vint_l_bank_ph',\n",
       " 'MN_lm_loan',\n",
       " 'm_atm_freq_trxout',\n",
       " 'delta_avg_bal_t1_t2',\n",
       " 'bill_payment_trxout',\n",
       " 'eom_6mth_nearest_a',\n",
       " 'MN_lm_loan_nearest_a',\n",
       " 'trx_total_freq_trxout',\n",
       " 'ratio_delta_avg_bal_t1_t2',\n",
       " 'maxdt_range_cnts',\n",
       " 'MED_lm3',\n",
       " 'QT1_lm2',\n",
       " 'avg_lm3_loan',\n",
       " 'MN_lm',\n",
       " 'maxcd_amt',\n",
       " 'MED_lm_nearest_a',\n",
       " 'avg_lm2_loan',\n",
       " 'num_db_trxnet',\n",
       " 'ratio_micro_saving',\n",
       " 'MN_lm_nearest',\n",
       " 'AVGD']"
      ]
     },
     "execution_count": 22,
     "metadata": {},
     "output_type": "execute_result"
    }
   ],
   "source": [
    "TOP_200_FEAT"
   ]
  },
  {
   "cell_type": "code",
   "execution_count": 23,
   "metadata": {
    "scrolled": true
   },
   "outputs": [
    {
     "name": "stdout",
     "output_type": "stream",
     "text": [
      "['fpf_target']\n",
      "target number fpf_target\n",
      "4395\n",
      "target proportion fpf_target\n",
      "0.220876469997\n",
      "Train data has 13928 rows and 101 columns\n",
      "Test data has 5970 rows and 101 columns\n"
     ]
    }
   ],
   "source": [
    "ALL_TARGETS = ['fpf_target']\n",
    "IDS = ['cifno']\n",
    "feature_columns = [col for col in fpf_dataset if col not in IDS and col not in ALL_TARGETS]\n",
    "feature_columns = np.concatenate([IDS, feature_columns])\n",
    "\n",
    "print(ALL_TARGETS)\n",
    "\n",
    "for target in ALL_TARGETS:\n",
    "    print(\"target number %s\"%target)\n",
    "    print(fpf_dataset[target].sum())\n",
    "    print(\"target proportion %s\"%target)\n",
    "    print(fpf_dataset[target].mean())\n",
    "\n",
    "train, test = train_test_split(fpf_dataset,train_size=0.7)\n",
    "\n",
    "print('Train data has %i rows and %i columns'%(train.shape[0], train.shape[1]))\n",
    "print('Test data has %i rows and %i columns'%(test.shape[0], test.shape[1]))\n",
    "\n",
    "COLS_TO_DROP = ALL_TARGETS + IDS  \n",
    "\n",
    "X_train = train.drop(COLS_TO_DROP,axis=1)\n",
    "X_test = test.drop(COLS_TO_DROP,axis=1)"
   ]
  },
  {
   "cell_type": "raw",
   "metadata": {
    "scrolled": true
   },
   "source": [
    "# parameters of the classifier need to be changed according to datasets\n",
    "classifier = xgb.XGBClassifier(objective='binary:logistic',max_depth=6,n_estimators=20, learning_rate=0.05,max_delta_step=1,\n",
    "                        min_child_weight=25, gamma=0.1, scale_pos_weight=1, colsample_bytree=0.85, subsample=0.85,colsample_bylevel=0.85,\n",
    "                        nthread=6, seed=27)\n",
    "\n",
    "results_cv_targeting, feature_importances,nb_calls_cv = run_cross_validation(fpf_dataset, classifier , feature_columns) #"
   ]
  },
  {
   "cell_type": "code",
   "execution_count": 24,
   "metadata": {
    "scrolled": true
   },
   "outputs": [
    {
     "name": "stdout",
     "output_type": "stream",
     "text": [
      "modeling started\n",
      "[0]\tvalidation_0-auc:0.680642\n",
      "Will train until validation_0-auc hasn't improved in 40 rounds.\n",
      "[1]\tvalidation_0-auc:0.693661\n",
      "[2]\tvalidation_0-auc:0.709736\n",
      "[3]\tvalidation_0-auc:0.720741\n",
      "[4]\tvalidation_0-auc:0.735211\n",
      "[5]\tvalidation_0-auc:0.738699\n",
      "[6]\tvalidation_0-auc:0.741437\n",
      "[7]\tvalidation_0-auc:0.742677\n",
      "[8]\tvalidation_0-auc:0.751631\n",
      "[9]\tvalidation_0-auc:0.755205\n",
      "[10]\tvalidation_0-auc:0.755986\n",
      "[11]\tvalidation_0-auc:0.757786\n",
      "[12]\tvalidation_0-auc:0.757497\n",
      "[13]\tvalidation_0-auc:0.763362\n",
      "[14]\tvalidation_0-auc:0.766706\n",
      "[15]\tvalidation_0-auc:0.769311\n",
      "[16]\tvalidation_0-auc:0.772967\n",
      "[17]\tvalidation_0-auc:0.773921\n",
      "[18]\tvalidation_0-auc:0.774239\n",
      "[19]\tvalidation_0-auc:0.775181\n",
      "[20]\tvalidation_0-auc:0.775474\n",
      "[21]\tvalidation_0-auc:0.775934\n",
      "[22]\tvalidation_0-auc:0.777109\n",
      "[23]\tvalidation_0-auc:0.777063\n",
      "[24]\tvalidation_0-auc:0.777754\n",
      "[25]\tvalidation_0-auc:0.778467\n",
      "[26]\tvalidation_0-auc:0.778612\n",
      "[27]\tvalidation_0-auc:0.779497\n",
      "[28]\tvalidation_0-auc:0.780026\n",
      "[29]\tvalidation_0-auc:0.779666\n",
      "[30]\tvalidation_0-auc:0.779866\n",
      "[31]\tvalidation_0-auc:0.780468\n",
      "[32]\tvalidation_0-auc:0.780766\n",
      "[33]\tvalidation_0-auc:0.781088\n",
      "[34]\tvalidation_0-auc:0.781725\n",
      "[35]\tvalidation_0-auc:0.782122\n",
      "[36]\tvalidation_0-auc:0.782519\n",
      "[37]\tvalidation_0-auc:0.782755\n",
      "[38]\tvalidation_0-auc:0.783238\n",
      "[39]\tvalidation_0-auc:0.783771\n",
      "[40]\tvalidation_0-auc:0.783898\n",
      "[41]\tvalidation_0-auc:0.783934\n",
      "[42]\tvalidation_0-auc:0.784019\n",
      "[43]\tvalidation_0-auc:0.78453\n",
      "[44]\tvalidation_0-auc:0.784497\n",
      "[45]\tvalidation_0-auc:0.784797\n",
      "[46]\tvalidation_0-auc:0.784907\n",
      "[47]\tvalidation_0-auc:0.785249\n",
      "[48]\tvalidation_0-auc:0.785258\n",
      "[49]\tvalidation_0-auc:0.785535\n",
      "[50]\tvalidation_0-auc:0.78561\n",
      "[51]\tvalidation_0-auc:0.78577\n",
      "[52]\tvalidation_0-auc:0.785708\n",
      "[53]\tvalidation_0-auc:0.785759\n",
      "[54]\tvalidation_0-auc:0.785992\n",
      "[55]\tvalidation_0-auc:0.786122\n",
      "[56]\tvalidation_0-auc:0.786425\n",
      "[57]\tvalidation_0-auc:0.786669\n",
      "[58]\tvalidation_0-auc:0.786752\n",
      "[59]\tvalidation_0-auc:0.787039\n",
      "[60]\tvalidation_0-auc:0.787076\n",
      "[61]\tvalidation_0-auc:0.787077\n",
      "[62]\tvalidation_0-auc:0.787192\n",
      "[63]\tvalidation_0-auc:0.78735\n",
      "[64]\tvalidation_0-auc:0.787652\n",
      "[65]\tvalidation_0-auc:0.787607\n",
      "[66]\tvalidation_0-auc:0.78795\n",
      "[67]\tvalidation_0-auc:0.787982\n",
      "[68]\tvalidation_0-auc:0.788105\n",
      "[69]\tvalidation_0-auc:0.788295\n",
      "[70]\tvalidation_0-auc:0.788433\n",
      "[71]\tvalidation_0-auc:0.788535\n",
      "[72]\tvalidation_0-auc:0.788648\n",
      "[73]\tvalidation_0-auc:0.788915\n",
      "[74]\tvalidation_0-auc:0.789182\n",
      "[75]\tvalidation_0-auc:0.789176\n",
      "[76]\tvalidation_0-auc:0.789352\n",
      "[77]\tvalidation_0-auc:0.789853\n",
      "[78]\tvalidation_0-auc:0.789889\n",
      "[79]\tvalidation_0-auc:0.790005\n",
      "[80]\tvalidation_0-auc:0.79\n",
      "[81]\tvalidation_0-auc:0.790196\n",
      "[82]\tvalidation_0-auc:0.790455\n",
      "[83]\tvalidation_0-auc:0.790704\n",
      "[84]\tvalidation_0-auc:0.790756\n",
      "[85]\tvalidation_0-auc:0.791139\n",
      "[86]\tvalidation_0-auc:0.791498\n",
      "[87]\tvalidation_0-auc:0.791387\n",
      "[88]\tvalidation_0-auc:0.791447\n",
      "[89]\tvalidation_0-auc:0.79159\n",
      "[90]\tvalidation_0-auc:0.791659\n",
      "[91]\tvalidation_0-auc:0.791599\n",
      "[92]\tvalidation_0-auc:0.791677\n",
      "[93]\tvalidation_0-auc:0.791946\n",
      "[94]\tvalidation_0-auc:0.792033\n",
      "[95]\tvalidation_0-auc:0.792043\n",
      "[96]\tvalidation_0-auc:0.792076\n",
      "[97]\tvalidation_0-auc:0.792237\n",
      "[98]\tvalidation_0-auc:0.792323\n",
      "[99]\tvalidation_0-auc:0.792432\n",
      "[100]\tvalidation_0-auc:0.792458\n",
      "[101]\tvalidation_0-auc:0.792395\n",
      "[102]\tvalidation_0-auc:0.792844\n",
      "[103]\tvalidation_0-auc:0.793041\n",
      "[104]\tvalidation_0-auc:0.793027\n",
      "[105]\tvalidation_0-auc:0.793009\n",
      "[106]\tvalidation_0-auc:0.793416\n",
      "[107]\tvalidation_0-auc:0.793592\n",
      "[108]\tvalidation_0-auc:0.793628\n",
      "[109]\tvalidation_0-auc:0.793675\n",
      "[110]\tvalidation_0-auc:0.79377\n",
      "[111]\tvalidation_0-auc:0.793808\n",
      "[112]\tvalidation_0-auc:0.793832\n",
      "[113]\tvalidation_0-auc:0.793838\n",
      "[114]\tvalidation_0-auc:0.794142\n",
      "[115]\tvalidation_0-auc:0.794378\n",
      "[116]\tvalidation_0-auc:0.794489\n",
      "[117]\tvalidation_0-auc:0.794452\n",
      "[118]\tvalidation_0-auc:0.794318\n",
      "[119]\tvalidation_0-auc:0.794138\n",
      "[120]\tvalidation_0-auc:0.794287\n",
      "[121]\tvalidation_0-auc:0.794184\n",
      "[122]\tvalidation_0-auc:0.79413\n",
      "[123]\tvalidation_0-auc:0.794106\n",
      "[124]\tvalidation_0-auc:0.794391\n",
      "[125]\tvalidation_0-auc:0.794471\n",
      "[126]\tvalidation_0-auc:0.794487\n",
      "[127]\tvalidation_0-auc:0.794366\n",
      "[128]\tvalidation_0-auc:0.794325\n",
      "[129]\tvalidation_0-auc:0.794309\n",
      "[130]\tvalidation_0-auc:0.794287\n",
      "[131]\tvalidation_0-auc:0.794363\n",
      "[132]\tvalidation_0-auc:0.79431\n",
      "[133]\tvalidation_0-auc:0.794382\n",
      "[134]\tvalidation_0-auc:0.794415\n",
      "[135]\tvalidation_0-auc:0.794686\n",
      "[136]\tvalidation_0-auc:0.794616\n",
      "[137]\tvalidation_0-auc:0.794604\n",
      "[138]\tvalidation_0-auc:0.794649\n",
      "[139]\tvalidation_0-auc:0.794798\n",
      "[140]\tvalidation_0-auc:0.794859\n",
      "[141]\tvalidation_0-auc:0.794935\n",
      "[142]\tvalidation_0-auc:0.795045\n",
      "[143]\tvalidation_0-auc:0.795192\n",
      "[144]\tvalidation_0-auc:0.794961\n",
      "[145]\tvalidation_0-auc:0.795049\n",
      "[146]\tvalidation_0-auc:0.79516\n",
      "[147]\tvalidation_0-auc:0.795125\n",
      "[148]\tvalidation_0-auc:0.795111\n",
      "[149]\tvalidation_0-auc:0.794956\n",
      "[150]\tvalidation_0-auc:0.794982\n",
      "[151]\tvalidation_0-auc:0.794993\n",
      "[152]\tvalidation_0-auc:0.795064\n",
      "[153]\tvalidation_0-auc:0.795037\n",
      "[154]\tvalidation_0-auc:0.794994\n",
      "[155]\tvalidation_0-auc:0.794965\n",
      "[156]\tvalidation_0-auc:0.795071\n",
      "[157]\tvalidation_0-auc:0.795126\n",
      "[158]\tvalidation_0-auc:0.795051\n",
      "[159]\tvalidation_0-auc:0.795017\n",
      "[160]\tvalidation_0-auc:0.794933\n",
      "[161]\tvalidation_0-auc:0.794961\n",
      "[162]\tvalidation_0-auc:0.795033\n",
      "[163]\tvalidation_0-auc:0.795034\n",
      "[164]\tvalidation_0-auc:0.795001\n",
      "[165]\tvalidation_0-auc:0.794962\n",
      "[166]\tvalidation_0-auc:0.794902\n",
      "[167]\tvalidation_0-auc:0.795063\n",
      "[168]\tvalidation_0-auc:0.795249\n",
      "[169]\tvalidation_0-auc:0.795244\n",
      "shuffle: 0, AUC: 0.795244, lift at 10 percent: 3.092006\n",
      "[0]\tvalidation_0-auc:0.676845\n",
      "Will train until validation_0-auc hasn't improved in 40 rounds.\n",
      "[1]\tvalidation_0-auc:0.708085\n",
      "[2]\tvalidation_0-auc:0.708863\n",
      "[3]\tvalidation_0-auc:0.73129\n",
      "[4]\tvalidation_0-auc:0.743755\n",
      "[5]\tvalidation_0-auc:0.75442\n",
      "[6]\tvalidation_0-auc:0.75545\n",
      "[7]\tvalidation_0-auc:0.756107\n",
      "[8]\tvalidation_0-auc:0.76176\n",
      "[9]\tvalidation_0-auc:0.764086\n",
      "[10]\tvalidation_0-auc:0.766411\n",
      "[11]\tvalidation_0-auc:0.766706\n",
      "[12]\tvalidation_0-auc:0.769007\n",
      "[13]\tvalidation_0-auc:0.77252\n",
      "[14]\tvalidation_0-auc:0.776456\n",
      "[15]\tvalidation_0-auc:0.778646\n",
      "[16]\tvalidation_0-auc:0.779631\n",
      "[17]\tvalidation_0-auc:0.783022\n",
      "[18]\tvalidation_0-auc:0.784095\n",
      "[19]\tvalidation_0-auc:0.784934\n",
      "[20]\tvalidation_0-auc:0.784907\n",
      "[21]\tvalidation_0-auc:0.785369\n",
      "[22]\tvalidation_0-auc:0.786786\n",
      "[23]\tvalidation_0-auc:0.787058\n",
      "[24]\tvalidation_0-auc:0.787795\n",
      "[25]\tvalidation_0-auc:0.787747\n",
      "[26]\tvalidation_0-auc:0.787638\n",
      "[27]\tvalidation_0-auc:0.787807\n",
      "[28]\tvalidation_0-auc:0.788425\n",
      "[29]\tvalidation_0-auc:0.789098\n",
      "[30]\tvalidation_0-auc:0.789881\n",
      "[31]\tvalidation_0-auc:0.79011\n",
      "[32]\tvalidation_0-auc:0.790717\n",
      "[33]\tvalidation_0-auc:0.791294\n",
      "[34]\tvalidation_0-auc:0.791485\n",
      "[35]\tvalidation_0-auc:0.791479\n",
      "[36]\tvalidation_0-auc:0.791538\n",
      "[37]\tvalidation_0-auc:0.791911\n",
      "[38]\tvalidation_0-auc:0.792408\n",
      "[39]\tvalidation_0-auc:0.792392\n",
      "[40]\tvalidation_0-auc:0.792626\n",
      "[41]\tvalidation_0-auc:0.792678\n",
      "[42]\tvalidation_0-auc:0.792976\n",
      "[43]\tvalidation_0-auc:0.792721\n",
      "[44]\tvalidation_0-auc:0.793038\n",
      "[45]\tvalidation_0-auc:0.793172\n",
      "[46]\tvalidation_0-auc:0.793526\n",
      "[47]\tvalidation_0-auc:0.793437\n",
      "[48]\tvalidation_0-auc:0.793683\n",
      "[49]\tvalidation_0-auc:0.793888\n",
      "[50]\tvalidation_0-auc:0.793989\n",
      "[51]\tvalidation_0-auc:0.79416\n",
      "[52]\tvalidation_0-auc:0.794272\n",
      "[53]\tvalidation_0-auc:0.794191\n",
      "[54]\tvalidation_0-auc:0.794636\n",
      "[55]\tvalidation_0-auc:0.794866\n",
      "[56]\tvalidation_0-auc:0.794712\n",
      "[57]\tvalidation_0-auc:0.794904\n",
      "[58]\tvalidation_0-auc:0.795001\n",
      "[59]\tvalidation_0-auc:0.79517\n",
      "[60]\tvalidation_0-auc:0.795297\n",
      "[61]\tvalidation_0-auc:0.795137\n",
      "[62]\tvalidation_0-auc:0.795294\n",
      "[63]\tvalidation_0-auc:0.795213\n",
      "[64]\tvalidation_0-auc:0.795306\n",
      "[65]\tvalidation_0-auc:0.795327\n",
      "[66]\tvalidation_0-auc:0.795498\n",
      "[67]\tvalidation_0-auc:0.795634\n",
      "[68]\tvalidation_0-auc:0.795529\n",
      "[69]\tvalidation_0-auc:0.795677\n",
      "[70]\tvalidation_0-auc:0.796134\n",
      "[71]\tvalidation_0-auc:0.796153\n",
      "[72]\tvalidation_0-auc:0.79613\n",
      "[73]\tvalidation_0-auc:0.796234\n",
      "[74]\tvalidation_0-auc:0.796433\n",
      "[75]\tvalidation_0-auc:0.796613\n",
      "[76]\tvalidation_0-auc:0.79679\n",
      "[77]\tvalidation_0-auc:0.796902\n",
      "[78]\tvalidation_0-auc:0.796978\n",
      "[79]\tvalidation_0-auc:0.797066\n",
      "[80]\tvalidation_0-auc:0.797463\n",
      "[81]\tvalidation_0-auc:0.797621\n",
      "[82]\tvalidation_0-auc:0.797622\n",
      "[83]\tvalidation_0-auc:0.797852\n",
      "[84]\tvalidation_0-auc:0.798082\n",
      "[85]\tvalidation_0-auc:0.798146\n",
      "[86]\tvalidation_0-auc:0.798263\n"
     ]
    },
    {
     "name": "stdout",
     "output_type": "stream",
     "text": [
      "[87]\tvalidation_0-auc:0.798274\n",
      "[88]\tvalidation_0-auc:0.798341\n",
      "[89]\tvalidation_0-auc:0.798472\n",
      "[90]\tvalidation_0-auc:0.79843\n",
      "[91]\tvalidation_0-auc:0.798471\n",
      "[92]\tvalidation_0-auc:0.798796\n",
      "[93]\tvalidation_0-auc:0.799079\n",
      "[94]\tvalidation_0-auc:0.799061\n",
      "[95]\tvalidation_0-auc:0.799213\n",
      "[96]\tvalidation_0-auc:0.79936\n",
      "[97]\tvalidation_0-auc:0.799663\n",
      "[98]\tvalidation_0-auc:0.799706\n",
      "[99]\tvalidation_0-auc:0.799861\n",
      "[100]\tvalidation_0-auc:0.799905\n",
      "[101]\tvalidation_0-auc:0.799897\n",
      "[102]\tvalidation_0-auc:0.800024\n",
      "[103]\tvalidation_0-auc:0.800032\n",
      "[104]\tvalidation_0-auc:0.800066\n",
      "[105]\tvalidation_0-auc:0.800155\n",
      "[106]\tvalidation_0-auc:0.800269\n",
      "[107]\tvalidation_0-auc:0.800415\n",
      "[108]\tvalidation_0-auc:0.800513\n",
      "[109]\tvalidation_0-auc:0.800627\n",
      "[110]\tvalidation_0-auc:0.800607\n",
      "[111]\tvalidation_0-auc:0.800687\n",
      "[112]\tvalidation_0-auc:0.800844\n",
      "[113]\tvalidation_0-auc:0.800788\n",
      "[114]\tvalidation_0-auc:0.800709\n",
      "[115]\tvalidation_0-auc:0.800881\n",
      "[116]\tvalidation_0-auc:0.800995\n",
      "[117]\tvalidation_0-auc:0.801043\n",
      "[118]\tvalidation_0-auc:0.800936\n",
      "[119]\tvalidation_0-auc:0.800893\n",
      "[120]\tvalidation_0-auc:0.800902\n",
      "[121]\tvalidation_0-auc:0.800964\n",
      "[122]\tvalidation_0-auc:0.800878\n",
      "[123]\tvalidation_0-auc:0.800971\n",
      "[124]\tvalidation_0-auc:0.800857\n",
      "[125]\tvalidation_0-auc:0.80087\n",
      "[126]\tvalidation_0-auc:0.80081\n",
      "[127]\tvalidation_0-auc:0.800829\n",
      "[128]\tvalidation_0-auc:0.800928\n",
      "[129]\tvalidation_0-auc:0.800921\n",
      "[130]\tvalidation_0-auc:0.800983\n",
      "[131]\tvalidation_0-auc:0.800873\n",
      "[132]\tvalidation_0-auc:0.801034\n",
      "[133]\tvalidation_0-auc:0.801063\n",
      "[134]\tvalidation_0-auc:0.801084\n",
      "[135]\tvalidation_0-auc:0.801107\n",
      "[136]\tvalidation_0-auc:0.801149\n",
      "[137]\tvalidation_0-auc:0.801085\n",
      "[138]\tvalidation_0-auc:0.801134\n",
      "[139]\tvalidation_0-auc:0.801123\n",
      "[140]\tvalidation_0-auc:0.801126\n",
      "[141]\tvalidation_0-auc:0.801143\n",
      "[142]\tvalidation_0-auc:0.801147\n",
      "[143]\tvalidation_0-auc:0.801145\n",
      "[144]\tvalidation_0-auc:0.801106\n",
      "[145]\tvalidation_0-auc:0.801169\n",
      "[146]\tvalidation_0-auc:0.801291\n",
      "[147]\tvalidation_0-auc:0.801326\n",
      "[148]\tvalidation_0-auc:0.801369\n",
      "[149]\tvalidation_0-auc:0.801492\n",
      "[150]\tvalidation_0-auc:0.801459\n",
      "[151]\tvalidation_0-auc:0.801347\n",
      "[152]\tvalidation_0-auc:0.801272\n",
      "[153]\tvalidation_0-auc:0.801263\n",
      "[154]\tvalidation_0-auc:0.801276\n",
      "[155]\tvalidation_0-auc:0.801439\n",
      "[156]\tvalidation_0-auc:0.80167\n",
      "[157]\tvalidation_0-auc:0.801742\n",
      "[158]\tvalidation_0-auc:0.801776\n",
      "[159]\tvalidation_0-auc:0.801745\n",
      "[160]\tvalidation_0-auc:0.8018\n",
      "[161]\tvalidation_0-auc:0.801904\n",
      "[162]\tvalidation_0-auc:0.801864\n",
      "[163]\tvalidation_0-auc:0.80178\n",
      "[164]\tvalidation_0-auc:0.801749\n",
      "[165]\tvalidation_0-auc:0.801745\n",
      "[166]\tvalidation_0-auc:0.801762\n",
      "[167]\tvalidation_0-auc:0.801748\n",
      "[168]\tvalidation_0-auc:0.801741\n",
      "[169]\tvalidation_0-auc:0.801764\n",
      "shuffle: 1, AUC: 0.801764, lift at 10 percent: 3.122649\n",
      "[0]\tvalidation_0-auc:0.694148\n",
      "Will train until validation_0-auc hasn't improved in 40 rounds.\n",
      "[1]\tvalidation_0-auc:0.724488\n",
      "[2]\tvalidation_0-auc:0.729635\n",
      "[3]\tvalidation_0-auc:0.740927\n",
      "[4]\tvalidation_0-auc:0.746843\n",
      "[5]\tvalidation_0-auc:0.750499\n",
      "[6]\tvalidation_0-auc:0.754376\n",
      "[7]\tvalidation_0-auc:0.755682\n",
      "[8]\tvalidation_0-auc:0.763104\n",
      "[9]\tvalidation_0-auc:0.76781\n",
      "[10]\tvalidation_0-auc:0.770412\n",
      "[11]\tvalidation_0-auc:0.772499\n",
      "[12]\tvalidation_0-auc:0.773803\n",
      "[13]\tvalidation_0-auc:0.777748\n",
      "[14]\tvalidation_0-auc:0.78118\n",
      "[15]\tvalidation_0-auc:0.782658\n",
      "[16]\tvalidation_0-auc:0.783239\n",
      "[17]\tvalidation_0-auc:0.785401\n",
      "[18]\tvalidation_0-auc:0.785835\n",
      "[19]\tvalidation_0-auc:0.788473\n",
      "[20]\tvalidation_0-auc:0.788388\n",
      "[21]\tvalidation_0-auc:0.789673\n",
      "[22]\tvalidation_0-auc:0.790506\n",
      "[23]\tvalidation_0-auc:0.790733\n",
      "[24]\tvalidation_0-auc:0.791063\n",
      "[25]\tvalidation_0-auc:0.791602\n",
      "[26]\tvalidation_0-auc:0.791474\n",
      "[27]\tvalidation_0-auc:0.791747\n",
      "[28]\tvalidation_0-auc:0.792202\n",
      "[29]\tvalidation_0-auc:0.792641\n",
      "[30]\tvalidation_0-auc:0.792774\n",
      "[31]\tvalidation_0-auc:0.79324\n",
      "[32]\tvalidation_0-auc:0.79327\n",
      "[33]\tvalidation_0-auc:0.79334\n",
      "[34]\tvalidation_0-auc:0.793126\n",
      "[35]\tvalidation_0-auc:0.79399\n",
      "[36]\tvalidation_0-auc:0.794411\n",
      "[37]\tvalidation_0-auc:0.794565\n",
      "[38]\tvalidation_0-auc:0.795036\n",
      "[39]\tvalidation_0-auc:0.795269\n",
      "[40]\tvalidation_0-auc:0.79501\n",
      "[41]\tvalidation_0-auc:0.795046\n",
      "[42]\tvalidation_0-auc:0.795086\n",
      "[43]\tvalidation_0-auc:0.795009\n",
      "[44]\tvalidation_0-auc:0.795163\n",
      "[45]\tvalidation_0-auc:0.795661\n",
      "[46]\tvalidation_0-auc:0.795575\n",
      "[47]\tvalidation_0-auc:0.795499\n",
      "[48]\tvalidation_0-auc:0.795586\n",
      "[49]\tvalidation_0-auc:0.79561\n",
      "[50]\tvalidation_0-auc:0.795407\n",
      "[51]\tvalidation_0-auc:0.795456\n",
      "[52]\tvalidation_0-auc:0.795565\n",
      "[53]\tvalidation_0-auc:0.795882\n",
      "[54]\tvalidation_0-auc:0.796383\n",
      "[55]\tvalidation_0-auc:0.796272\n",
      "[56]\tvalidation_0-auc:0.796514\n",
      "[57]\tvalidation_0-auc:0.796611\n",
      "[58]\tvalidation_0-auc:0.796649\n",
      "[59]\tvalidation_0-auc:0.796762\n",
      "[60]\tvalidation_0-auc:0.79668\n",
      "[61]\tvalidation_0-auc:0.79689\n",
      "[62]\tvalidation_0-auc:0.796712\n",
      "[63]\tvalidation_0-auc:0.796871\n",
      "[64]\tvalidation_0-auc:0.797171\n",
      "[65]\tvalidation_0-auc:0.797169\n",
      "[66]\tvalidation_0-auc:0.797331\n",
      "[67]\tvalidation_0-auc:0.797432\n",
      "[68]\tvalidation_0-auc:0.797317\n",
      "[69]\tvalidation_0-auc:0.79746\n",
      "[70]\tvalidation_0-auc:0.797493\n",
      "[71]\tvalidation_0-auc:0.797819\n",
      "[72]\tvalidation_0-auc:0.798064\n",
      "[73]\tvalidation_0-auc:0.798141\n",
      "[74]\tvalidation_0-auc:0.798245\n",
      "[75]\tvalidation_0-auc:0.798299\n",
      "[76]\tvalidation_0-auc:0.798338\n",
      "[77]\tvalidation_0-auc:0.798361\n",
      "[78]\tvalidation_0-auc:0.798489\n",
      "[79]\tvalidation_0-auc:0.798743\n",
      "[80]\tvalidation_0-auc:0.798951\n",
      "[81]\tvalidation_0-auc:0.799097\n",
      "[82]\tvalidation_0-auc:0.79926\n",
      "[83]\tvalidation_0-auc:0.799305\n",
      "[84]\tvalidation_0-auc:0.799351\n",
      "[85]\tvalidation_0-auc:0.799638\n",
      "[86]\tvalidation_0-auc:0.799789\n",
      "[87]\tvalidation_0-auc:0.799837\n",
      "[88]\tvalidation_0-auc:0.799885\n",
      "[89]\tvalidation_0-auc:0.799946\n",
      "[90]\tvalidation_0-auc:0.799986\n",
      "[91]\tvalidation_0-auc:0.800035\n",
      "[92]\tvalidation_0-auc:0.800083\n",
      "[93]\tvalidation_0-auc:0.800254\n",
      "[94]\tvalidation_0-auc:0.800413\n",
      "[95]\tvalidation_0-auc:0.80059\n",
      "[96]\tvalidation_0-auc:0.800635\n",
      "[97]\tvalidation_0-auc:0.800859\n",
      "[98]\tvalidation_0-auc:0.80098\n",
      "[99]\tvalidation_0-auc:0.801044\n",
      "[100]\tvalidation_0-auc:0.801135\n",
      "[101]\tvalidation_0-auc:0.801196\n",
      "[102]\tvalidation_0-auc:0.801392\n",
      "[103]\tvalidation_0-auc:0.801478\n",
      "[104]\tvalidation_0-auc:0.801653\n",
      "[105]\tvalidation_0-auc:0.801629\n",
      "[106]\tvalidation_0-auc:0.801696\n",
      "[107]\tvalidation_0-auc:0.801758\n",
      "[108]\tvalidation_0-auc:0.80176\n",
      "[109]\tvalidation_0-auc:0.801664\n",
      "[110]\tvalidation_0-auc:0.801815\n",
      "[111]\tvalidation_0-auc:0.801759\n",
      "[112]\tvalidation_0-auc:0.801683\n",
      "[113]\tvalidation_0-auc:0.80178\n",
      "[114]\tvalidation_0-auc:0.801887\n",
      "[115]\tvalidation_0-auc:0.801941\n",
      "[116]\tvalidation_0-auc:0.801946\n",
      "[117]\tvalidation_0-auc:0.802044\n",
      "[118]\tvalidation_0-auc:0.802161\n",
      "[119]\tvalidation_0-auc:0.802217\n",
      "[120]\tvalidation_0-auc:0.802321\n",
      "[121]\tvalidation_0-auc:0.802188\n",
      "[122]\tvalidation_0-auc:0.802319\n",
      "[123]\tvalidation_0-auc:0.802456\n",
      "[124]\tvalidation_0-auc:0.802415\n",
      "[125]\tvalidation_0-auc:0.802637\n",
      "[126]\tvalidation_0-auc:0.802712\n",
      "[127]\tvalidation_0-auc:0.802729\n",
      "[128]\tvalidation_0-auc:0.802921\n",
      "[129]\tvalidation_0-auc:0.802834\n",
      "[130]\tvalidation_0-auc:0.802799\n",
      "[131]\tvalidation_0-auc:0.802738\n",
      "[132]\tvalidation_0-auc:0.802763\n",
      "[133]\tvalidation_0-auc:0.802678\n",
      "[134]\tvalidation_0-auc:0.802721\n",
      "[135]\tvalidation_0-auc:0.802736\n",
      "[136]\tvalidation_0-auc:0.802841\n",
      "[137]\tvalidation_0-auc:0.802971\n",
      "[138]\tvalidation_0-auc:0.802857\n",
      "[139]\tvalidation_0-auc:0.802989\n",
      "[140]\tvalidation_0-auc:0.802948\n",
      "[141]\tvalidation_0-auc:0.802937\n",
      "[142]\tvalidation_0-auc:0.802926\n",
      "[143]\tvalidation_0-auc:0.803019\n",
      "[144]\tvalidation_0-auc:0.8031\n",
      "[145]\tvalidation_0-auc:0.803049\n",
      "[146]\tvalidation_0-auc:0.803065\n",
      "[147]\tvalidation_0-auc:0.80312\n",
      "[148]\tvalidation_0-auc:0.803085\n",
      "[149]\tvalidation_0-auc:0.803124\n",
      "[150]\tvalidation_0-auc:0.803198\n",
      "[151]\tvalidation_0-auc:0.803149\n",
      "[152]\tvalidation_0-auc:0.803186\n",
      "[153]\tvalidation_0-auc:0.803305\n",
      "[154]\tvalidation_0-auc:0.803323\n",
      "[155]\tvalidation_0-auc:0.803495\n",
      "[156]\tvalidation_0-auc:0.80344\n",
      "[157]\tvalidation_0-auc:0.803479\n",
      "[158]\tvalidation_0-auc:0.803561\n",
      "[159]\tvalidation_0-auc:0.803525\n",
      "[160]\tvalidation_0-auc:0.803515\n",
      "[161]\tvalidation_0-auc:0.803471\n",
      "[162]\tvalidation_0-auc:0.803676\n",
      "[163]\tvalidation_0-auc:0.803617\n",
      "[164]\tvalidation_0-auc:0.803608\n",
      "[165]\tvalidation_0-auc:0.80359\n",
      "[166]\tvalidation_0-auc:0.803537\n",
      "[167]\tvalidation_0-auc:0.803674\n",
      "[168]\tvalidation_0-auc:0.803711\n",
      "[169]\tvalidation_0-auc:0.803673\n",
      "shuffle: 2, AUC: 0.803673, lift at 10 percent: 3.160305\n"
     ]
    },
    {
     "data": {
      "image/png": "[encoded data removed]",
      "text/plain": [
       "<matplotlib.figure.Figure at 0xccec2b0>"
      ]
     },
     "metadata": {},
     "output_type": "display_data"
    },
    {
     "data": {
      "text/plain": [
       "<matplotlib.figure.Figure at 0x10f3a550>"
      ]
     },
     "metadata": {},
     "output_type": "display_data"
    }
   ],
   "source": [
    "classifier = xgb.XGBClassifier(objective='binary:logistic',max_depth=6,n_estimators=170, learning_rate=0.05,max_delta_step=1,\n",
    "                        min_child_weight=25, gamma=0.1, scale_pos_weight=1, colsample_bytree=0.85, subsample=0.85,colsample_bylevel=0.85,\n",
    "                        nthread=6, seed=27)\n",
    "\n",
    "results_cv_targeting, feature_importances,nb_calls_cv = xval.run_cross_validation_nine(fpf_dataset, classifier , feature_columns,'cifno','fpf_target','prob_of_all',3,.3,0,40)"
   ]
  },
  {
   "cell_type": "code",
   "execution_count": 25,
   "metadata": {
    "scrolled": true
   },
   "outputs": [
    {
     "data": {
      "text/html": [
       "<div>\n",
       "<style>\n",
       "    .dataframe thead tr:only-child th {\n",
       "        text-align: right;\n",
       "    }\n",
       "\n",
       "    .dataframe thead th {\n",
       "        text-align: left;\n",
       "    }\n",
       "\n",
       "    .dataframe tbody tr th {\n",
       "        vertical-align: top;\n",
       "    }\n",
       "</style>\n",
       "<table border=\"1\" class=\"dataframe\">\n",
       "  <thead>\n",
       "    <tr style=\"text-align: right;\">\n",
       "      <th></th>\n",
       "      <th>nb_contacts</th>\n",
       "      <th>total_population</th>\n",
       "      <th>total_pos_targets</th>\n",
       "      <th>nb_pos_targets</th>\n",
       "      <th>pos_rate</th>\n",
       "      <th>Percentage_of_pos_targets_found</th>\n",
       "      <th>Percentage_of_Population</th>\n",
       "      <th>Lift</th>\n",
       "    </tr>\n",
       "    <tr>\n",
       "      <th>index</th>\n",
       "      <th></th>\n",
       "      <th></th>\n",
       "      <th></th>\n",
       "      <th></th>\n",
       "      <th></th>\n",
       "      <th></th>\n",
       "      <th></th>\n",
       "      <th></th>\n",
       "    </tr>\n",
       "  </thead>\n",
       "  <tbody>\n",
       "    <tr>\n",
       "      <th>nb_contacts_100</th>\n",
       "      <td>132.333333</td>\n",
       "      <td>5970.0</td>\n",
       "      <td>1321.666667</td>\n",
       "      <td>100.000000</td>\n",
       "      <td>0.756403</td>\n",
       "      <td>0.075665</td>\n",
       "      <td>0.022166</td>\n",
       "      <td>3.417484</td>\n",
       "    </tr>\n",
       "    <tr>\n",
       "      <th>nb_contacts_200</th>\n",
       "      <td>270.666667</td>\n",
       "      <td>5970.0</td>\n",
       "      <td>1321.666667</td>\n",
       "      <td>200.000000</td>\n",
       "      <td>0.739132</td>\n",
       "      <td>0.151330</td>\n",
       "      <td>0.045338</td>\n",
       "      <td>3.339102</td>\n",
       "    </tr>\n",
       "    <tr>\n",
       "      <th>nb_contacts_500</th>\n",
       "      <td>788.000000</td>\n",
       "      <td>5970.0</td>\n",
       "      <td>1321.666667</td>\n",
       "      <td>500.000000</td>\n",
       "      <td>0.634537</td>\n",
       "      <td>0.378325</td>\n",
       "      <td>0.131993</td>\n",
       "      <td>2.866378</td>\n",
       "    </tr>\n",
       "    <tr>\n",
       "      <th>nb_contacts_1000</th>\n",
       "      <td>2431.000000</td>\n",
       "      <td>5970.0</td>\n",
       "      <td>1321.666667</td>\n",
       "      <td>1000.000000</td>\n",
       "      <td>0.411447</td>\n",
       "      <td>0.756651</td>\n",
       "      <td>0.407203</td>\n",
       "      <td>1.858515</td>\n",
       "    </tr>\n",
       "    <tr>\n",
       "      <th>nb_contacts_all</th>\n",
       "      <td>5898.333333</td>\n",
       "      <td>5970.0</td>\n",
       "      <td>1321.666667</td>\n",
       "      <td>1321.666667</td>\n",
       "      <td>0.224090</td>\n",
       "      <td>1.000000</td>\n",
       "      <td>0.987996</td>\n",
       "      <td>1.012210</td>\n",
       "    </tr>\n",
       "    <tr>\n",
       "      <th>nb_contacts_2000</th>\n",
       "      <td>NaN</td>\n",
       "      <td>5970.0</td>\n",
       "      <td>1321.666667</td>\n",
       "      <td>2000.000000</td>\n",
       "      <td>NaN</td>\n",
       "      <td>1.513301</td>\n",
       "      <td>NaN</td>\n",
       "      <td>NaN</td>\n",
       "    </tr>\n",
       "  </tbody>\n",
       "</table>\n",
       "</div>"
      ],
      "text/plain": [
       "                  nb_contacts  total_population  total_pos_targets  \\\n",
       "index                                                                \n",
       "nb_contacts_100    132.333333            5970.0        1321.666667   \n",
       "nb_contacts_200    270.666667            5970.0        1321.666667   \n",
       "nb_contacts_500    788.000000            5970.0        1321.666667   \n",
       "nb_contacts_1000  2431.000000            5970.0        1321.666667   \n",
       "nb_contacts_all   5898.333333            5970.0        1321.666667   \n",
       "nb_contacts_2000          NaN            5970.0        1321.666667   \n",
       "\n",
       "                  nb_pos_targets  pos_rate  Percentage_of_pos_targets_found  \\\n",
       "index                                                                         \n",
       "nb_contacts_100       100.000000  0.756403                         0.075665   \n",
       "nb_contacts_200       200.000000  0.739132                         0.151330   \n",
       "nb_contacts_500       500.000000  0.634537                         0.378325   \n",
       "nb_contacts_1000     1000.000000  0.411447                         0.756651   \n",
       "nb_contacts_all      1321.666667  0.224090                         1.000000   \n",
       "nb_contacts_2000     2000.000000       NaN                         1.513301   \n",
       "\n",
       "                  Percentage_of_Population      Lift  \n",
       "index                                                 \n",
       "nb_contacts_100                   0.022166  3.417484  \n",
       "nb_contacts_200                   0.045338  3.339102  \n",
       "nb_contacts_500                   0.131993  2.866378  \n",
       "nb_contacts_1000                  0.407203  1.858515  \n",
       "nb_contacts_all                   0.987996  1.012210  \n",
       "nb_contacts_2000                       NaN       NaN  "
      ]
     },
     "execution_count": 25,
     "metadata": {},
     "output_type": "execute_result"
    }
   ],
   "source": [
    "nb_calls_cv"
   ]
  },
  {
   "cell_type": "code",
   "execution_count": 30,
   "metadata": {
    "scrolled": true
   },
   "outputs": [],
   "source": [
    "from jllib import feat_imp"
   ]
  },
  {
   "cell_type": "code",
   "execution_count": 29,
   "metadata": {
    "scrolled": true
   },
   "outputs": [
    {
     "data": {
      "image/png": "[encoded data removed]",
      "text/plain": [
       "<matplotlib.figure.Figure at 0x13c14c88>"
      ]
     },
     "metadata": {},
     "output_type": "display_data"
    }
   ],
   "source": [
    "feature_importances['abs_imp'] = feature_importances['mean'].apply(lambda x: abs(x))\n",
    "feature_importances_sort = feature_importances.sort_values(by='abs_imp',ascending=False)\n",
    "feature_importances_sort['relative_imp'] = 100.0 * (feature_importances_sort['abs_imp'] / feature_importances_sort['abs_imp'].max())\n",
    "\n",
    "#feature_importances_sort.to_csv(FEAT_IMP_OUTPUT,index=False)\n",
    "#features_df = feature_importances_sort.copy()\n",
    "\n",
    "feature_importances_sort = feature_importances_sort[::-1].reset_index(drop=True)\n",
    "\n",
    "#feature_importances_sort = feature_importances_sort.tail(50).reset_index(drop=True)\n",
    "\n",
    "plt.figure(figsize=(10, 20))\n",
    "plt.title(\"Feature importances for Model\")\n",
    "plt.barh(feature_importances_sort.index, feature_importances_sort['relative_imp'],\n",
    "         color='#348ABD',align=\"center\", lw='3', edgecolor='#348ABD', alpha=0.6)\n",
    "plt.yticks(feature_importances_sort.index, feature_importances_sort['feature'], fontsize=8,)\n",
    "\n",
    "plt.ylim([-1, feature_importances_sort.index.max()+1])\n",
    "plt.xlim([0, feature_importances_sort['relative_imp'].max()*1.1])\n",
    "\n",
    "plt.show()"
   ]
  },
  {
   "cell_type": "code",
   "execution_count": null,
   "metadata": {
    "collapsed": true
   },
   "outputs": [],
   "source": []
  },
  {
   "cell_type": "code",
   "execution_count": null,
   "metadata": {
    "collapsed": true
   },
   "outputs": [],
   "source": []
  },
  {
   "cell_type": "code",
   "execution_count": 28,
   "metadata": {
    "collapsed": true
   },
   "outputs": [
    {
     "data": {
      "text/plain": [
       "<matplotlib.axes._subplots.AxesSubplot at 0xcd02400>"
      ]
     },
     "execution_count": 28,
     "metadata": {},
     "output_type": "execute_result"
    },
    {
     "data": {
      "image/png": "[encoded data removed]",
      "text/plain": [
       "<matplotlib.figure.Figure at 0xcd02278>"
      ]
     },
     "metadata": {},
     "output_type": "display_data"
    }
   ],
   "source": [
    "plt.figure(figsize=(16,9))\n",
    "sns.distplot(features_df['mean'])"
   ]
  },
  {
   "cell_type": "code",
   "execution_count": 29,
   "metadata": {},
   "outputs": [
    {
     "data": {
      "text/plain": [
       "(array([56, 20,  5,  2,  2,  2,  2,  0,  0,  0,  0,  1,  0,  1,  0,  2,  0,\n",
       "         0,  1,  0,  0,  0,  0,  0,  0,  0,  0,  0,  0,  0,  1,  0,  0,  0,\n",
       "         0,  0,  0,  0,  1,  0,  0,  0,  0,  0,  0,  0,  0,  0,  0,  1], dtype=int64),\n",
       " array([   5.238965  ,    9.1012235 ,   12.96348201,   16.82574051,\n",
       "          20.68799901,   24.55025752,   28.41251602,   32.27477452,\n",
       "          36.13703303,   39.99929153,   43.86155004,   47.72380854,\n",
       "          51.58606704,   55.44832555,   59.31058405,   63.17284255,\n",
       "          67.03510106,   70.89735956,   74.75961806,   78.62187657,\n",
       "          82.48413507,   86.34639357,   90.20865208,   94.07091058,\n",
       "          97.93316909,  101.79542759,  105.65768609,  109.5199446 ,\n",
       "         113.3822031 ,  117.2444616 ,  121.10672011,  124.96897861,\n",
       "         128.83123711,  132.69349562,  136.55575412,  140.41801262,\n",
       "         144.28027113,  148.14252963,  152.00478814,  155.86704664,\n",
       "         159.72930514,  163.59156365,  167.45382215,  171.31608065,\n",
       "         175.17833916,  179.04059766,  182.90285616,  186.76511467,\n",
       "         190.62737317,  194.48963167,  198.35189018]))"
      ]
     },
     "execution_count": 29,
     "metadata": {},
     "output_type": "execute_result"
    }
   ],
   "source": [
    "np.histogram(features_df['mean'],bins=50)"
   ]
  },
  {
   "cell_type": "code",
   "execution_count": null,
   "metadata": {
    "collapsed": true
   },
   "outputs": [],
   "source": [
    "TOP_FEATS = features_df.head(153)['feature'].values.tolist()\n",
    "TOP_FEATS"
   ]
  },
  {
   "cell_type": "markdown",
   "metadata": {},
   "source": [
    "# Create model with all data"
   ]
  },
  {
   "cell_type": "code",
   "execution_count": null,
   "metadata": {
    "collapsed": true
   },
   "outputs": [],
   "source": [
    "fpf_dataset.shape"
   ]
  },
  {
   "cell_type": "code",
   "execution_count": null,
   "metadata": {
    "collapsed": true
   },
   "outputs": [],
   "source": [
    "IDS = ['cifno']\n",
    "ALL_TARGETS = ['fpf_target']"
   ]
  },
  {
   "cell_type": "code",
   "execution_count": null,
   "metadata": {
    "collapsed": true
   },
   "outputs": [],
   "source": [
    "TOP_200_FEAT = classifier.booster().feature_names\n",
    "print len(TOP_200_FEAT)"
   ]
  },
  {
   "cell_type": "code",
   "execution_count": null,
   "metadata": {
    "collapsed": true
   },
   "outputs": [],
   "source": [
    "TOP_200_FEAT "
   ]
  },
  {
   "cell_type": "code",
   "execution_count": null,
   "metadata": {
    "collapsed": true
   },
   "outputs": [],
   "source": [
    "feature_columns = [col for col in TOP_200_FEAT]\n",
    "feature_columns = np.concatenate([IDS, feature_columns])\n",
    "print len(feature_columns)"
   ]
  },
  {
   "cell_type": "code",
   "execution_count": null,
   "metadata": {
    "collapsed": true
   },
   "outputs": [],
   "source": [
    "X_train = fpf_dataset.drop(ALL_TARGETS, axis=1)"
   ]
  },
  {
   "cell_type": "code",
   "execution_count": null,
   "metadata": {
    "collapsed": true
   },
   "outputs": [],
   "source": [
    "print(ALL_TARGETS)\n",
    "\n",
    "for target in ALL_TARGETS:\n",
    "    print(\"target proportion %s\"%target)\n",
    "    print(fpf_dataset[target].mean())\n",
    "    print(fpf_dataset[target].mean())"
   ]
  },
  {
   "cell_type": "code",
   "execution_count": null,
   "metadata": {
    "collapsed": true
   },
   "outputs": [],
   "source": [
    "print('Start TARGETING MODELA CREATION WITH XGB')\n",
    "\n",
    "target = 'fpf_target'\n",
    "\n",
    "clf = xgb.XGBClassifier(objective='binary:logistic',max_depth=6,n_estimators=200, learning_rate=0.05,max_delta_step=1,\n",
    "                        min_child_weight=25, gamma=0.1, scale_pos_weight=1, colsample_bytree=0.85, subsample=0.85,colsample_bylevel=0.85,\n",
    "                        nthread=6, seed=27)\n",
    "\n",
    "#clfbag_targeting = BaggingClassifier(clf, n_estimators=10, max_samples=0.9, max_features=0.9)\n",
    "\n",
    "train_X = X_train[feature_columns].drop(['cifno'], axis=1).reset_index(drop=True)\n",
    "\n",
    "y_train = np.array(fpf_dataset[target].astype(np.uint8))\n",
    "\n",
    "clf.fit(train_X, y_train)\n",
    "\n",
    "\n"
   ]
  },
  {
   "cell_type": "code",
   "execution_count": null,
   "metadata": {
    "collapsed": true
   },
   "outputs": [],
   "source": [
    "MODEL_PKL_OUTPUT"
   ]
  },
  {
   "cell_type": "code",
   "execution_count": null,
   "metadata": {
    "collapsed": true
   },
   "outputs": [],
   "source": [
    "print('STROING MODELA TARGETING MODEL TO PICKLE')\n",
    "joblib.dump(clf,MODEL_PKL_OUTPUT, compress=1)\n",
    "print('DONE!')"
   ]
  },
  {
   "cell_type": "code",
   "execution_count": null,
   "metadata": {
    "collapsed": true
   },
   "outputs": [],
   "source": [
    "feature_importances_data = []\n",
    "features = feature_columns\n",
    "for feature_name, feature_importance in get_importance(clf.booster(), 'gain').iteritems():\n",
    "    feature_importances_data.append({\n",
    "       'feature': feature_name,\n",
    "       'importance': feature_importance\n",
    "    })\n",
    "    \n",
    "feature_importances = pd.DataFrame(feature_importances_data)\n",
    "feature_importances_sort = feature_importances.sort_values(by='importance',ascending=False)\n",
    "feature_importances_top50 = feature_importances_sort[:50][::-1].reset_index(drop=True)"
   ]
  },
  {
   "cell_type": "code",
   "execution_count": null,
   "metadata": {
    "collapsed": true
   },
   "outputs": [],
   "source": [
    "feature_importances['abs_imp'] = feature_importances['importance'].apply(lambda x: abs(x))\n",
    "feature_importances_sort = feature_importances.sort_values(by='abs_imp',ascending=False)\n",
    "feature_importances_sort['relative_imp'] = 100.0 * (feature_importances_sort['abs_imp'] / feature_importances_sort['abs_imp'].max())\n",
    "features_df = feature_importances_sort.copy()\n",
    "\n",
    "feature_importances_sort = feature_importances_sort[::-1].reset_index(drop=True)\n",
    "feature_importances_sort = feature_importances_sort.tail(50).reset_index(drop=True)\n",
    "\n",
    "plt.figure(figsize=(10, 20))\n",
    "plt.title(\"Feature importances for Model\")\n",
    "plt.barh(feature_importances_sort.index, feature_importances_sort['relative_imp'],\n",
    "         color='#348ABD', align=\"center\", lw='3', edgecolor='#348ABD', alpha=0.6)\n",
    "plt.yticks(feature_importances_sort.index, feature_importances_sort['feature'], fontsize=12,)\n",
    "plt.ylim([-1, feature_importances_sort.index.max()+1])\n",
    "plt.xlim([0, feature_importances_sort['relative_imp'].max()*1.1])\n",
    "plt.show()"
   ]
  },
  {
   "cell_type": "code",
   "execution_count": null,
   "metadata": {
    "collapsed": true
   },
   "outputs": [],
   "source": [
    "plt.figure(figsize=(16,9))\n",
    "sns.distplot(features_df['importance'])"
   ]
  },
  {
   "cell_type": "code",
   "execution_count": null,
   "metadata": {
    "collapsed": true
   },
   "outputs": [],
   "source": [
    "np.histogram(feature_importances_top50['importance'],bins=50)"
   ]
  },
  {
   "cell_type": "code",
   "execution_count": null,
   "metadata": {
    "collapsed": true
   },
   "outputs": [],
   "source": []
  },
  {
   "cell_type": "markdown",
   "metadata": {},
   "source": [
    "# FPF Model Apply"
   ]
  },
  {
   "cell_type": "code",
   "execution_count": null,
   "metadata": {
    "collapsed": true
   },
   "outputs": [],
   "source": [
    "APPLY_DATASET"
   ]
  },
  {
   "cell_type": "code",
   "execution_count": null,
   "metadata": {
    "collapsed": true
   },
   "outputs": [],
   "source": [
    "%time fpf_apply_dataset = pd.read_csv(APPLY_DATASET,sep='|')"
   ]
  },
  {
   "cell_type": "code",
   "execution_count": null,
   "metadata": {
    "collapsed": true
   },
   "outputs": [],
   "source": [
    "#fpf_apply_dataset = pd.concat([fpf_1702, fpf_1703]).reset_index(drop=True)\n",
    "fpf_apply_dataset = fpf_1705.copy()"
   ]
  },
  {
   "cell_type": "code",
   "execution_count": null,
   "metadata": {
    "collapsed": true
   },
   "outputs": [],
   "source": [
    "print fpf_apply_dataset.cifno.nunique()\n",
    "print fpf_apply_dataset.shape\n",
    "fpf_apply_dataset = fpf_apply_dataset[fpf_apply_dataset['AVGD']>=1000000].reset_index(drop=True)\n",
    "print fpf_apply_dataset.cifno.nunique()\n",
    "print fpf_apply_dataset.shape"
   ]
  },
  {
   "cell_type": "code",
   "execution_count": null,
   "metadata": {
    "collapsed": true
   },
   "outputs": [],
   "source": []
  },
  {
   "cell_type": "code",
   "execution_count": null,
   "metadata": {
    "collapsed": true
   },
   "outputs": [],
   "source": [
    "UINT8_COLS = ['WEST','nb_accts_sd','health_freq_db_edc','fpf_target','leisure_hobby_freq_db_edc','luxury_freq_db_edc',\n",
    "              'household_freq_db_edc','offus_freq_db_edc','services_freq_db_edc','daily_life_freq_db_edc','vehicle_freq_db_edc',\n",
    "              'T1_bank_ph','T2_bank_ph','T3_bank_ph','T4_bank_ph','T5_bank_ph','T6_bank_ph','T7_bank_ph','T8_bank_ph',\n",
    "              'T9_bank_ph','T10_bank_ph','T11_bank_ph','T12_bank_ph','T13_bank_ph','T14_bank_ph','T15_bank_ph','T16_bank_ph',\n",
    "              'T17_bank_ph','T18_bank_ph','TOTPH_bank_ph','TOT_SAVING_bank_ph',\n",
    "              'CREDITCARD_freq_trxout','EDUCATION_freq_trxout','INSURANCE_freq_trxout','INTERBANKTRANSFER_freq_trxout',\n",
    "              'INTRABANKTRANSFER_freq_trxout','LEASING_freq_trxout','MEDIA_freq_trxout','PDAM_freq_trxout',\n",
    "              'PERSONALLOAN_freq_trxout','PLN_freq_trxout','PULSA_freq_trxout','TICKET_freq_trxout','TVCABLE_freq_trxout',\n",
    "              'ZAKAT_freq_trxout','TSO_AGE'] \n",
    "\n",
    "INT8_COLS = ['delta_days_lm', 'max_vintage_3mth', 'max_vintage_6mth', 'min_vintage_3mth', 'min_vintage_6mth', 'delta_vintage_3mth',\n",
    "            'delta_vintage_6mth', 'maxdt_range_cnts', 'mindt_range_cnts','age_tier','year_addr','year_rel','year_work','depend_nb',\n",
    "            'nb_alop_cc','nb_classic_cc','nb_gold_cc','nb_platinum_cc','nb_signature_cc','total_nb_cc','nb_prioritas_dc',\n",
    "            'nb_silver_dc','nb_gold_dc','nb_platinum_dc','nb_others_dc','total_nb_dc','travel_freq_db_edc','maxdb_num_day',\n",
    "            'maxdb_num_uni_weekday','maxcd_num_uni_weekday','maxdb_day_1_10','maxdb_day_11_20','maxdb_day_21_up','maxcd_num_day',\n",
    "             'maxcd_day_1_10','maxcd_day_11_20','maxcd_day_21_up','delta_range_lm','TSO_LOCATION_01.BBD', \n",
    "             'TSO_CATEGORY_01.TOP GUN','TSO_CATEGORY_02.STRIKER','TSO_CATEGORY_03.PLAYMAKER','TSO_CATEGORY_04.DEFENDER',\n",
    "             'TSO_GENDER_02.MALE','TSO_EDUCATION_01.S2','TSO_EDUCATION_02.S1','TSO_EDUCATION_03.AKADEMI','TSO_EDUCATION_04.SLTA',\n",
    "             'TSO_MARITAL_STATUS_02.MAR'\n",
    "            ]\n",
    "\n",
    "INT16_COLS = ['sum_freq_lm3_db_edc','sum_freq_lm6_db_edc','freq_lm_lm3_diff_db_edc','freq_lm3_lm6_diff_db_edc',\n",
    "              'max_freq_lm3_db_edc','min_freq_lm3_db_edc', 'maxcd_num','maxdb_num','saving_acct_vint_l_bank_ph',\n",
    "              'saving_acct_vint_f_bank_ph','saving_acct_delta_bank_ph', 'all_acct_vint_l_bank_ph','all_acct_vint_f_bank_ph',\n",
    "              'all_acct_delta_bank_ph']\n",
    "\n",
    "UINT16_COLS = ['ib_freq_trxout','mb_freq_trxout','branch_freq_trxout','nm_atm_freq_trxout','m_atm_freq_trxout','mcm_freq_trxout',\n",
    "              'chnl_others_freq_trxout','sum_purchase_freq_trxout','date_org_vintage']\n",
    "\n",
    "INT64_COLS = ['max_bal_3mth', 'max_bal_6mth', 'min_bal_3mth', 'min_bal_6mth', 'eom_3mth', 'eom_6mth', 'sum_end_bal', 'MED_lm', \n",
    "              'QT1_lm', 'QT3_lm', 'D20_lm', 'EOM_lm', 'NOD_lm','MED_lm2','QT1_lm2', 'QT3_lm2',\n",
    "              'MED_lm3', 'QT1_lm3', 'QT3_lm3', 'one_max_delta_bal_3mth','d20_3mth','vol_income']\n",
    "\n",
    "INT8_COLS_FLAG = [col for col in fpf_apply_dataset if 'flag' in col]\n",
    "\n",
    "DUMMIFIED_COLS = ['intuser_fg', 'mbluser_fg', 'prior_fg', 'rsdnt_fg', 'weekday_','gender_id','occp_id','houstyp_id','marital_id',\n",
    "                  'cusedu_id','empinds_id','CALL_START_hour_']\n",
    "\n",
    "INT8_COLS_DUM = [col for col in fpf_apply_dataset for dum in DUMMIFIED_COLS if dum in col]\n",
    "\n",
    "INT8_COLS_ALL = INT8_COLS + INT8_COLS_FLAG + INT8_COLS_DUM\n",
    "\n",
    "print 'change data types to reduce memory usage'\n",
    "for col in UINT8_COLS:\n",
    "    fpf_apply_dataset[col] = fpf_apply_dataset[col].astype(np.uint8)\n",
    "    \n",
    "for col in INT8_COLS_ALL:\n",
    "    fpf_apply_dataset[col] = fpf_apply_dataset[col].astype(np.int8)\n",
    "    \n",
    "for col in INT16_COLS:\n",
    "    fpf_apply_dataset[col] = fpf_apply_dataset[col].astype(np.int16)\n",
    "\n",
    "for col in UINT16_COLS:\n",
    "    fpf_apply_dataset[col] = fpf_apply_dataset[col].astype(np.uint16)\n",
    "\n",
    "for col in INT64_COLS:\n",
    "    fpf_apply_dataset[col] = fpf_apply_dataset[col].astype(np.int64)"
   ]
  },
  {
   "cell_type": "markdown",
   "metadata": {},
   "source": [
    "# Start applying"
   ]
  },
  {
   "cell_type": "code",
   "execution_count": null,
   "metadata": {
    "collapsed": true
   },
   "outputs": [],
   "source": [
    "%time fpf_apply_dataset = process_numeric(fpf_apply_dataset)\n",
    "%time fpf_apply_dataset = process_float(fpf_apply_dataset)"
   ]
  },
  {
   "cell_type": "code",
   "execution_count": null,
   "metadata": {
    "collapsed": true
   },
   "outputs": [],
   "source": [
    "MODEL_PKL_OUTPUT"
   ]
  },
  {
   "cell_type": "code",
   "execution_count": null,
   "metadata": {
    "collapsed": true
   },
   "outputs": [],
   "source": [
    "clf = joblib.load(MODEL_PKL_OUTPUT)"
   ]
  },
  {
   "cell_type": "code",
   "execution_count": null,
   "metadata": {
    "collapsed": true,
    "scrolled": true
   },
   "outputs": [],
   "source": [
    "clf"
   ]
  },
  {
   "cell_type": "code",
   "execution_count": null,
   "metadata": {
    "collapsed": true
   },
   "outputs": [],
   "source": [
    "TOP_200_FEAT = clf.booster().feature_names\n",
    "print len(TOP_200_FEAT)"
   ]
  },
  {
   "cell_type": "code",
   "execution_count": null,
   "metadata": {
    "collapsed": true
   },
   "outputs": [],
   "source": [
    "TOP_200_FEAT"
   ]
  },
  {
   "cell_type": "code",
   "execution_count": null,
   "metadata": {
    "collapsed": true
   },
   "outputs": [],
   "source": [
    "IDS = ['cifno']\n",
    "ALL_TARGETS = ['fpf_target']\n",
    "\n",
    "feature_columns = [col for col in TOP_200_FEAT]\n",
    "feature_columns = np.concatenate([IDS, feature_columns])\n",
    "print len(feature_columns)"
   ]
  },
  {
   "cell_type": "code",
   "execution_count": null,
   "metadata": {
    "collapsed": true
   },
   "outputs": [],
   "source": [
    "print(ALL_TARGETS)\n",
    "\n",
    "for target in ALL_TARGETS:\n",
    "    print(\"target proportion %s\"%target)\n",
    "    print(fpf_apply_dataset[target].sum())\n",
    "    print(fpf_apply_dataset[target].mean())"
   ]
  },
  {
   "cell_type": "code",
   "execution_count": null,
   "metadata": {
    "collapsed": true
   },
   "outputs": [],
   "source": [
    "fpf_apply_dataset.shape"
   ]
  },
  {
   "cell_type": "markdown",
   "metadata": {},
   "source": [
    "# XGB Apply Stack Split(1702,03)"
   ]
  },
  {
   "cell_type": "code",
   "execution_count": null,
   "metadata": {
    "collapsed": true
   },
   "outputs": [],
   "source": [
    "temp = fpf_apply_dataset[['cifno', 'fpf_target']].copy()\n",
    "results_cv_targeting = pd.DataFrame([], columns=['cifno', 'fpf_target', 'proba_fpf_target'])\n",
    "nb_calls_cv = pd.DataFrame([], columns=['nb_contacts', 'total_population', 'total_X_sellers', 'nb_Xsellers',\n",
    "                                            'Xsell_rate','Percentage_of_Xseller_found', 'Percentage_of_Population', 'Lift'])\n",
    "\n",
    "print('Start Model applying')\n",
    "\n",
    "target='fpf_target'\n",
    "\n",
    "\n",
    "test_X = fpf_apply_dataset[feature_columns].drop(['cifno'], axis=1).reset_index(drop=True)\n",
    "\n",
    "y_test = np.array(fpf_apply_dataset[target].astype(np.uint8))\n",
    "\n",
    "_probas = clf.predict_proba(test_X)\n",
    "#_predict = clf.predict(test_X)\n",
    "\n",
    "print(\"ROC AUC SCORE\\t:\\t\" + str(roc_auc_score(y_test, _probas[:, 1])))\n",
    "print(\"ACCURACY SCORE\\t:\\t\" + str(accuracy_score(y_test, _probas[:, 1].astype(np.uint8))))\n",
    "\n",
    "##add feature importance\n",
    "#feat_imp = pd.Series(clf.booster().get_fscore()).sort_values(ascending=True)\n",
    "\n",
    "proba = _probas[:, 1]\n",
    "\n",
    "cols = ['proba_' + target]\n",
    "\n",
    "proba_df = pd.DataFrame(data=proba, index=fpf_apply_dataset[feature_columns].index, columns=cols)\n",
    "#results_test = pd.concat([results_test, proba_df], axis=1)\n",
    "\n",
    "temp = temp.join(proba_df, how='left')\n",
    "results_cv_targeting = results_cv_targeting.append(temp)\n",
    "\n",
    "# Calculate nb calls to make\n",
    "nb_calls = temp[['fpf_target', 'proba_fpf_target']].copy()\n",
    "nb_calls = nb_calls.sort_values(by='proba_fpf_target', ascending=False).reset_index(drop=True)\n",
    "nb_calls['cum_Xsellers'] = np.cumsum(nb_calls.fpf_target)\n",
    "nb_calls = nb_calls.reset_index(drop=False)\n",
    "nb_calls = nb_calls.rename(columns={'index': 'rank'})\n",
    "test_results = nb_calls.copy()\n",
    "nb_calls['nb_calls_100'] = nb_calls.loc[nb_calls.cum_Xsellers == 100, 'rank'].min()\n",
    "nb_calls['nb_calls_200'] = nb_calls.loc[nb_calls.cum_Xsellers == 200, 'rank'].min()\n",
    "nb_calls['nb_calls_928'] = nb_calls.loc[nb_calls.cum_Xsellers == 928, 'rank'].min()\n",
    "nb_calls['nb_calls_1856'] = nb_calls.loc[nb_calls.cum_Xsellers == 1856, 'rank'].min()\n",
    "nb_calls['nb_calls_2784'] = nb_calls.loc[nb_calls.cum_Xsellers == 2784, 'rank'].min()\n",
    "#nb_calls['nb_calls_2000'] = nb_calls.loc[nb_calls.cum_Xsellers == 2000, 'rank'].min()\n",
    "#nb_calls['nb_calls_3000'] = nb_calls.loc[nb_calls.cum_Xsellers == 3000, 'rank'].min()\n",
    "nb_calls['nb_calls_all'] = nb_calls.loc[nb_calls.cum_Xsellers == nb_calls.cum_Xsellers.max(), 'rank'].min()\n",
    "nb_calls = nb_calls[\n",
    "    ['nb_calls_100', 'nb_calls_200', 'nb_calls_928', 'nb_calls_1856','nb_calls_2784',\n",
    "     'nb_calls_all']].min()\n",
    "nb_calls = pd.DataFrame(nb_calls, columns=['nb_contacts'])\n",
    "nb_calls['total_population'] = temp.shape[0]\n",
    "nb_calls['total_X_sellers'] = temp.fpf_target.sum()\n",
    "nb_calls['nb_Xsellers'] = [100, 200, 928, 1856,2784, temp.fpf_target.sum()]\n",
    "nb_calls['Xsell_rate'] = nb_calls.nb_Xsellers / nb_calls.nb_contacts\n",
    "nb_calls['Percentage_of_Xseller_found'] = nb_calls.nb_Xsellers / nb_calls.total_X_sellers\n",
    "nb_calls['Percentage_of_Population'] = nb_calls.nb_contacts / nb_calls.total_population\n",
    "nb_calls['Lift'] = nb_calls.Percentage_of_Xseller_found / nb_calls.Percentage_of_Population\n",
    "\n",
    "nb_calls_cv = nb_calls_cv.append(nb_calls)\n",
    "\n",
    "\n",
    "nb_calls_cv = nb_calls_cv.reset_index().groupby('index').mean().sort_values(by='nb_Xsellers')\n",
    "results_cv_targeting = results_cv_targeting.reset_index(drop=True)\n",
    "\n",
    "nb_calls_cv"
   ]
  },
  {
   "cell_type": "code",
   "execution_count": null,
   "metadata": {
    "collapsed": true
   },
   "outputs": [],
   "source": [
    "# Plot calibration plots\n",
    "fraction_of_positives, mean_predicted_value = calibration_curve(y_test, proba, n_bins=10)\n",
    "plt.plot(mean_predicted_value, fraction_of_positives, \"s-\")\n",
    "plt.plot([0, 1], [0, 1], \"k--\", label=\"Perfectly calibrated\")\n",
    "plt.ylabel(\"Fraction of positives\")\n",
    "plt.xlabel(\"Mean predicted value\")\n",
    "plt.ylim([-0.05, 1.05])\n",
    "plt.legend(loc=\"lower right\")\n",
    "plt.title('Calibration plots  (reliability curve)')\n",
    "plt.grid(True)\n"
   ]
  },
  {
   "cell_type": "code",
   "execution_count": null,
   "metadata": {
    "collapsed": true
   },
   "outputs": [],
   "source": [
    "print fraction_of_positives\n",
    "print mean_predicted_value"
   ]
  },
  {
   "cell_type": "code",
   "execution_count": null,
   "metadata": {
    "collapsed": true,
    "scrolled": true
   },
   "outputs": [],
   "source": [
    "#proba distribution for all customers\n",
    "\n",
    "plt.hist(results_cv_targeting.proba_fpf_target, range=(0, 1), bins=100, label=\"proba distribution\", histtype=\"step\", lw=2)\n",
    "plt.xlabel(\"Mean predicted value\")\n",
    "plt.ylabel(\"Count\")\n",
    "#plt.legend(loc=\"upper right\", ncol=2)\n",
    "plt.grid(True)\n",
    "\n",
    "plt.show()"
   ]
  },
  {
   "cell_type": "markdown",
   "metadata": {},
   "source": [
    "# ICE PLOT"
   ]
  },
  {
   "cell_type": "code",
   "execution_count": null,
   "metadata": {
    "collapsed": true
   },
   "outputs": [],
   "source": [
    "from iceplot import ice"
   ]
  },
  {
   "cell_type": "code",
   "execution_count": null,
   "metadata": {
    "collapsed": true
   },
   "outputs": [],
   "source": [
    "features = clf.booster().feature_names\n",
    "print len(features)"
   ]
  },
  {
   "cell_type": "code",
   "execution_count": null,
   "metadata": {
    "collapsed": true
   },
   "outputs": [],
   "source": [
    "train_data = train_X[features]"
   ]
  },
  {
   "cell_type": "code",
   "execution_count": null,
   "metadata": {
    "collapsed": true
   },
   "outputs": [],
   "source": [
    "train_data.EOMD_loan"
   ]
  },
  {
   "cell_type": "code",
   "execution_count": null,
   "metadata": {
    "collapsed": true,
    "scrolled": true
   },
   "outputs": [],
   "source": [
    "%time EOMD_loan = ice.ice(clf, train_data[features], 'EOMD_loan', 'numeric', center=True, num_grid_points=10)\n",
    "ice.ice_random_plot(EOMD_loan, 'EOMD_loan', frac_to_plot=1000, plot_pdp=True, figsize=(16, 9))"
   ]
  },
  {
   "cell_type": "code",
   "execution_count": null,
   "metadata": {
    "collapsed": true
   },
   "outputs": [],
   "source": [
    "%time EOM_lm_loan_C = ice.ice(clf, train_data[features], 'EOM_lm_loan_C', 'binary', center=True)\n",
    "ice.ice_random_plot(EOM_lm_loan_C, 'EOM_lm_loan_C', frac_to_plot=5000, plot_pdp=True, figsize=(16, 9))"
   ]
  },
  {
   "cell_type": "code",
   "execution_count": null,
   "metadata": {
    "collapsed": true
   },
   "outputs": [],
   "source": [
    "%time ratio_micro_saving = ice.ice(clf, train_data[features], 'ratio_micro_saving', 'numeric', center=True, num_grid_points=10)\n",
    "ice.ice_random_plot(ratio_micro_saving, 'ratio_micro_saving', frac_to_plot=1000, plot_pdp=True, figsize=(16, 9))"
   ]
  },
  {
   "cell_type": "code",
   "execution_count": null,
   "metadata": {
    "collapsed": true
   },
   "outputs": [],
   "source": [
    "%time LOANALL_bank_ph = ice.ice(clf, train_data[features], 'LOANALL_bank_ph', 'numeric', center=True, num_grid_points=10)\n",
    "ice.ice_random_plot(LOANALL_bank_ph, 'LOANALL_bank_ph', frac_to_plot=1000, plot_pdp=True, figsize=(16, 9))"
   ]
  },
  {
   "cell_type": "code",
   "execution_count": null,
   "metadata": {
    "collapsed": true
   },
   "outputs": [],
   "source": [
    "%time EOM_lm_loan = ice.ice(clf, train_data[features], 'EOM_lm_loan', 'numeric', center=True, num_grid_points=10)\n",
    "ice.ice_random_plot(EOM_lm_loan, 'EOM_lm_loan', frac_to_plot=1000, plot_pdp=True, figsize=(16, 9))"
   ]
  },
  {
   "cell_type": "code",
   "execution_count": null,
   "metadata": {
    "collapsed": true
   },
   "outputs": [],
   "source": [
    "%time TOT_UNDEBIT_SAVING = ice.ice(clf, train_data[features], 'TOT_UNDEBIT_SAVING', 'numeric', center=True, num_grid_points=10)\n",
    "ice.ice_random_plot(TOT_UNDEBIT_SAVING, 'TOT_UNDEBIT_SAVING', frac_to_plot=1000, plot_pdp=True, figsize=(16, 9))"
   ]
  },
  {
   "cell_type": "code",
   "execution_count": null,
   "metadata": {
    "collapsed": true
   },
   "outputs": [],
   "source": [
    "%time loan_to_debit = ice.ice(clf, train_data[features], 'loan_to_debit', 'numeric', center=True, num_grid_points=10)\n",
    "ice.ice_random_plot(loan_to_debit, 'loan_to_debit', frac_to_plot=1000, plot_pdp=True, figsize=(16, 9))"
   ]
  },
  {
   "cell_type": "code",
   "execution_count": null,
   "metadata": {
    "collapsed": true
   },
   "outputs": [],
   "source": [
    "%time maxcd_num_uni_weekday = ice.ice(clf, train_data[features], 'maxcd_num_uni_weekday', 'numeric', center=True, num_grid_points=10)\n",
    "ice.ice_random_plot(maxcd_num_uni_weekday, 'maxcd_num_uni_weekday', frac_to_plot=1000, plot_pdp=True, figsize=(16, 9))"
   ]
  },
  {
   "cell_type": "code",
   "execution_count": null,
   "metadata": {
    "collapsed": true
   },
   "outputs": [],
   "source": [
    "%time maxcd_num = ice.ice(clf, train_data[features], 'maxcd_num', 'numeric', center=True, num_grid_points=10)\n",
    "ice.ice_random_plot(maxcd_num, 'maxcd_num', frac_to_plot=1000, plot_pdp=True, figsize=(16, 9))"
   ]
  },
  {
   "cell_type": "code",
   "execution_count": null,
   "metadata": {
    "collapsed": true
   },
   "outputs": [],
   "source": [
    "%time maxcd_num_day = ice.ice(clf, train_data[features], 'maxcd_num_day', 'numeric', center=True, num_grid_points=10)\n",
    "ice.ice_random_plot(maxcd_num_day, 'maxcd_num_day', frac_to_plot=1000, plot_pdp=True, figsize=(16, 9))"
   ]
  },
  {
   "cell_type": "code",
   "execution_count": null,
   "metadata": {
    "collapsed": true
   },
   "outputs": [],
   "source": [
    "#government employee\n",
    "%time occp_id_PNS = ice.ice(clf, train_data[features], 'occp_id_PNS', 'binary', center=True)\n",
    "ice.ice_random_plot(occp_id_PNS, 'occp_id_PNS', frac_to_plot=1000, plot_pdp=True, figsize=(16, 9))"
   ]
  }
 ],
 "metadata": {
  "anaconda-cloud": {},
  "kernelspec": {
   "display_name": "Python 2",
   "language": "python",
   "name": "python2"
  },
  "language_info": {
   "codemirror_mode": {
    "name": "ipython",
    "version": 2
   },
   "file_extension": ".py",
   "mimetype": "text/x-python",
   "name": "python",
   "nbconvert_exporter": "python",
   "pygments_lexer": "ipython2",
   "version": "2.7.14"
  }
 },
 "nbformat": 4,
 "nbformat_minor": 1
}
