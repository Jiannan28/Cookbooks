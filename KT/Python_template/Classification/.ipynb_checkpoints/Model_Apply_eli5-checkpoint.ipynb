{
 "cells": [
  {
   "cell_type": "markdown",
   "metadata": {},
   "source": [
    "# <center>Data Science Training</center>\n",
    "<center><b>Model Apply Template</b><br>\n",
    "Applying final model on refreshed dataset for leads generation</center>"
   ]
  },
  {
   "cell_type": "markdown",
   "metadata": {},
   "source": [
    "## Importing packages"
   ]
  },
  {
   "cell_type": "code",
   "execution_count": 1,
   "metadata": {},
   "outputs": [
    {
     "name": "stderr",
     "output_type": "stream",
     "text": [
      "C:\\ProgramData\\Anaconda2\\lib\\site-packages\\sklearn\\cross_validation.py:41: DeprecationWarning: This module was deprecated in version 0.18 in favor of the model_selection module into which all the refactored classes and functions are moved. Also note that the interface of the new CV iterators are different from that of this module. This module will be removed in 0.20.\n",
      "  \"This module will be removed in 0.20.\", DeprecationWarning)\n"
     ]
    }
   ],
   "source": [
    "import numpy as np\n",
    "import pandas as pd\n",
    "import sklearn as sk\n",
    "from sklearn.externals import joblib\n",
    "import xgboost as xgb\n",
    "\n",
    "%matplotlib inline\n",
    "import matplotlib.pyplot as plt\n",
    "from jllib import viz\n",
    "\n",
    "from __future__ import print_function\n",
    "import eli5\n",
    "from eli5 import show_prediction, show_weights"
   ]
  },
  {
   "cell_type": "markdown",
   "metadata": {},
   "source": [
    "## Define parameter"
   ]
  },
  {
   "cell_type": "raw",
   "metadata": {
    "collapsed": true
   },
   "source": [
    "INPUT_PATH = \"path saving your leads to score dataset\"\n",
    "FILE_SEP = \"input file separator, pipe for example\"\n",
    "ID = 'row id (for example customer id)'\n",
    "MODEL_PATH = 'path the model pickle file is stored'\n",
    "PRED_PROBA = 'column name to store preidction score' # column contains the prediction score\n",
    "OUTPUT_PATH = 'output file name to save leads prediction results'"
   ]
  },
  {
   "cell_type": "code",
   "execution_count": 2,
   "metadata": {
    "collapsed": true
   },
   "outputs": [],
   "source": [
    "INPUT_PATH = 'C:\\Users\\liuleo\\Documents\\KT\\Python_template\\Classification\\exa_dataset.csv' #\"path saving your model building dataset\"\n",
    "FILE_SEP = '|' #\"input file separator, pipe for example\"\n",
    "TARGET = 'm_target' #'name of the column for classification target'\n",
    "ID = 'custid'#'row id (for example customer id)'\n",
    "MODEL_PATH = 'C://Users/liuleo/Documents/KT/Python_template/Classification/test.pkl' #'path the model pickle file is stored'\n",
    "PRED_PROBA = 'm_target_proba'#'column name to store preidction score'\n",
    "OUTPUT_PATH = 'C://Users/liuleo/Documents/KT/Python_template/Classification/test_output.csv' #'output file name to save leads prediction results'"
   ]
  },
  {
   "cell_type": "markdown",
   "metadata": {},
   "source": [
    "## Read file"
   ]
  },
  {
   "cell_type": "code",
   "execution_count": 3,
   "metadata": {
    "collapsed": true
   },
   "outputs": [],
   "source": [
    "df = pd.read_csv(INPUT_PATH,sep=FILE_SEP,na_values=[\"\\N\", \"NULL\"])"
   ]
  },
  {
   "cell_type": "markdown",
   "metadata": {},
   "source": [
    "## Get Feature columns"
   ]
  },
  {
   "cell_type": "code",
   "execution_count": 4,
   "metadata": {},
   "outputs": [
    {
     "name": "stdout",
     "output_type": "stream",
     "text": [
      "number of features to use 99\n"
     ]
    }
   ],
   "source": [
    "feature_columns = [x for x in df.columns if (x not in [ID,TARGET])] # Leads to apply, in real scenario we won't get target, here for test purpose, we can add TARGET\n",
    "print(\"number of features to use {}\".format(len(feature_columns)))"
   ]
  },
  {
   "cell_type": "markdown",
   "metadata": {
    "collapsed": true
   },
   "source": [
    "## Apply final model on leads"
   ]
  },
  {
   "cell_type": "code",
   "execution_count": 5,
   "metadata": {},
   "outputs": [
    {
     "name": "stdout",
     "output_type": "stream",
     "text": [
      "READING MODEL PICKLE\n"
     ]
    }
   ],
   "source": [
    "print('READING MODEL PICKLE')\n",
    "clf = joblib.load(MODEL_PATH)"
   ]
  },
  {
   "cell_type": "code",
   "execution_count": 6,
   "metadata": {
    "scrolled": true
   },
   "outputs": [
    {
     "name": "stdout",
     "output_type": "stream",
     "text": [
      "APPLY PREDICTING MODEL\n",
      "APPLY Finished\n"
     ]
    }
   ],
   "source": [
    "print('APPLY PREDICTING MODEL')\n",
    "\n",
    "results = df.copy() #df[[ID,TARGET]].copy()\n",
    "\n",
    "test_X = df[feature_columns]\n",
    "_probas = clf.predict_proba(test_X)\n",
    "\n",
    "proba = _probas[:, 1]\n",
    "proba_df = pd.DataFrame(data=proba, index=df[feature_columns].index, columns=[PRED_PROBA])\n",
    "results = pd.concat([results, proba_df], axis=1)\n",
    "\n",
    "print('APPLY Finished')"
   ]
  },
  {
   "cell_type": "code",
   "execution_count": 7,
   "metadata": {
    "scrolled": true
   },
   "outputs": [
    {
     "data": {
      "image/png": "[encoded data removed]",
      "text/plain": [
       "<matplotlib.figure.Figure at 0x506b5c0>"
      ]
     },
     "metadata": {},
     "output_type": "display_data"
    }
   ],
   "source": [
    "#proba distribution for all leads\n",
    "viz.plot_dist(results[PRED_PROBA])"
   ]
  },
  {
   "cell_type": "markdown",
   "metadata": {},
   "source": [
    "## Save prediction results to a file"
   ]
  },
  {
   "cell_type": "raw",
   "metadata": {
    "collapsed": true
   },
   "source": [
    "results.to_csv(OUTPUT_PATH, sep=FILE_SEP, index=False)"
   ]
  },
  {
   "cell_type": "markdown",
   "metadata": {},
   "source": [
    "## Eli5"
   ]
  },
  {
   "cell_type": "markdown",
   "metadata": {},
   "source": [
    "Interprete ML models "
   ]
  },
  {
   "cell_type": "code",
   "execution_count": 12,
   "metadata": {
    "collapsed": true
   },
   "outputs": [],
   "source": [
    "import eli5"
   ]
  },
  {
   "cell_type": "code",
   "execution_count": 15,
   "metadata": {
    "collapsed": true
   },
   "outputs": [],
   "source": [
    "get = results[results['custid']==19005675740].reset_index(drop=True)"
   ]
  },
  {
   "cell_type": "code",
   "execution_count": null,
   "metadata": {
    "collapsed": true
   },
   "outputs": [],
   "source": []
  },
  {
   "cell_type": "code",
   "execution_count": null,
   "metadata": {
    "collapsed": true
   },
   "outputs": [],
   "source": []
  },
  {
   "cell_type": "code",
   "execution_count": null,
   "metadata": {
    "collapsed": true
   },
   "outputs": [],
   "source": []
  },
  {
   "cell_type": "code",
   "execution_count": null,
   "metadata": {
    "collapsed": true
   },
   "outputs": [],
   "source": [
    "df['custid'] = df['custid'].astype(np.int64)"
   ]
  },
  {
   "cell_type": "code",
   "execution_count": null,
   "metadata": {
    "collapsed": true
   },
   "outputs": [],
   "source": [
    "get = df[df['custid']==1000202473].reset_index(drop=True)\n",
    "exps = eli5.explain_prediction(clf, get[clf.booster().feature_names].iloc[0], top=20)\n",
    "score_explain = eli5.format_as_html(exps, show=('targets', 'feature_importances'), show_feature_values=True)"
   ]
  },
  {
   "cell_type": "code",
   "execution_count": null,
   "metadata": {},
   "outputs": [],
   "source": [
    "show_prediction(clf, get[clf.booster().feature_names].iloc[0],top=20,show_feature_values=True)"
   ]
  },
  {
   "cell_type": "code",
   "execution_count": null,
   "metadata": {
    "collapsed": true
   },
   "outputs": [],
   "source": [
    "from IPython.core.display import display, HTML\n",
    "\n",
    "display(HTML(score_explain))"
   ]
  }
 ],
 "metadata": {
  "kernelspec": {
   "display_name": "Python 2",
   "language": "python",
   "name": "python2"
  },
  "language_info": {
   "codemirror_mode": {
    "name": "ipython",
    "version": 2
   },
   "file_extension": ".py",
   "mimetype": "text/x-python",
   "name": "python",
   "nbconvert_exporter": "python",
   "pygments_lexer": "ipython2",
   "version": "2.7.14"
  }
 },
 "nbformat": 4,
 "nbformat_minor": 1
}
