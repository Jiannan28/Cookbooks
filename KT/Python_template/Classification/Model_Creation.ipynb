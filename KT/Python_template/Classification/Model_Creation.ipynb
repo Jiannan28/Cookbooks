{
 "cells": [
  {
   "cell_type": "markdown",
   "metadata": {},
   "source": [
    "# <center>Data Science Training</center>\n",
    "<center><b>Model Creation Template</b><br>\n",
    "Creating final Xgboost Classification Model for results applying</center>"
   ]
  },
  {
   "cell_type": "markdown",
   "metadata": {},
   "source": [
    "## Import packages"
   ]
  },
  {
   "cell_type": "code",
   "execution_count": 1,
   "metadata": {},
   "outputs": [
    {
     "name": "stderr",
     "output_type": "stream",
     "text": [
      "C:\\ProgramData\\Anaconda2\\lib\\site-packages\\sklearn\\cross_validation.py:41: DeprecationWarning: This module was deprecated in version 0.18 in favor of the model_selection module into which all the refactored classes and functions are moved. Also note that the interface of the new CV iterators are different from that of this module. This module will be removed in 0.20.\n",
      "  \"This module will be removed in 0.20.\", DeprecationWarning)\n"
     ]
    }
   ],
   "source": [
    "import numpy as np\n",
    "import pandas as pd\n",
    "\n",
    "import sklearn as sk\n",
    "from sklearn.ensemble import BaggingClassifier \n",
    "from sklearn.externals import joblib\n",
    "import xgboost as xgb\n",
    "from jllib import feat_imp\n",
    "\n",
    "from __future__ import print_function"
   ]
  },
  {
   "cell_type": "markdown",
   "metadata": {},
   "source": [
    "## Define parameters"
   ]
  },
  {
   "cell_type": "raw",
   "metadata": {
    "collapsed": true
   },
   "source": [
    "INPUT_PATH = \"path saving your model building dataset\"\n",
    "FILE_SEP = \"input file separator, pipe for example\"\n",
    "TARGET = 'name of the column for classification target'\n",
    "ID = 'row id (for example customer id)'\n",
    "MODEL_PATH = 'path the model pickle file is stored'"
   ]
  },
  {
   "cell_type": "code",
   "execution_count": 2,
   "metadata": {
    "collapsed": true
   },
   "outputs": [],
   "source": [
    "INPUT_PATH = 'C:\\Users\\liuleo\\Documents\\KT\\Python_template\\Classification\\exa_dataset.csv' #\"path saving your model building dataset\"\n",
    "FILE_SEP = '|' #\"input file separator, pipe for example\"\n",
    "TARGET = 'm_target' #'name of the column for classification target'\n",
    "ID = 'custid'#'row id (for example customer id)'\n",
    "MODEL_PATH = 'C://Users/liuleo/Documents/KT/Python_template/Classification/test.pkl' #'path the model pickle file is stored'"
   ]
  },
  {
   "cell_type": "markdown",
   "metadata": {},
   "source": [
    "## Read file"
   ]
  },
  {
   "cell_type": "code",
   "execution_count": 3,
   "metadata": {
    "collapsed": true
   },
   "outputs": [],
   "source": [
    "df = pd.read_csv(INPUT_PATH, sep=FILE_SEP, na_values=[\"\\N\", \"NULL\"])"
   ]
  },
  {
   "cell_type": "markdown",
   "metadata": {},
   "source": [
    "## Get feature columns"
   ]
  },
  {
   "cell_type": "code",
   "execution_count": 4,
   "metadata": {},
   "outputs": [
    {
     "name": "stdout",
     "output_type": "stream",
     "text": [
      "number of features to use 99\n"
     ]
    }
   ],
   "source": [
    "feature_columns = [x for x in df.columns if (x not in [TARGET, ID])]\n",
    "print(\"number of features to use {}\".format(len(feature_columns)))"
   ]
  },
  {
   "cell_type": "markdown",
   "metadata": {},
   "source": [
    "## Check target percentage in population"
   ]
  },
  {
   "cell_type": "code",
   "execution_count": 5,
   "metadata": {
    "collapsed": true
   },
   "outputs": [],
   "source": [
    "X_train = df.drop(TARGET, axis=1)"
   ]
  },
  {
   "cell_type": "code",
   "execution_count": 6,
   "metadata": {},
   "outputs": [
    {
     "name": "stdout",
     "output_type": "stream",
     "text": [
      "m_target\n",
      "target proportion m_target\n",
      "4395\n",
      "0.220876469997\n"
     ]
    }
   ],
   "source": [
    "print(TARGET)\n",
    "print(\"target proportion %s\"%TARGET)\n",
    "print(df[TARGET].sum())\n",
    "print(df[TARGET].mean())"
   ]
  },
  {
   "cell_type": "markdown",
   "metadata": {
    "collapsed": true
   },
   "source": [
    "## Create targeting model and store it as pickle object"
   ]
  },
  {
   "cell_type": "code",
   "execution_count": 7,
   "metadata": {},
   "outputs": [
    {
     "name": "stdout",
     "output_type": "stream",
     "text": [
      "Start TARGETING MODELA CREATION WITH BAGGING OF XGB\n",
      "STROING MODELA TARGETING MODEL TO PICKLE\n",
      "DONE!\n"
     ]
    }
   ],
   "source": [
    "print('Start TARGETING MODELA CREATION WITH BAGGING OF XGB')\n",
    "\n",
    "clf = xgb.XGBClassifier(objective='binary:logistic', max_depth=6, n_estimators=50, learning_rate=0.05,\n",
    "                        max_delta_step=1, min_child_weight=25, gamma=0.1, scale_pos_weight=0.85, colsample_bytree=0.85,\n",
    "                        subsample=0.85, colsample_bylevel=1, nthread=10, seed=27)\n",
    "\n",
    "#clfbag_targeting = BaggingClassifier(clf, n_estimators=10, max_samples=0.9, max_features=0.9)\n",
    "\n",
    "train_X = X_train[feature_columns] #.drop([ID], axis=1).reset_index(drop=True)\n",
    "y_train = np.array(df[TARGET].astype(np.uint8))\n",
    "\n",
    "clf.fit(train_X, y_train)\n",
    "\n",
    "print('STROING MODELA TARGETING MODEL TO PICKLE')\n",
    "joblib.dump(clf, MODEL_PATH, compress=1)\n",
    "print('DONE!')"
   ]
  },
  {
   "cell_type": "markdown",
   "metadata": {},
   "source": [
    "## Get Feature Importance"
   ]
  },
  {
   "cell_type": "markdown",
   "metadata": {},
   "source": [
    "To have an idea the final model feature importance compared with model tuning phase"
   ]
  },
  {
   "cell_type": "code",
   "execution_count": null,
   "metadata": {
    "collapsed": true
   },
   "outputs": [],
   "source": []
  },
  {
   "cell_type": "code",
   "execution_count": 8,
   "metadata": {},
   "outputs": [
    {
     "data": {
      "image/png": "[encoded data removed]",
      "text/plain": [
       "<matplotlib.figure.Figure at 0xc62eac8>"
      ]
     },
     "metadata": {},
     "output_type": "display_data"
    }
   ],
   "source": [
    "feat_imp_sort_df = feat_imp.feat_imp_xgb(clf, feature_columns)"
   ]
  }
 ],
 "metadata": {
  "kernelspec": {
   "display_name": "Python 2",
   "language": "python",
   "name": "python2"
  },
  "language_info": {
   "codemirror_mode": {
    "name": "ipython",
    "version": 2
   },
   "file_extension": ".py",
   "mimetype": "text/x-python",
   "name": "python",
   "nbconvert_exporter": "python",
   "pygments_lexer": "ipython2",
   "version": "2.7.14"
  }
 },
 "nbformat": 4,
 "nbformat_minor": 1
}
